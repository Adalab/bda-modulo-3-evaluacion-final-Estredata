{
 "cells": [
  {
   "cell_type": "code",
   "execution_count": 1,
   "metadata": {},
   "outputs": [],
   "source": [
    "# importamos las librerías que necesitamos\n",
    "\n",
    "# Tratamiento de datos\n",
    "# -----------------------------------------------------------------------\n",
    "import pandas as pd\n",
    "import numpy as np\n",
    "\n",
    "# Visualización\n",
    "# ------------------------------------------------------------------------------\n",
    "import matplotlib.pyplot as plt\n",
    "import seaborn as sns\n",
    "\n",
    "# Evaluar linealidad de las relaciones entre las variables\n",
    "# y la distribución de las variables\n",
    "# ------------------------------------------------------------------------------\n",
    "import scipy.stats as stats\n",
    "from scipy.stats import chi2_contingency, ttest_ind\n",
    "\n",
    "# Configuración\n",
    "# -----------------------------------------------------------------------\n",
    "pd.set_option('display.max_columns', None) # para poder visualizar todas las columnas de los DataFrames\n",
    "\n",
    "# Gestión de los warnings\n",
    "# -----------------------------------------------------------------------\n",
    "import warnings\n",
    "warnings.filterwarnings(\"ignore\")"
   ]
  },
  {
   "cell_type": "code",
   "execution_count": 2,
   "metadata": {},
   "outputs": [
    {
     "data": {
      "text/html": [
       "<div>\n",
       "<style scoped>\n",
       "    .dataframe tbody tr th:only-of-type {\n",
       "        vertical-align: middle;\n",
       "    }\n",
       "\n",
       "    .dataframe tbody tr th {\n",
       "        vertical-align: top;\n",
       "    }\n",
       "\n",
       "    .dataframe thead th {\n",
       "        text-align: right;\n",
       "    }\n",
       "</style>\n",
       "<table border=\"1\" class=\"dataframe\">\n",
       "  <thead>\n",
       "    <tr style=\"text-align: right;\">\n",
       "      <th></th>\n",
       "      <th>Loyalty Number</th>\n",
       "      <th>Year</th>\n",
       "      <th>Month</th>\n",
       "      <th>Flights Booked</th>\n",
       "      <th>Flights with Companions</th>\n",
       "      <th>Total Flights</th>\n",
       "      <th>Distance</th>\n",
       "      <th>Points Accumulated</th>\n",
       "      <th>Points Redeemed</th>\n",
       "      <th>Dollar Cost Points Redeemed</th>\n",
       "    </tr>\n",
       "  </thead>\n",
       "  <tbody>\n",
       "    <tr>\n",
       "      <th>0</th>\n",
       "      <td>100018</td>\n",
       "      <td>2017</td>\n",
       "      <td>1</td>\n",
       "      <td>3</td>\n",
       "      <td>0</td>\n",
       "      <td>3</td>\n",
       "      <td>1521</td>\n",
       "      <td>152.0</td>\n",
       "      <td>0</td>\n",
       "      <td>0</td>\n",
       "    </tr>\n",
       "    <tr>\n",
       "      <th>1</th>\n",
       "      <td>100102</td>\n",
       "      <td>2017</td>\n",
       "      <td>1</td>\n",
       "      <td>10</td>\n",
       "      <td>4</td>\n",
       "      <td>14</td>\n",
       "      <td>2030</td>\n",
       "      <td>203.0</td>\n",
       "      <td>0</td>\n",
       "      <td>0</td>\n",
       "    </tr>\n",
       "    <tr>\n",
       "      <th>2</th>\n",
       "      <td>100140</td>\n",
       "      <td>2017</td>\n",
       "      <td>1</td>\n",
       "      <td>6</td>\n",
       "      <td>0</td>\n",
       "      <td>6</td>\n",
       "      <td>1200</td>\n",
       "      <td>120.0</td>\n",
       "      <td>0</td>\n",
       "      <td>0</td>\n",
       "    </tr>\n",
       "    <tr>\n",
       "      <th>3</th>\n",
       "      <td>100214</td>\n",
       "      <td>2017</td>\n",
       "      <td>1</td>\n",
       "      <td>0</td>\n",
       "      <td>0</td>\n",
       "      <td>0</td>\n",
       "      <td>0</td>\n",
       "      <td>0.0</td>\n",
       "      <td>0</td>\n",
       "      <td>0</td>\n",
       "    </tr>\n",
       "    <tr>\n",
       "      <th>4</th>\n",
       "      <td>100272</td>\n",
       "      <td>2017</td>\n",
       "      <td>1</td>\n",
       "      <td>0</td>\n",
       "      <td>0</td>\n",
       "      <td>0</td>\n",
       "      <td>0</td>\n",
       "      <td>0.0</td>\n",
       "      <td>0</td>\n",
       "      <td>0</td>\n",
       "    </tr>\n",
       "  </tbody>\n",
       "</table>\n",
       "</div>"
      ],
      "text/plain": [
       "   Loyalty Number  Year  Month  Flights Booked  Flights with Companions  \\\n",
       "0          100018  2017      1               3                        0   \n",
       "1          100102  2017      1              10                        4   \n",
       "2          100140  2017      1               6                        0   \n",
       "3          100214  2017      1               0                        0   \n",
       "4          100272  2017      1               0                        0   \n",
       "\n",
       "   Total Flights  Distance  Points Accumulated  Points Redeemed  \\\n",
       "0              3      1521               152.0                0   \n",
       "1             14      2030               203.0                0   \n",
       "2              6      1200               120.0                0   \n",
       "3              0         0                 0.0                0   \n",
       "4              0         0                 0.0                0   \n",
       "\n",
       "   Dollar Cost Points Redeemed  \n",
       "0                            0  \n",
       "1                            0  \n",
       "2                            0  \n",
       "3                            0  \n",
       "4                            0  "
      ]
     },
     "execution_count": 2,
     "metadata": {},
     "output_type": "execute_result"
    }
   ],
   "source": [
    "# cargar el ARCHIVO 1 Analisis de vuelos de los clientes fidelizados\n",
    "# vamos a mostrar las 5 primeras filas del DataFrame\n",
    "\n",
    "df = pd.read_csv(\"Customer Flight Activity.csv\")\n",
    "df.head(5)"
   ]
  },
  {
   "cell_type": "code",
   "execution_count": 3,
   "metadata": {},
   "outputs": [
    {
     "data": {
      "text/html": [
       "<div>\n",
       "<style scoped>\n",
       "    .dataframe tbody tr th:only-of-type {\n",
       "        vertical-align: middle;\n",
       "    }\n",
       "\n",
       "    .dataframe tbody tr th {\n",
       "        vertical-align: top;\n",
       "    }\n",
       "\n",
       "    .dataframe thead th {\n",
       "        text-align: right;\n",
       "    }\n",
       "</style>\n",
       "<table border=\"1\" class=\"dataframe\">\n",
       "  <thead>\n",
       "    <tr style=\"text-align: right;\">\n",
       "      <th></th>\n",
       "      <th>Loyalty Number</th>\n",
       "      <th>Country</th>\n",
       "      <th>Province</th>\n",
       "      <th>City</th>\n",
       "      <th>Postal Code</th>\n",
       "      <th>Gender</th>\n",
       "      <th>Education</th>\n",
       "      <th>Salary</th>\n",
       "      <th>Marital Status</th>\n",
       "      <th>Loyalty Card</th>\n",
       "      <th>CLV</th>\n",
       "      <th>Enrollment Type</th>\n",
       "      <th>Enrollment Year</th>\n",
       "      <th>Enrollment Month</th>\n",
       "      <th>Cancellation Year</th>\n",
       "      <th>Cancellation Month</th>\n",
       "    </tr>\n",
       "  </thead>\n",
       "  <tbody>\n",
       "    <tr>\n",
       "      <th>0</th>\n",
       "      <td>480934</td>\n",
       "      <td>Canada</td>\n",
       "      <td>Ontario</td>\n",
       "      <td>Toronto</td>\n",
       "      <td>M2Z 4K1</td>\n",
       "      <td>Female</td>\n",
       "      <td>Bachelor</td>\n",
       "      <td>83236.0</td>\n",
       "      <td>Married</td>\n",
       "      <td>Star</td>\n",
       "      <td>3839.14</td>\n",
       "      <td>Standard</td>\n",
       "      <td>2016</td>\n",
       "      <td>2</td>\n",
       "      <td>NaN</td>\n",
       "      <td>NaN</td>\n",
       "    </tr>\n",
       "    <tr>\n",
       "      <th>1</th>\n",
       "      <td>549612</td>\n",
       "      <td>Canada</td>\n",
       "      <td>Alberta</td>\n",
       "      <td>Edmonton</td>\n",
       "      <td>T3G 6Y6</td>\n",
       "      <td>Male</td>\n",
       "      <td>College</td>\n",
       "      <td>NaN</td>\n",
       "      <td>Divorced</td>\n",
       "      <td>Star</td>\n",
       "      <td>3839.61</td>\n",
       "      <td>Standard</td>\n",
       "      <td>2016</td>\n",
       "      <td>3</td>\n",
       "      <td>NaN</td>\n",
       "      <td>NaN</td>\n",
       "    </tr>\n",
       "    <tr>\n",
       "      <th>2</th>\n",
       "      <td>429460</td>\n",
       "      <td>Canada</td>\n",
       "      <td>British Columbia</td>\n",
       "      <td>Vancouver</td>\n",
       "      <td>V6E 3D9</td>\n",
       "      <td>Male</td>\n",
       "      <td>College</td>\n",
       "      <td>NaN</td>\n",
       "      <td>Single</td>\n",
       "      <td>Star</td>\n",
       "      <td>3839.75</td>\n",
       "      <td>Standard</td>\n",
       "      <td>2014</td>\n",
       "      <td>7</td>\n",
       "      <td>2018.0</td>\n",
       "      <td>1.0</td>\n",
       "    </tr>\n",
       "    <tr>\n",
       "      <th>3</th>\n",
       "      <td>608370</td>\n",
       "      <td>Canada</td>\n",
       "      <td>Ontario</td>\n",
       "      <td>Toronto</td>\n",
       "      <td>P1W 1K4</td>\n",
       "      <td>Male</td>\n",
       "      <td>College</td>\n",
       "      <td>NaN</td>\n",
       "      <td>Single</td>\n",
       "      <td>Star</td>\n",
       "      <td>3839.75</td>\n",
       "      <td>Standard</td>\n",
       "      <td>2013</td>\n",
       "      <td>2</td>\n",
       "      <td>NaN</td>\n",
       "      <td>NaN</td>\n",
       "    </tr>\n",
       "    <tr>\n",
       "      <th>4</th>\n",
       "      <td>530508</td>\n",
       "      <td>Canada</td>\n",
       "      <td>Quebec</td>\n",
       "      <td>Hull</td>\n",
       "      <td>J8Y 3Z5</td>\n",
       "      <td>Male</td>\n",
       "      <td>Bachelor</td>\n",
       "      <td>103495.0</td>\n",
       "      <td>Married</td>\n",
       "      <td>Star</td>\n",
       "      <td>3842.79</td>\n",
       "      <td>Standard</td>\n",
       "      <td>2014</td>\n",
       "      <td>10</td>\n",
       "      <td>NaN</td>\n",
       "      <td>NaN</td>\n",
       "    </tr>\n",
       "  </tbody>\n",
       "</table>\n",
       "</div>"
      ],
      "text/plain": [
       "   Loyalty Number Country          Province       City Postal Code  Gender  \\\n",
       "0          480934  Canada           Ontario    Toronto     M2Z 4K1  Female   \n",
       "1          549612  Canada           Alberta   Edmonton     T3G 6Y6    Male   \n",
       "2          429460  Canada  British Columbia  Vancouver     V6E 3D9    Male   \n",
       "3          608370  Canada           Ontario    Toronto     P1W 1K4    Male   \n",
       "4          530508  Canada            Quebec       Hull     J8Y 3Z5    Male   \n",
       "\n",
       "  Education    Salary Marital Status Loyalty Card      CLV Enrollment Type  \\\n",
       "0  Bachelor   83236.0        Married         Star  3839.14        Standard   \n",
       "1   College       NaN       Divorced         Star  3839.61        Standard   \n",
       "2   College       NaN         Single         Star  3839.75        Standard   \n",
       "3   College       NaN         Single         Star  3839.75        Standard   \n",
       "4  Bachelor  103495.0        Married         Star  3842.79        Standard   \n",
       "\n",
       "   Enrollment Year  Enrollment Month  Cancellation Year  Cancellation Month  \n",
       "0             2016                 2                NaN                 NaN  \n",
       "1             2016                 3                NaN                 NaN  \n",
       "2             2014                 7             2018.0                 1.0  \n",
       "3             2013                 2                NaN                 NaN  \n",
       "4             2014                10                NaN                 NaN  "
      ]
     },
     "execution_count": 3,
     "metadata": {},
     "output_type": "execute_result"
    }
   ],
   "source": [
    "# cargar el ARCHIVO 2 Historial de fidelización del cliente\n",
    "\n",
    "df2 = pd.read_csv(\"Customer Loyalty History.csv\")\n",
    "df2.head(5)"
   ]
  },
  {
   "cell_type": "markdown",
   "metadata": {},
   "source": [
    "# FASE III: ESTUDIO ESTADISTICO (INFERENCIAL) (BONUS)\n",
    "### Evaluación de Diferencias en Reservas de Vuelos por Nivel Educativo\n",
    "- 1. Preparación de datos:\"Loyalty Number\" \"Flight Booked\" \"Education\"\n",
    "- 2. Análisis de datos: Agrupar los datos por nivel eduativo y calcula estdisticas descriptivas básicas (promedio,desviacion estandar)del número de vuelos reservados para cada grupo \n",
    "- 3. Prueba Estadistica:Realiza una prueba de hipótesis para determian si existe una diferencia significativa enel número d evuelso reservados entre los diferentes niveles educativos "
   ]
  },
  {
   "cell_type": "code",
   "execution_count": 4,
   "metadata": {},
   "outputs": [
    {
     "data": {
      "text/plain": [
       "Bachelor                10475\n",
       "College                  4238\n",
       "High School or Below      782\n",
       "Doctor                    734\n",
       "Master                    508\n",
       "Name: Education, dtype: int64"
      ]
     },
     "execution_count": 4,
     "metadata": {},
     "output_type": "execute_result"
    }
   ],
   "source": [
    "df2['Education'].value_counts()"
   ]
  },
  {
   "cell_type": "code",
   "execution_count": 22,
   "metadata": {},
   "outputs": [
    {
     "name": "stdout",
     "output_type": "stream",
     "text": [
      "Número de valores nulos en Education: 0\n"
     ]
    }
   ],
   "source": [
    "# Comprobar si hay valores nulos en la columna 'Education'\n",
    "valores_nulos_education = df2['Education'].isnull().sum()\n",
    "print(f'Número de valores nulos en Education: {valores_nulos_education}')\n"
   ]
  },
  {
   "cell_type": "code",
   "execution_count": 11,
   "metadata": {},
   "outputs": [
    {
     "name": "stdout",
     "output_type": "stream",
     "text": [
      "              Education  Loyalty Number\n",
      "0              Bachelor           10475\n",
      "1               College            4238\n",
      "2                Doctor             734\n",
      "3  High School or Below             782\n",
      "4                Master             508\n"
     ]
    }
   ],
   "source": [
    "# Agrupar los datos por Loyalty Number, Year, Month y Distance\n",
    "clientes_por_estudios = df2.groupby(['Education'])['Loyalty Number'].count().reset_index()\n",
    "\n",
    "\n",
    "# Mostrar los primeros 24 resultados para verificar\n",
    "print(clientes_por_estudios.head(24))"
   ]
  },
  {
   "cell_type": "code",
   "execution_count": 19,
   "metadata": {},
   "outputs": [
    {
     "name": "stdout",
     "output_type": "stream",
     "text": [
      "              Education  Loyalty Number\n",
      "0              Bachelor   548016.611838\n",
      "1               College   549120.380132\n",
      "2                Doctor   570173.113079\n",
      "3  High School or Below   558165.352941\n",
      "4                Master   547816.692913\n"
     ]
    }
   ],
   "source": [
    "# voy agrupar en un df para trabajar mejor y calcular el promedio  NUEVO\n",
    "df2_educ_media = df2.groupby('Education')['Loyalty Number'].mean().reset_index()\n",
    "\n",
    "print(df2_educ_media)"
   ]
  },
  {
   "cell_type": "code",
   "execution_count": 14,
   "metadata": {},
   "outputs": [
    {
     "name": "stdout",
     "output_type": "stream",
     "text": [
      "    Total Flights  Loyalty Number\n",
      "0               0          197992\n",
      "1               1            6106\n",
      "2               2           13032\n",
      "3               3            9783\n",
      "4               4           13656\n",
      "5               5            9309\n",
      "6               6           15273\n",
      "7               7            9873\n",
      "8               8           14056\n",
      "9               9           10688\n",
      "10             10           14393\n",
      "11             11           12300\n",
      "12             12           12409\n",
      "13             13           10499\n",
      "14             14           10310\n",
      "15             15            8544\n",
      "16             16            7727\n",
      "17             17            6198\n",
      "18             18            5757\n",
      "19             19            4002\n",
      "20             20            3417\n",
      "21             21            2610\n",
      "22             22            1981\n",
      "23             23            1616\n"
     ]
    }
   ],
   "source": [
    "# Agrupar los datos por Loyalty Number, Year, Month y Distance\n",
    "Vuelos_por_cliente = df.groupby(['Total Flights'])['Loyalty Number'].count().reset_index()\n",
    "\n",
    "\n",
    "# Mostrar los primeros 24 resultados para verificar\n",
    "print(Vuelos_por_cliente.head(24))"
   ]
  },
  {
   "cell_type": "code",
   "execution_count": 24,
   "metadata": {},
   "outputs": [
    {
     "name": "stdout",
     "output_type": "stream",
     "text": [
      "   Loyalty Number  Year  Month  Flights Booked  Flights with Companions  \\\n",
      "0          100018  2017      1               3                        0   \n",
      "1          100018  2017      2               2                        2   \n",
      "2          100018  2018     10               6                        4   \n",
      "3          100018  2017      4               4                        0   \n",
      "4          100018  2017      5               0                        0   \n",
      "\n",
      "   Total Flights  Distance  Points Accumulated  Points Redeemed  \\\n",
      "0              3      1521               152.0                0   \n",
      "1              4      1320               132.0                0   \n",
      "2             10      3110               311.0              385   \n",
      "3              4       924                92.0                0   \n",
      "4              0         0                 0.0                0   \n",
      "\n",
      "   Dollar Cost Points Redeemed Education  \n",
      "0                            0  Bachelor  \n",
      "1                            0  Bachelor  \n",
      "2                           31  Bachelor  \n",
      "3                            0  Bachelor  \n",
      "4                            0  Bachelor  \n"
     ]
    }
   ],
   "source": [
    "# Unir los datos originales de los clientes y vuelos usando 'Loyalty Number' como clave\n",
    "df_merged = pd.merge(df, df2[['Loyalty Number', 'Education']], on='Loyalty Number', how='inner')\n",
    "\n",
    "# Ahora puedes ver cómo se ven los primeros resultados\n",
    "print(df_merged.head())\n"
   ]
  },
  {
   "cell_type": "code",
   "execution_count": 25,
   "metadata": {},
   "outputs": [
    {
     "name": "stdout",
     "output_type": "stream",
     "text": [
      "              Education  Flights Booked\n",
      "0              Bachelor         1038123\n",
      "1               College          426398\n",
      "2                Doctor           74036\n",
      "3  High School or Below           78993\n",
      "4                Master           51614\n"
     ]
    }
   ],
   "source": [
    "# Agrupar por 'Education' y sumar la cantidad de vuelos reservados\n",
    "vuelos_por_educacion = df_merged.groupby('Education')['Flights Booked'].sum().reset_index()\n",
    "\n",
    "# Mostrar los resultados\n",
    "print(vuelos_por_educacion)\n"
   ]
  },
  {
   "cell_type": "code",
   "execution_count": 27,
   "metadata": {},
   "outputs": [
    {
     "name": "stdout",
     "output_type": "stream",
     "text": [
      "Media de vuelos reservados: 333832.8\n",
      "Desviación estándar de vuelos reservados: 423284.22900422354\n"
     ]
    }
   ],
   "source": [
    "# Calcular la media y la desviación estándar de la cantidad de vuelos reservados\n",
    "media_vuelos = vuelos_por_educacion['Flights Booked'].mean()\n",
    "desviacion_vuelos = vuelos_por_educacion['Flights Booked'].std()\n",
    "\n",
    "# Mostrar los resultados\n",
    "print(f\"Media de vuelos reservados: {media_vuelos}\")\n",
    "print(f\"Desviación estándar de vuelos reservados: {desviacion_vuelos}\")\n"
   ]
  },
  {
   "cell_type": "code",
   "execution_count": 32,
   "metadata": {},
   "outputs": [
    {
     "data": {
      "image/png": "[encoded data removed]",
      "text/plain": [
       "<Figure size 432x288 with 1 Axes>"
      ]
     },
     "metadata": {
      "needs_background": "light"
     },
     "output_type": "display_data"
    }
   ],
   "source": [
    "# Datos: Educación y vuelos reservados\n",
    "educacion = vuelos_por_educacion['Education']\n",
    "vuelos = vuelos_por_educacion['Flights Booked']\n",
    "\n",
    "# Crear la gráfica de barras\n",
    "plt.bar(educacion, vuelos, color='lightblue', edgecolor='black')\n",
    "\n",
    "# Añadir etiquetas y título\n",
    "plt.xlabel('Nivel Educativo', fontsize=12)\n",
    "plt.ylabel('Cantidad de Vuelos Reservados', fontsize=12)\n",
    "plt.title('Distribución de Vuelos Reservados por Nivel Educativo', fontsize=15)\n",
    "plt.xticks(rotation=30)  # Rotar los nombres de los niveles educativos si son largos\n",
    "\n",
    "# ESTO LO HE BUSACADO NO LO CONOCIA Asegúrate de que el eje Y muestre los valores completos\n",
    "plt.ticklabel_format(style='plain', axis='y')\n",
    "\n",
    "# Mostrar la gráfica\n",
    "plt.tight_layout()  # Para ajustar el espaciado\n",
    "plt.show()\n"
   ]
  },
  {
   "cell_type": "code",
   "execution_count": null,
   "metadata": {},
   "outputs": [],
   "source": []
  }
 ],
 "metadata": {
  "kernelspec": {
   "display_name": "base",
   "language": "python",
   "name": "python3"
  },
  "language_info": {
   "codemirror_mode": {
    "name": "ipython",
    "version": 3
   },
   "file_extension": ".py",
   "mimetype": "text/x-python",
   "name": "python",
   "nbconvert_exporter": "python",
   "pygments_lexer": "ipython3",
   "version": "3.9.7"
  }
 },
 "nbformat": 4,
 "nbformat_minor": 2
}
