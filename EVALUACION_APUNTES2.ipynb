{
 "cells": [
  {
   "cell_type": "code",
   "execution_count": 1,
   "metadata": {},
   "outputs": [],
   "source": [
    "# importamos las librerías que necesitamos\n",
    "\n",
    "# Tratamiento de datos\n",
    "# -----------------------------------------------------------------------\n",
    "import pandas as pd\n",
    "import numpy as np\n",
    "\n",
    "# Visualización\n",
    "# ------------------------------------------------------------------------------\n",
    "import matplotlib.pyplot as plt\n",
    "import seaborn as sns\n",
    "\n",
    "# Evaluar linealidad de las relaciones entre las variables\n",
    "# y la distribución de las variables\n",
    "# ------------------------------------------------------------------------------\n",
    "import scipy.stats as stats\n",
    "from scipy.stats import chi2_contingency, ttest_ind\n",
    "\n",
    "# Configuración\n",
    "# -----------------------------------------------------------------------\n",
    "pd.set_option('display.max_columns', None) # para poder visualizar todas las columnas de los DataFrames\n",
    "\n",
    "# Gestión de los warnings\n",
    "# -----------------------------------------------------------------------\n",
    "import warnings\n",
    "warnings.filterwarnings(\"ignore\")"
   ]
  },
  {
   "cell_type": "markdown",
   "metadata": {},
   "source": [
    "# FASE I\n",
    "### 2. LIMPIEZA DE DATOS"
   ]
  },
  {
   "cell_type": "code",
   "execution_count": 2,
   "metadata": {},
   "outputs": [
    {
     "data": {
      "text/html": [
       "<div>\n",
       "<style scoped>\n",
       "    .dataframe tbody tr th:only-of-type {\n",
       "        vertical-align: middle;\n",
       "    }\n",
       "\n",
       "    .dataframe tbody tr th {\n",
       "        vertical-align: top;\n",
       "    }\n",
       "\n",
       "    .dataframe thead th {\n",
       "        text-align: right;\n",
       "    }\n",
       "</style>\n",
       "<table border=\"1\" class=\"dataframe\">\n",
       "  <thead>\n",
       "    <tr style=\"text-align: right;\">\n",
       "      <th></th>\n",
       "      <th>Loyalty Number</th>\n",
       "      <th>Year</th>\n",
       "      <th>Month</th>\n",
       "      <th>Flights Booked</th>\n",
       "      <th>Flights with Companions</th>\n",
       "      <th>Total Flights</th>\n",
       "      <th>Distance</th>\n",
       "      <th>Points Accumulated</th>\n",
       "      <th>Points Redeemed</th>\n",
       "      <th>Dollar Cost Points Redeemed</th>\n",
       "    </tr>\n",
       "  </thead>\n",
       "  <tbody>\n",
       "    <tr>\n",
       "      <th>0</th>\n",
       "      <td>100018</td>\n",
       "      <td>2017</td>\n",
       "      <td>1</td>\n",
       "      <td>3</td>\n",
       "      <td>0</td>\n",
       "      <td>3</td>\n",
       "      <td>1521</td>\n",
       "      <td>152.0</td>\n",
       "      <td>0</td>\n",
       "      <td>0</td>\n",
       "    </tr>\n",
       "    <tr>\n",
       "      <th>1</th>\n",
       "      <td>100102</td>\n",
       "      <td>2017</td>\n",
       "      <td>1</td>\n",
       "      <td>10</td>\n",
       "      <td>4</td>\n",
       "      <td>14</td>\n",
       "      <td>2030</td>\n",
       "      <td>203.0</td>\n",
       "      <td>0</td>\n",
       "      <td>0</td>\n",
       "    </tr>\n",
       "    <tr>\n",
       "      <th>2</th>\n",
       "      <td>100140</td>\n",
       "      <td>2017</td>\n",
       "      <td>1</td>\n",
       "      <td>6</td>\n",
       "      <td>0</td>\n",
       "      <td>6</td>\n",
       "      <td>1200</td>\n",
       "      <td>120.0</td>\n",
       "      <td>0</td>\n",
       "      <td>0</td>\n",
       "    </tr>\n",
       "    <tr>\n",
       "      <th>3</th>\n",
       "      <td>100214</td>\n",
       "      <td>2017</td>\n",
       "      <td>1</td>\n",
       "      <td>0</td>\n",
       "      <td>0</td>\n",
       "      <td>0</td>\n",
       "      <td>0</td>\n",
       "      <td>0.0</td>\n",
       "      <td>0</td>\n",
       "      <td>0</td>\n",
       "    </tr>\n",
       "    <tr>\n",
       "      <th>4</th>\n",
       "      <td>100272</td>\n",
       "      <td>2017</td>\n",
       "      <td>1</td>\n",
       "      <td>0</td>\n",
       "      <td>0</td>\n",
       "      <td>0</td>\n",
       "      <td>0</td>\n",
       "      <td>0.0</td>\n",
       "      <td>0</td>\n",
       "      <td>0</td>\n",
       "    </tr>\n",
       "  </tbody>\n",
       "</table>\n",
       "</div>"
      ],
      "text/plain": [
       "   Loyalty Number  Year  Month  Flights Booked  Flights with Companions  \\\n",
       "0          100018  2017      1               3                        0   \n",
       "1          100102  2017      1              10                        4   \n",
       "2          100140  2017      1               6                        0   \n",
       "3          100214  2017      1               0                        0   \n",
       "4          100272  2017      1               0                        0   \n",
       "\n",
       "   Total Flights  Distance  Points Accumulated  Points Redeemed  \\\n",
       "0              3      1521               152.0                0   \n",
       "1             14      2030               203.0                0   \n",
       "2              6      1200               120.0                0   \n",
       "3              0         0                 0.0                0   \n",
       "4              0         0                 0.0                0   \n",
       "\n",
       "   Dollar Cost Points Redeemed  \n",
       "0                            0  \n",
       "1                            0  \n",
       "2                            0  \n",
       "3                            0  \n",
       "4                            0  "
      ]
     },
     "execution_count": 2,
     "metadata": {},
     "output_type": "execute_result"
    }
   ],
   "source": [
    "# cargar el ARCHIVO 1 Analisis de vuelos de los clientes fidelizados\n",
    "# vamos a mostrar las 5 primeras filas del DataFrame\n",
    "\n",
    "df = pd.read_csv(\"Customer Flight Activity.csv\")\n",
    "df.head(5)"
   ]
  },
  {
   "cell_type": "markdown",
   "metadata": {},
   "source": [
    "**¿Qué es lo que vemos aquí?**\n",
    "\n",
    "Entendamos los resultados de algunas de las columnas, por ejemplo \"Total Flights\" lo que es lo mismo, número de vuelos que los clientes han realizado: \n",
    "\n",
    "- `count`: Aquí podemos observar que la columna no tiene nulos (en realidad ninguna columna) porque el número de datos conincide con el número de filas.\n",
    "\n",
    "- `mean`: La media de del numero de vuelos por cliente.\n",
    "\n",
    "- `std`: La desviación estándar, que mide la dispersión del número de vuelos.\n",
    "\n",
    "- `min`: el número de vuelos mínimos en el conjunto de datos.\n",
    "\n",
    "- `25%`: El percentil 25, que representa el valor por debajo del cual se encuentra el 25% de el número de vuelos mínimos realizados que es cero.\n",
    "\n",
    "- `50%`: La mediana o percentil 50, que es el valor que divide el conjunto de datos en dos mitades iguales.\n",
    "\n",
    "- `75%`: El percentil 75, que representa el valor por debajo del cual se encuentra el 75% del número de vuelos.\n",
    "\n",
    "- `max`: El número de vuelos máximos por cliente en el conjunto de datos."
   ]
  },
  {
   "cell_type": "markdown",
   "metadata": {},
   "source": [
    "* * REVISAMOS LA COLUMNA \"Flights Booked\" y tomo decisiones"
   ]
  },
  {
   "cell_type": "code",
   "execution_count": 3,
   "metadata": {},
   "outputs": [
    {
     "name": "stdout",
     "output_type": "stream",
     "text": [
      "[3, 10, 6, 0, 8, 11, 9, 4, 7, 5, 2, 1, 12, 13, 14, 16, 15, 17, 18, 19, 20, 21]\n"
     ]
    }
   ],
   "source": [
    "# Tras la revisión de los datos en la FASE I parte 1 EDA voy a pasar a realizar lo siguiente\n",
    "valores_vuelos = df['Flights Booked'].unique().tolist()\n",
    "print(valores_vuelos)"
   ]
  },
  {
   "cell_type": "code",
   "execution_count": 4,
   "metadata": {},
   "outputs": [
    {
     "name": "stdout",
     "output_type": "stream",
     "text": [
      "El valor más bajo de la columna cuyo valor es distinto a cero 'Flights Booked':1\n",
      "El valor más bajo de la columna 'Flights Booked':21\n"
     ]
    }
   ],
   "source": [
    "# voy a mirar cual es el valor mas bajo y el mas alto de el total de vuelos de este modo sabremos que cantidad de vuelos minimo \n",
    "# hace una persona socia al mes y que cantidad máxima\n",
    "vuelos_minimos_no_cero = df[df['Flights Booked'] > 0]['Flights Booked'].min()\n",
    "vuelos_maximos = df['Flights Booked'].max()\n",
    "print (f\"El valor más bajo de la columna cuyo valor es distinto a cero 'Flights Booked':{vuelos_minimos_no_cero}\")\n",
    "print (f\"El valor más bajo de la columna 'Flights Booked':{vuelos_maximos}\")"
   ]
  },
  {
   "cell_type": "code",
   "execution_count": 5,
   "metadata": {},
   "outputs": [
    {
     "name": "stdout",
     "output_type": "stream",
     "text": [
      "Cantidad de Valores 0 en la columna'Flights Booked': 197992\n"
     ]
    }
   ],
   "source": [
    "cuento_vuelos_cero = (df['Flights Booked'] == 0).sum()\n",
    "print (f\"Cantidad de Valores 0 en la columna'Flights Booked': {cuento_vuelos_cero}\")"
   ]
  },
  {
   "cell_type": "code",
   "execution_count": 6,
   "metadata": {},
   "outputs": [
    {
     "name": "stdout",
     "output_type": "stream",
     "text": [
      "Cantidad de filas duplicas:1864\n"
     ]
    }
   ],
   "source": [
    "# pueden ser filas que tienen los mismos valores en todas las columnas, es decir, \n",
    "# por ejemplo los clientes que no han hecho ningun vuelo que sean cero no nos aporta ningun valor en esta tabla\n",
    "rows_duplicadas = df.duplicated().sum()\n",
    "print (f\"Cantidad de filas duplicas:{rows_duplicadas}\")"
   ]
  },
  {
   "cell_type": "code",
   "execution_count": 7,
   "metadata": {},
   "outputs": [],
   "source": [
    "# voy a eliminar las filas en las que el valor \"Flights booked\" es igual a cero\n",
    "\n",
    "df = df[df['Flights Booked'] !=0]\n",
    "\n",
    "# Comprobamos que se ha hecho correcto "
   ]
  },
  {
   "cell_type": "code",
   "execution_count": 8,
   "metadata": {},
   "outputs": [
    {
     "data": {
      "text/plain": [
       "(207632, 10)"
      ]
     },
     "execution_count": 8,
     "metadata": {},
     "output_type": "execute_result"
    }
   ],
   "source": [
    "# el el analisis primero exploratorio teniamos\n",
    "# 405624 filas y 10 columnas\n",
    "# recordamos que Cantidad de Valores 0 en la columna'Flights Booked': 197992\n",
    "df.shape"
   ]
  },
  {
   "cell_type": "code",
   "execution_count": 9,
   "metadata": {},
   "outputs": [
    {
     "name": "stdout",
     "output_type": "stream",
     "text": [
      "Despues de eliminar las filas de valor cero en la columna 'Flights Booked' deberian quedar: 207632 filas \n"
     ]
    }
   ],
   "source": [
    "##COMPROBAMOS QUE ESTA CORRECTO\n",
    "#cantidad de filas iniciales\n",
    "filas_iniciales = 405624\n",
    "#cantidad de valores 0 en la columna \"Flights Booked\"\n",
    "valores_cero = 197992\n",
    "# cantidad de filas que me quedarian des pues de eliminar las que tienen valor cero\n",
    "filas_actuales_despues_de_limpiar = filas_iniciales - valores_cero\n",
    "\n",
    "print (f\"Despues de eliminar las filas de valor cero en la columna 'Flights Booked' deberian quedar: {filas_actuales_despues_de_limpiar} filas \")"
   ]
  },
  {
   "cell_type": "code",
   "execution_count": 10,
   "metadata": {},
   "outputs": [
    {
     "data": {
      "text/html": [
       "<div>\n",
       "<style scoped>\n",
       "    .dataframe tbody tr th:only-of-type {\n",
       "        vertical-align: middle;\n",
       "    }\n",
       "\n",
       "    .dataframe tbody tr th {\n",
       "        vertical-align: top;\n",
       "    }\n",
       "\n",
       "    .dataframe thead th {\n",
       "        text-align: right;\n",
       "    }\n",
       "</style>\n",
       "<table border=\"1\" class=\"dataframe\">\n",
       "  <thead>\n",
       "    <tr style=\"text-align: right;\">\n",
       "      <th></th>\n",
       "      <th>Loyalty Number</th>\n",
       "      <th>Year</th>\n",
       "      <th>Month</th>\n",
       "      <th>Flights Booked</th>\n",
       "      <th>Flights with Companions</th>\n",
       "      <th>Total Flights</th>\n",
       "      <th>Distance</th>\n",
       "      <th>Points Accumulated</th>\n",
       "      <th>Points Redeemed</th>\n",
       "      <th>Dollar Cost Points Redeemed</th>\n",
       "    </tr>\n",
       "  </thead>\n",
       "  <tbody>\n",
       "    <tr>\n",
       "      <th>count</th>\n",
       "      <td>207632.000000</td>\n",
       "      <td>207632.000000</td>\n",
       "      <td>207632.000000</td>\n",
       "      <td>207632.000000</td>\n",
       "      <td>207632.000000</td>\n",
       "      <td>207632.000000</td>\n",
       "      <td>207632.000000</td>\n",
       "      <td>207632.000000</td>\n",
       "      <td>207632.000000</td>\n",
       "      <td>207632.000000</td>\n",
       "    </tr>\n",
       "    <tr>\n",
       "      <th>mean</th>\n",
       "      <td>549240.808411</td>\n",
       "      <td>2017.536295</td>\n",
       "      <td>6.641394</td>\n",
       "      <td>8.039050</td>\n",
       "      <td>2.015706</td>\n",
       "      <td>10.054756</td>\n",
       "      <td>2361.633876</td>\n",
       "      <td>241.642600</td>\n",
       "      <td>59.968540</td>\n",
       "      <td>4.853655</td>\n",
       "    </tr>\n",
       "    <tr>\n",
       "      <th>std</th>\n",
       "      <td>258456.999580</td>\n",
       "      <td>0.498682</td>\n",
       "      <td>3.448752</td>\n",
       "      <td>4.668948</td>\n",
       "      <td>2.538359</td>\n",
       "      <td>5.807808</td>\n",
       "      <td>1135.835170</td>\n",
       "      <td>116.118272</td>\n",
       "      <td>170.314671</td>\n",
       "      <td>13.775511</td>\n",
       "    </tr>\n",
       "    <tr>\n",
       "      <th>min</th>\n",
       "      <td>100018.000000</td>\n",
       "      <td>2017.000000</td>\n",
       "      <td>1.000000</td>\n",
       "      <td>1.000000</td>\n",
       "      <td>0.000000</td>\n",
       "      <td>1.000000</td>\n",
       "      <td>90.000000</td>\n",
       "      <td>9.000000</td>\n",
       "      <td>0.000000</td>\n",
       "      <td>0.000000</td>\n",
       "    </tr>\n",
       "    <tr>\n",
       "      <th>25%</th>\n",
       "      <td>326707.000000</td>\n",
       "      <td>2017.000000</td>\n",
       "      <td>4.000000</td>\n",
       "      <td>4.000000</td>\n",
       "      <td>0.000000</td>\n",
       "      <td>6.000000</td>\n",
       "      <td>1458.000000</td>\n",
       "      <td>149.000000</td>\n",
       "      <td>0.000000</td>\n",
       "      <td>0.000000</td>\n",
       "    </tr>\n",
       "    <tr>\n",
       "      <th>50%</th>\n",
       "      <td>549612.000000</td>\n",
       "      <td>2018.000000</td>\n",
       "      <td>7.000000</td>\n",
       "      <td>8.000000</td>\n",
       "      <td>1.000000</td>\n",
       "      <td>10.000000</td>\n",
       "      <td>2298.000000</td>\n",
       "      <td>235.000000</td>\n",
       "      <td>0.000000</td>\n",
       "      <td>0.000000</td>\n",
       "    </tr>\n",
       "    <tr>\n",
       "      <th>75%</th>\n",
       "      <td>772019.000000</td>\n",
       "      <td>2018.000000</td>\n",
       "      <td>10.000000</td>\n",
       "      <td>11.000000</td>\n",
       "      <td>4.000000</td>\n",
       "      <td>14.000000</td>\n",
       "      <td>3150.000000</td>\n",
       "      <td>323.000000</td>\n",
       "      <td>0.000000</td>\n",
       "      <td>0.000000</td>\n",
       "    </tr>\n",
       "    <tr>\n",
       "      <th>max</th>\n",
       "      <td>999986.000000</td>\n",
       "      <td>2018.000000</td>\n",
       "      <td>12.000000</td>\n",
       "      <td>21.000000</td>\n",
       "      <td>11.000000</td>\n",
       "      <td>32.000000</td>\n",
       "      <td>6293.000000</td>\n",
       "      <td>676.500000</td>\n",
       "      <td>876.000000</td>\n",
       "      <td>71.000000</td>\n",
       "    </tr>\n",
       "  </tbody>\n",
       "</table>\n",
       "</div>"
      ],
      "text/plain": [
       "       Loyalty Number           Year          Month  Flights Booked  \\\n",
       "count   207632.000000  207632.000000  207632.000000   207632.000000   \n",
       "mean    549240.808411    2017.536295       6.641394        8.039050   \n",
       "std     258456.999580       0.498682       3.448752        4.668948   \n",
       "min     100018.000000    2017.000000       1.000000        1.000000   \n",
       "25%     326707.000000    2017.000000       4.000000        4.000000   \n",
       "50%     549612.000000    2018.000000       7.000000        8.000000   \n",
       "75%     772019.000000    2018.000000      10.000000       11.000000   \n",
       "max     999986.000000    2018.000000      12.000000       21.000000   \n",
       "\n",
       "       Flights with Companions  Total Flights       Distance  \\\n",
       "count            207632.000000  207632.000000  207632.000000   \n",
       "mean                  2.015706      10.054756    2361.633876   \n",
       "std                   2.538359       5.807808    1135.835170   \n",
       "min                   0.000000       1.000000      90.000000   \n",
       "25%                   0.000000       6.000000    1458.000000   \n",
       "50%                   1.000000      10.000000    2298.000000   \n",
       "75%                   4.000000      14.000000    3150.000000   \n",
       "max                  11.000000      32.000000    6293.000000   \n",
       "\n",
       "       Points Accumulated  Points Redeemed  Dollar Cost Points Redeemed  \n",
       "count       207632.000000    207632.000000                207632.000000  \n",
       "mean           241.642600        59.968540                     4.853655  \n",
       "std            116.118272       170.314671                    13.775511  \n",
       "min              9.000000         0.000000                     0.000000  \n",
       "25%            149.000000         0.000000                     0.000000  \n",
       "50%            235.000000         0.000000                     0.000000  \n",
       "75%            323.000000         0.000000                     0.000000  \n",
       "max            676.500000       876.000000                    71.000000  "
      ]
     },
     "execution_count": 10,
     "metadata": {},
     "output_type": "execute_result"
    }
   ],
   "source": [
    "# Este método es para sacar los principales estadísticos del DataFrame sólo variables numéricas\n",
    "# este método nos da una visión general de la distribución y la caracteristica de los datos\n",
    "# Esto nos viene bien para una visión global y para la FASE II de la evaluación\n",
    "df.describe()"
   ]
  },
  {
   "cell_type": "code",
   "execution_count": 11,
   "metadata": {},
   "outputs": [
    {
     "data": {
      "text/html": [
       "<div>\n",
       "<style scoped>\n",
       "    .dataframe tbody tr th:only-of-type {\n",
       "        vertical-align: middle;\n",
       "    }\n",
       "\n",
       "    .dataframe tbody tr th {\n",
       "        vertical-align: top;\n",
       "    }\n",
       "\n",
       "    .dataframe thead th {\n",
       "        text-align: right;\n",
       "    }\n",
       "</style>\n",
       "<table border=\"1\" class=\"dataframe\">\n",
       "  <thead>\n",
       "    <tr style=\"text-align: right;\">\n",
       "      <th></th>\n",
       "      <th>count</th>\n",
       "      <th>mean</th>\n",
       "      <th>std</th>\n",
       "      <th>min</th>\n",
       "      <th>25%</th>\n",
       "      <th>50%</th>\n",
       "      <th>75%</th>\n",
       "      <th>max</th>\n",
       "    </tr>\n",
       "  </thead>\n",
       "  <tbody>\n",
       "    <tr>\n",
       "      <th>Loyalty Number</th>\n",
       "      <td>207632.0</td>\n",
       "      <td>549240.808411</td>\n",
       "      <td>258456.999580</td>\n",
       "      <td>100018.0</td>\n",
       "      <td>326707.0</td>\n",
       "      <td>549612.0</td>\n",
       "      <td>772019.0</td>\n",
       "      <td>999986.0</td>\n",
       "    </tr>\n",
       "    <tr>\n",
       "      <th>Year</th>\n",
       "      <td>207632.0</td>\n",
       "      <td>2017.536295</td>\n",
       "      <td>0.498682</td>\n",
       "      <td>2017.0</td>\n",
       "      <td>2017.0</td>\n",
       "      <td>2018.0</td>\n",
       "      <td>2018.0</td>\n",
       "      <td>2018.0</td>\n",
       "    </tr>\n",
       "    <tr>\n",
       "      <th>Month</th>\n",
       "      <td>207632.0</td>\n",
       "      <td>6.641394</td>\n",
       "      <td>3.448752</td>\n",
       "      <td>1.0</td>\n",
       "      <td>4.0</td>\n",
       "      <td>7.0</td>\n",
       "      <td>10.0</td>\n",
       "      <td>12.0</td>\n",
       "    </tr>\n",
       "    <tr>\n",
       "      <th>Flights Booked</th>\n",
       "      <td>207632.0</td>\n",
       "      <td>8.039050</td>\n",
       "      <td>4.668948</td>\n",
       "      <td>1.0</td>\n",
       "      <td>4.0</td>\n",
       "      <td>8.0</td>\n",
       "      <td>11.0</td>\n",
       "      <td>21.0</td>\n",
       "    </tr>\n",
       "    <tr>\n",
       "      <th>Flights with Companions</th>\n",
       "      <td>207632.0</td>\n",
       "      <td>2.015706</td>\n",
       "      <td>2.538359</td>\n",
       "      <td>0.0</td>\n",
       "      <td>0.0</td>\n",
       "      <td>1.0</td>\n",
       "      <td>4.0</td>\n",
       "      <td>11.0</td>\n",
       "    </tr>\n",
       "    <tr>\n",
       "      <th>Total Flights</th>\n",
       "      <td>207632.0</td>\n",
       "      <td>10.054756</td>\n",
       "      <td>5.807808</td>\n",
       "      <td>1.0</td>\n",
       "      <td>6.0</td>\n",
       "      <td>10.0</td>\n",
       "      <td>14.0</td>\n",
       "      <td>32.0</td>\n",
       "    </tr>\n",
       "    <tr>\n",
       "      <th>Distance</th>\n",
       "      <td>207632.0</td>\n",
       "      <td>2361.633876</td>\n",
       "      <td>1135.835170</td>\n",
       "      <td>90.0</td>\n",
       "      <td>1458.0</td>\n",
       "      <td>2298.0</td>\n",
       "      <td>3150.0</td>\n",
       "      <td>6293.0</td>\n",
       "    </tr>\n",
       "    <tr>\n",
       "      <th>Points Accumulated</th>\n",
       "      <td>207632.0</td>\n",
       "      <td>241.642600</td>\n",
       "      <td>116.118272</td>\n",
       "      <td>9.0</td>\n",
       "      <td>149.0</td>\n",
       "      <td>235.0</td>\n",
       "      <td>323.0</td>\n",
       "      <td>676.5</td>\n",
       "    </tr>\n",
       "    <tr>\n",
       "      <th>Points Redeemed</th>\n",
       "      <td>207632.0</td>\n",
       "      <td>59.968540</td>\n",
       "      <td>170.314671</td>\n",
       "      <td>0.0</td>\n",
       "      <td>0.0</td>\n",
       "      <td>0.0</td>\n",
       "      <td>0.0</td>\n",
       "      <td>876.0</td>\n",
       "    </tr>\n",
       "    <tr>\n",
       "      <th>Dollar Cost Points Redeemed</th>\n",
       "      <td>207632.0</td>\n",
       "      <td>4.853655</td>\n",
       "      <td>13.775511</td>\n",
       "      <td>0.0</td>\n",
       "      <td>0.0</td>\n",
       "      <td>0.0</td>\n",
       "      <td>0.0</td>\n",
       "      <td>71.0</td>\n",
       "    </tr>\n",
       "  </tbody>\n",
       "</table>\n",
       "</div>"
      ],
      "text/plain": [
       "                                count           mean            std       min  \\\n",
       "Loyalty Number               207632.0  549240.808411  258456.999580  100018.0   \n",
       "Year                         207632.0    2017.536295       0.498682    2017.0   \n",
       "Month                        207632.0       6.641394       3.448752       1.0   \n",
       "Flights Booked               207632.0       8.039050       4.668948       1.0   \n",
       "Flights with Companions      207632.0       2.015706       2.538359       0.0   \n",
       "Total Flights                207632.0      10.054756       5.807808       1.0   \n",
       "Distance                     207632.0    2361.633876    1135.835170      90.0   \n",
       "Points Accumulated           207632.0     241.642600     116.118272       9.0   \n",
       "Points Redeemed              207632.0      59.968540     170.314671       0.0   \n",
       "Dollar Cost Points Redeemed  207632.0       4.853655      13.775511       0.0   \n",
       "\n",
       "                                  25%       50%       75%       max  \n",
       "Loyalty Number               326707.0  549612.0  772019.0  999986.0  \n",
       "Year                           2017.0    2018.0    2018.0    2018.0  \n",
       "Month                             4.0       7.0      10.0      12.0  \n",
       "Flights Booked                    4.0       8.0      11.0      21.0  \n",
       "Flights with Companions           0.0       1.0       4.0      11.0  \n",
       "Total Flights                     6.0      10.0      14.0      32.0  \n",
       "Distance                       1458.0    2298.0    3150.0    6293.0  \n",
       "Points Accumulated              149.0     235.0     323.0     676.5  \n",
       "Points Redeemed                   0.0       0.0       0.0     876.0  \n",
       "Dollar Cost Points Redeemed       0.0       0.0       0.0      71.0  "
      ]
     },
     "execution_count": 11,
     "metadata": {},
     "output_type": "execute_result"
    }
   ],
   "source": [
    "# Esto nos viene bien para una visión global y para la FASE II de la evaluación\n",
    "# podemos usar un método que nos transpone los resultados\n",
    "df.describe().T"
   ]
  },
  {
   "cell_type": "markdown",
   "metadata": {},
   "source": [
    "**¿Qué es lo que vemos aquí?**\n",
    "\n",
    "Entendamos los resultados de algunas de las columnas, por ejemplo \"Flights Booked\" lo que es lo mismo, número total de vuelos reservados por el cliente en un mes específico:\n",
    "\n",
    "- `count`: Aquí podemos observar que la columna no tiene nulos (en realidad ninguna columna) porque el número de datos conincide con el número de filas.\n",
    "\n",
    "- `mean`: La media de del numero de vuelos reservados por cliente.\n",
    "\n",
    "- `std`: La desviación estándar, que mide la dispersión del número de vuelos.\n",
    "\n",
    "- `min`: el número de vuelos mínimos en el conjunto de datos.\n",
    "\n",
    "- `25%`: El percentil 25, que representa el valor por debajo del cual se encuentra el 25% de el número de vuelos reservados.El valor mínimo es 1 ya que eliminamos los que tenían valor 0.\n",
    "\n",
    "- `50%`: La mediana o percentil 50, que es el valor que divide el conjunto de datos en dos mitades iguales.\n",
    "\n",
    "- `75%`: El percentil 75, que representa el valor por debajo del cual se encuentra el 75% del número de vuelos reservados.\n",
    "\n",
    "- `max`: El número máximo de vuelos reservados por cliente en el conjunto de datos."
   ]
  },
  {
   "cell_type": "code",
   "execution_count": 12,
   "metadata": {},
   "outputs": [
    {
     "data": {
      "text/plain": [
       "2018    111352\n",
       "2017     96280\n",
       "Name: Year, dtype: int64"
      ]
     },
     "execution_count": 12,
     "metadata": {},
     "output_type": "execute_result"
    }
   ],
   "source": [
    "df['Year'].value_counts()"
   ]
  },
  {
   "cell_type": "code",
   "execution_count": 13,
   "metadata": {},
   "outputs": [
    {
     "name": "stdout",
     "output_type": "stream",
     "text": [
      "    Year  Month  Flights Booked\n",
      "0   2017      1           47766\n",
      "1   2017      2           47691\n",
      "2   2017      3           64271\n",
      "3   2017      4           55720\n",
      "4   2017      5           65279\n",
      "5   2017      6           80493\n",
      "6   2017      7           89288\n",
      "7   2017      8           78692\n",
      "8   2017      9           63304\n",
      "9   2017     10           60351\n",
      "10  2017     11           56905\n",
      "11  2017     12           77650\n",
      "12  2018      1           49170\n",
      "13  2018      2           48643\n",
      "14  2018      3           66928\n",
      "15  2018      4           56791\n",
      "16  2018      5           76891\n",
      "17  2018      6           92749\n",
      "18  2018      7          104143\n",
      "19  2018      8           90512\n",
      "20  2018      9           73075\n",
      "21  2018     10           69110\n",
      "22  2018     11           65345\n",
      "23  2018     12           88397\n"
     ]
    }
   ],
   "source": [
    "# voy a probar como ver la cantidad de vuelos reservados por año y por mes \n",
    "reservas_por_año_al_mes = df.groupby(['Year','Month'])['Flights Booked'].sum().reset_index()\n",
    "\n",
    "# Compruebo los primeros resultados para verificar \n",
    "print(reservas_por_año_al_mes.head(24))"
   ]
  },
  {
   "cell_type": "code",
   "execution_count": 14,
   "metadata": {},
   "outputs": [
    {
     "name": "stdout",
     "output_type": "stream",
     "text": [
      "Month     1      2      3      4      5      6       7      8      9      10  \\\n",
      "Year                                                                           \n",
      "2017   47766  47691  64271  55720  65279  80493   89288  78692  63304  60351   \n",
      "2018   49170  48643  66928  56791  76891  92749  104143  90512  73075  69110   \n",
      "\n",
      "Month     11     12  \n",
      "Year                 \n",
      "2017   56905  77650  \n",
      "2018   65345  88397  \n"
     ]
    }
   ],
   "source": [
    "# me gustaría hacer una tabla mas visual he investigado y me han dado el siguiente método lo voy a probar \n",
    "# con este metodo tabla dinámica (pivot table) con 'Year' como filas, 'Month' como columnas, y \n",
    "# la suma de 'Flights Booked' como valores\n",
    "tabla_para_comparar = df.pivot_table(values='Flights Booked', index='Year', columns='Month', aggfunc='sum')\n",
    "\n",
    "# Mostrar el resultado\n",
    "print(tabla_para_comparar)\n"
   ]
  },
  {
   "cell_type": "markdown",
   "metadata": {},
   "source": [
    "# FASE II:VISUALIZACIÓN\n",
    "### 1. ¿Cómo se distribuye la cantidad de vuelos reservados por mes durante el año?\n",
    "\n",
    "## BOSPLOT o *Diagrama de cajas*\n",
    "\n",
    "Muestra la distribución y valores atípicos de una variable númerica \n",
    "\n",
    "VAMOS A HACER UNA VISUALIZACIÓN POR MÉTODO MATPLOTLIB:\n",
    "```python\n",
    "plt.bar(x, y, data, hue, pallete, color=\"blue\", edgecolor=\"black\") \n",
    "```\n",
    "En esta gráfica vamos a contestar a la pregunta que nos hemos planteado\n",
    " ¿cómo se distribuye la cantidad de vuelos reservados por mes durante el año?\n",
    " usaremos \"Year\" \"Month\" \"Flights Booked\". \n",
    " El Diagrama de cajas mostraría la distribución por meses en un año en el DataFrame, lo que permitiría obtener información sobre la dispersión y la forma de distribución.\n"
   ]
  },
  {
   "cell_type": "code",
   "execution_count": 15,
   "metadata": {},
   "outputs": [],
   "source": [
    "# Crear un conjunto de datos para el 2017 y otro para el 2018\n",
    "df_2017 = reservas_por_año_al_mes[reservas_por_año_al_mes['Year'] == 2017]\n",
    "df_2018 = reservas_por_año_al_mes[reservas_por_año_al_mes['Year'] == 2018]\n"
   ]
  },
  {
   "cell_type": "code",
   "execution_count": 16,
   "metadata": {},
   "outputs": [],
   "source": [
    "# voy a usar un Barplot que muestra la relación entre una variable categórica y una variable númerica mediante barras\n",
    "# para que quede más clara la visualización voy a transformar la columna \"Month\" en una variable \"objet\" al numero le voy \n",
    "# añadir el nombre correspondiente usare un diccionario\n",
    "meses = {1: 'Enero', 2: 'Febrero', 3: 'Marzo', 4: 'Abril', \n",
    "    5: 'Mayo', 6: 'Junio', 7: 'Julio', 8: 'Agosto', \n",
    "    9: 'Septiembre', 10: 'Octubre', 11: 'Noviembre', 12: 'Diciembre'}\n",
    "# vamos a transformar (mapear)los numeros en nombre de los meses \n",
    "df_2017['Month'] = df_2017['Month'].map (meses)\n",
    "df_2018['Month'] = df_2018['Month'].map (meses)"
   ]
  },
  {
   "cell_type": "code",
   "execution_count": 17,
   "metadata": {},
   "outputs": [
    {
     "data": {
      "text/plain": [
       "<BarContainer object of 12 artists>"
      ]
     },
     "execution_count": 17,
     "metadata": {},
     "output_type": "execute_result"
    },
    {
     "data": {
      "image/png": "[encoded data removed]",
      "text/plain": [
       "<Figure size 432x288 with 1 Axes>"
      ]
     },
     "metadata": {
      "needs_background": "light"
     },
     "output_type": "display_data"
    }
   ],
   "source": [
    "# aplico la formula para comprobar que está bien construida\n",
    "plt.bar(df_2017['Month'], df_2017['Flights Booked'], color=\"yellow\", edgecolor=\"black\")"
   ]
  },
  {
   "cell_type": "code",
   "execution_count": 18,
   "metadata": {},
   "outputs": [
    {
     "data": {
      "image/png": "[encoded data removed]",
      "text/plain": [
       "<Figure size 432x288 with 1 Axes>"
      ]
     },
     "metadata": {
      "needs_background": "light"
     },
     "output_type": "display_data"
    }
   ],
   "source": [
    "# Creo un gráfico de barras para el 2017\n",
    "plt.bar(df_2017['Month'], df_2017['Flights Booked'], color=\"yellow\", edgecolor=\"black\")\n",
    "\n",
    "# Añado las etiquetas del eje x y el y, título del gráfico y colores \n",
    "plt.xlabel('Mes', fontsize=15)\n",
    "plt.xticks(rotation=90)\n",
    "plt.ylabel('Flights Booked', fontsize=15)\n",
    "plt.title('Flights Booked por Mes en 2017')\n",
    "\n",
    "# Mostrar el gráfico\n",
    "plt.show()\n"
   ]
  },
  {
   "cell_type": "code",
   "execution_count": 19,
   "metadata": {},
   "outputs": [
    {
     "data": {
      "image/png": "[encoded data removed]",
      "text/plain": [
       "<Figure size 432x288 with 1 Axes>"
      ]
     },
     "metadata": {
      "needs_background": "light"
     },
     "output_type": "display_data"
    }
   ],
   "source": [
    "# Creo un gráfico de barras para el 2018\n",
    "plt.bar(df_2018['Month'], df_2018['Flights Booked'], color=\"green\", edgecolor=\"black\")\n",
    "\n",
    "# Añado las etiquetas del eje x y el y, título del gráfico y colores \n",
    "plt.xlabel('Mes', fontsize=15)\n",
    "plt.xticks(rotation=90)\n",
    "plt.ylabel('Flights Booked', fontsize=15)\n",
    "plt.title('Flights Booked por Mes en 2018')\n",
    "\n",
    "# Mostrar el gráfico\n",
    "plt.show()"
   ]
  },
  {
   "cell_type": "markdown",
   "metadata": {},
   "source": [
    "### 1. ¿Cómo se distribuye la cantidad de vuelos reservados por mes durante el año?\n",
    "\n",
    "## BOSPLOT o *Diagrama de cajas*\n",
    "\n",
    "Voy a intentar SUPERPONER los dos gráficos y para ello tengo que hacer alteraciones en el eje x/y\n",
    "si hago una superposicion tengo que hacer varios cambios que pueden ser los siguientes\n",
    "- 1. voy a poner una caja al lado de la otra 2017= azul y 2018 = green por lo que tendré que generar una leyenda\n",
    "he buscado en internet y sin subplot pt.figure() y dentro del parenteis pongo el tamaño de las letras este método\n",
    "nos hace una leyenda con los colores y los años \n",
    "- 2. El ancho de las columnas(barras) tengo que variarlas ire probando hasta dar con el tamaño y \n",
    "según los apuntes es width\n",
    "- 3. La estructura del eje x por lo que voy a usar el método de creación de array (estructura de datos) y crearemos un elemento único en la columna \"moth\"\n",
    "del dataframe del 2017 (por ejemplo) y usaremos según los apunte np.arange y crearemos la varible mes.\n",
    "- 4. Eje X : Lo he buscado y por lo visto para decir la barra que está a la izq (-) o a la derecha (+) y para determinar la variable del eje x es variable + width/2 Porque la mitad será para el 2017 y la mitad izq para el 2018 \n",
    "----> month - width/2 (2017)  month + width/2 (2018)\n",
    "- 5. Eje Y : En el df2017 (podría ser el otro DataFrame)usamos el método Groupby con la columna \"Month\" y la columna 'Flights Booked' y los valores de cada año se suman ----> df_2017('Month')['Flights Booked'].sum()\n",
    "- 6. En las agrupaciones adicionales vamos a informar que el ancho de las dos columnas a comparar sean iguales \n",
    "- 7. Tenemos que informar que tenemos datos adicionales label=2017 y label=2018\n",
    "la sintaxis del boxplot es \n",
    "\n",
    "```python\n",
    "plt.bar(x, y, data=data, widths, hue, labels, boxprops color=\"blue\", edgecolor=\"black\") \n",
    "```\n",
    "\n",
    "\n",
    " - 8. En plt.xticks a aparte de la (rotation=90) tenemos que decirle las posiciones del eje X\n",
    " - 9. Usa plt.legend()\n",
    " - 10. Mostrar gráfica plt.show()"
   ]
  },
  {
   "cell_type": "code",
   "execution_count": 20,
   "metadata": {},
   "outputs": [
    {
     "data": {
      "image/png": "[encoded data removed]",
      "text/plain": [
       "<Figure size 720x432 with 1 Axes>"
      ]
     },
     "metadata": {
      "needs_background": "light"
     },
     "output_type": "display_data"
    }
   ],
   "source": [
    "# 1. Crear una figura y pruebo con distintos rangos \n",
    "plt.figure(figsize=(10, 6))\n",
    "\n",
    "# 2. El ancho de las columnas y pruebo con distintos números\n",
    "width = 0.4 \n",
    "\n",
    "# 3. La estructura del eje x usamos el array rango y los agrupamos en una estructura única y unidimensional\n",
    "months = np.arange(len(df_2017['Month'].unique()))\n",
    "\n",
    "# 7. SINTAXIS DE BOXPLOT Creamos el gráfico de barras para 2017\n",
    "plt.bar(months - width/2, df_2017.groupby('Month')['Flights Booked'].sum(), width=width, color=\"yellow\",edgecolor=\"black\", label=\"2017\")\n",
    "\n",
    "# 7. SINTAXIS DE BOXPLOT Creamos el gráfico de barras para 2018\n",
    "plt.bar(months + width/2, df_2018.groupby('Month')['Flights Booked'].sum(), width=width, color=\"green\", label=\"2018\")\n",
    "\n",
    "# Añadir etiquetas a los ejes y variamos el título \n",
    "plt.xlabel('Mes', fontsize=15)\n",
    "plt.ylabel('Vuelos Reservados', fontsize=15)\n",
    "plt.title('Comparación de Vuelos Reservados por Mes en 2017 y 2018', fontsize=18)\n",
    "\n",
    "# Añadir las etiquetas de los meses en el eje X con una rotación de 90 grados\n",
    "plt.xticks(months, df_2017['Month'].unique(), rotation=90)\n",
    "\n",
    "# Añadir leyenda para distinguir ambos años\n",
    "plt.legend()\n",
    "\n",
    "# Mostrar el gráfico\n",
    "plt.show()\n"
   ]
  },
  {
   "cell_type": "code",
   "execution_count": 21,
   "metadata": {},
   "outputs": [
    {
     "data": {
      "text/plain": [
       "Index(['Loyalty Number', 'Year', 'Month', 'Flights Booked',\n",
       "       'Flights with Companions', 'Total Flights', 'Distance',\n",
       "       'Points Accumulated', 'Points Redeemed', 'Dollar Cost Points Redeemed'],\n",
       "      dtype='object')"
      ]
     },
     "execution_count": 21,
     "metadata": {},
     "output_type": "execute_result"
    }
   ],
   "source": [
    "df.columns"
   ]
  },
  {
   "cell_type": "markdown",
   "metadata": {},
   "source": [
    "# FASE II:VISUALIZACIÓN\n",
    "### 2. ¿Existe una relación entre la distancia de los vuelos y los puntos acumulados por los clientes?\n",
    "En el EDA ya había echo algunas consultas puesto se veía un patrón entre la Distancia y la acumulación de puntos. \n",
    "Vamos a usar las variables 'Distance' 'Points Accumulated' vamos a concretar datos de la exploración que hicimos.\n",
    "\n",
    "\n",
    "## BOSPLOT o *Diagrama de cajas*\n"
   ]
  },
  {
   "cell_type": "code",
   "execution_count": 22,
   "metadata": {},
   "outputs": [
    {
     "data": {
      "text/plain": [
       "array([1521, 2030, 1200, ..., 1217,  617, 4135])"
      ]
     },
     "execution_count": 22,
     "metadata": {},
     "output_type": "execute_result"
    }
   ],
   "source": [
    "# REVISAR me salen los 3 valores primeros y los 3 ultimos\n",
    "df['Distance'].unique()"
   ]
  },
  {
   "cell_type": "code",
   "execution_count": 23,
   "metadata": {},
   "outputs": [
    {
     "data": {
      "text/plain": [
       "array([152.  , 203.  , 120.  , ...,  18.75, 601.  , 626.  ])"
      ]
     },
     "execution_count": 23,
     "metadata": {},
     "output_type": "execute_result"
    }
   ],
   "source": [
    "# REVISAR me salen los 3 valores primeros y los 3 ultimos\n",
    "df['Points Accumulated'].unique()"
   ]
  },
  {
   "cell_type": "code",
   "execution_count": 24,
   "metadata": {},
   "outputs": [
    {
     "data": {
      "text/html": [
       "<div>\n",
       "<style scoped>\n",
       "    .dataframe tbody tr th:only-of-type {\n",
       "        vertical-align: middle;\n",
       "    }\n",
       "\n",
       "    .dataframe tbody tr th {\n",
       "        vertical-align: top;\n",
       "    }\n",
       "\n",
       "    .dataframe thead th {\n",
       "        text-align: right;\n",
       "    }\n",
       "</style>\n",
       "<table border=\"1\" class=\"dataframe\">\n",
       "  <thead>\n",
       "    <tr style=\"text-align: right;\">\n",
       "      <th></th>\n",
       "      <th>Distance</th>\n",
       "      <th>Points Accumulated</th>\n",
       "    </tr>\n",
       "  </thead>\n",
       "  <tbody>\n",
       "    <tr>\n",
       "      <th>0</th>\n",
       "      <td>1521</td>\n",
       "      <td>152.0</td>\n",
       "    </tr>\n",
       "    <tr>\n",
       "      <th>1</th>\n",
       "      <td>2030</td>\n",
       "      <td>203.0</td>\n",
       "    </tr>\n",
       "    <tr>\n",
       "      <th>2</th>\n",
       "      <td>1200</td>\n",
       "      <td>120.0</td>\n",
       "    </tr>\n",
       "    <tr>\n",
       "      <th>10</th>\n",
       "      <td>2037</td>\n",
       "      <td>203.0</td>\n",
       "    </tr>\n",
       "    <tr>\n",
       "      <th>11</th>\n",
       "      <td>4245</td>\n",
       "      <td>424.0</td>\n",
       "    </tr>\n",
       "    <tr>\n",
       "      <th>16</th>\n",
       "      <td>1144</td>\n",
       "      <td>114.0</td>\n",
       "    </tr>\n",
       "    <tr>\n",
       "      <th>18</th>\n",
       "      <td>3264</td>\n",
       "      <td>326.0</td>\n",
       "    </tr>\n",
       "    <tr>\n",
       "      <th>19</th>\n",
       "      <td>2340</td>\n",
       "      <td>234.0</td>\n",
       "    </tr>\n",
       "    <tr>\n",
       "      <th>20</th>\n",
       "      <td>1236</td>\n",
       "      <td>123.0</td>\n",
       "    </tr>\n",
       "    <tr>\n",
       "      <th>21</th>\n",
       "      <td>3124</td>\n",
       "      <td>312.0</td>\n",
       "    </tr>\n",
       "  </tbody>\n",
       "</table>\n",
       "</div>"
      ],
      "text/plain": [
       "    Distance  Points Accumulated\n",
       "0       1521               152.0\n",
       "1       2030               203.0\n",
       "2       1200               120.0\n",
       "10      2037               203.0\n",
       "11      4245               424.0\n",
       "16      1144               114.0\n",
       "18      3264               326.0\n",
       "19      2340               234.0\n",
       "20      1236               123.0\n",
       "21      3124               312.0"
      ]
     },
     "execution_count": 24,
     "metadata": {},
     "output_type": "execute_result"
    }
   ],
   "source": [
    "# vamos a explorar dos columnas que parecen tener relación\n",
    "# podemos ver que la distancia del vuelo es el equivalente en puntos y se redondea a los multiplos de 10 mas cercano\n",
    "# sin embargo por azar he visto que cuando la distancia es 606 son 60 puntos voy a hacer una comprobación si la distancia es mayor a 1000\n",
    "# si es menor a 1000\n",
    "# efectivamente en las comprobaciones he podido observar que a partir de 1000 es cuando empiezan a contar \n",
    "\n",
    "df[df['Distance'] > 1000][['Distance', 'Points Accumulated']].head(10)\n"
   ]
  },
  {
   "cell_type": "code",
   "execution_count": 25,
   "metadata": {},
   "outputs": [
    {
     "data": {
      "text/html": [
       "<div>\n",
       "<style scoped>\n",
       "    .dataframe tbody tr th:only-of-type {\n",
       "        vertical-align: middle;\n",
       "    }\n",
       "\n",
       "    .dataframe tbody tr th {\n",
       "        vertical-align: top;\n",
       "    }\n",
       "\n",
       "    .dataframe thead th {\n",
       "        text-align: right;\n",
       "    }\n",
       "</style>\n",
       "<table border=\"1\" class=\"dataframe\">\n",
       "  <thead>\n",
       "    <tr style=\"text-align: right;\">\n",
       "      <th></th>\n",
       "      <th>Distance</th>\n",
       "      <th>Points Accumulated</th>\n",
       "    </tr>\n",
       "  </thead>\n",
       "  <tbody>\n",
       "    <tr>\n",
       "      <th>0</th>\n",
       "      <td>1521</td>\n",
       "      <td>152.0</td>\n",
       "    </tr>\n",
       "    <tr>\n",
       "      <th>1</th>\n",
       "      <td>2030</td>\n",
       "      <td>203.0</td>\n",
       "    </tr>\n",
       "    <tr>\n",
       "      <th>2</th>\n",
       "      <td>1200</td>\n",
       "      <td>120.0</td>\n",
       "    </tr>\n",
       "    <tr>\n",
       "      <th>8</th>\n",
       "      <td>606</td>\n",
       "      <td>60.0</td>\n",
       "    </tr>\n",
       "    <tr>\n",
       "      <th>10</th>\n",
       "      <td>2037</td>\n",
       "      <td>203.0</td>\n",
       "    </tr>\n",
       "    <tr>\n",
       "      <th>11</th>\n",
       "      <td>4245</td>\n",
       "      <td>424.0</td>\n",
       "    </tr>\n",
       "    <tr>\n",
       "      <th>16</th>\n",
       "      <td>1144</td>\n",
       "      <td>114.0</td>\n",
       "    </tr>\n",
       "    <tr>\n",
       "      <th>18</th>\n",
       "      <td>3264</td>\n",
       "      <td>326.0</td>\n",
       "    </tr>\n",
       "    <tr>\n",
       "      <th>19</th>\n",
       "      <td>2340</td>\n",
       "      <td>234.0</td>\n",
       "    </tr>\n",
       "    <tr>\n",
       "      <th>20</th>\n",
       "      <td>1236</td>\n",
       "      <td>123.0</td>\n",
       "    </tr>\n",
       "  </tbody>\n",
       "</table>\n",
       "</div>"
      ],
      "text/plain": [
       "    Distance  Points Accumulated\n",
       "0       1521               152.0\n",
       "1       2030               203.0\n",
       "2       1200               120.0\n",
       "8        606                60.0\n",
       "10      2037               203.0\n",
       "11      4245               424.0\n",
       "16      1144               114.0\n",
       "18      3264               326.0\n",
       "19      2340               234.0\n",
       "20      1236               123.0"
      ]
     },
     "execution_count": 25,
     "metadata": {},
     "output_type": "execute_result"
    }
   ],
   "source": [
    "df[df['Distance'] > 0][['Distance', 'Points Accumulated']].head(10)"
   ]
  },
  {
   "cell_type": "code",
   "execution_count": 26,
   "metadata": {},
   "outputs": [
    {
     "data": {
      "text/html": [
       "<div>\n",
       "<style scoped>\n",
       "    .dataframe tbody tr th:only-of-type {\n",
       "        vertical-align: middle;\n",
       "    }\n",
       "\n",
       "    .dataframe tbody tr th {\n",
       "        vertical-align: top;\n",
       "    }\n",
       "\n",
       "    .dataframe thead th {\n",
       "        text-align: right;\n",
       "    }\n",
       "</style>\n",
       "<table border=\"1\" class=\"dataframe\">\n",
       "  <thead>\n",
       "    <tr style=\"text-align: right;\">\n",
       "      <th></th>\n",
       "      <th>Distance</th>\n",
       "      <th>Points Accumulated</th>\n",
       "    </tr>\n",
       "  </thead>\n",
       "  <tbody>\n",
       "    <tr>\n",
       "      <th>8</th>\n",
       "      <td>606</td>\n",
       "      <td>60.0</td>\n",
       "    </tr>\n",
       "    <tr>\n",
       "      <th>40</th>\n",
       "      <td>658</td>\n",
       "      <td>65.0</td>\n",
       "    </tr>\n",
       "    <tr>\n",
       "      <th>79</th>\n",
       "      <td>346</td>\n",
       "      <td>34.0</td>\n",
       "    </tr>\n",
       "    <tr>\n",
       "      <th>89</th>\n",
       "      <td>484</td>\n",
       "      <td>48.0</td>\n",
       "    </tr>\n",
       "    <tr>\n",
       "      <th>105</th>\n",
       "      <td>932</td>\n",
       "      <td>93.0</td>\n",
       "    </tr>\n",
       "    <tr>\n",
       "      <th>108</th>\n",
       "      <td>840</td>\n",
       "      <td>84.0</td>\n",
       "    </tr>\n",
       "  </tbody>\n",
       "</table>\n",
       "</div>"
      ],
      "text/plain": [
       "     Distance  Points Accumulated\n",
       "8         606                60.0\n",
       "40        658                65.0\n",
       "79        346                34.0\n",
       "89        484                48.0\n",
       "105       932                93.0\n",
       "108       840                84.0"
      ]
     },
     "execution_count": 26,
     "metadata": {},
     "output_type": "execute_result"
    }
   ],
   "source": [
    "df[df['Distance'] < 1000][['Distance', 'Points Accumulated']].head(6)"
   ]
  },
  {
   "cell_type": "code",
   "execution_count": 27,
   "metadata": {},
   "outputs": [
    {
     "name": "stdout",
     "output_type": "stream",
     "text": [
      "    Distance  Points Accumulated\n",
      "0         90                9.00\n",
      "1         91               27.72\n",
      "2         92               18.00\n",
      "3         94               27.00\n",
      "4         95               18.72\n",
      "5         96               18.00\n",
      "6         97               18.72\n",
      "7         98               38.25\n",
      "8         99                9.72\n",
      "9        100               20.00\n",
      "10       101               30.00\n",
      "11       102               42.50\n",
      "12       103               10.80\n",
      "13       104               20.00\n",
      "14       106               30.00\n",
      "15       107               20.00\n",
      "16       108               25.00\n",
      "17       109               10.00\n",
      "18       110               11.00\n",
      "19       111               33.00\n",
      "20       112               11.00\n",
      "21       115               22.88\n",
      "22       117               22.00\n",
      "23       118               33.00\n"
     ]
    }
   ],
   "source": [
    "# voy a probar como ver la cantidad de distancia con los puntos acumulados y voy hacer un df \n",
    "distancia_ptos_acumulados = df.groupby(['Distance'])['Points Accumulated'].sum().reset_index()\n",
    "\n",
    "# Compruebo los primeros resultados para verificar \n",
    "print(distancia_ptos_acumulados.head(24))"
   ]
  },
  {
   "cell_type": "code",
   "execution_count": 28,
   "metadata": {},
   "outputs": [
    {
     "name": "stdout",
     "output_type": "stream",
     "text": [
      "   Distance  Points Accumulated\n",
      "0        90                9.00\n",
      "1        91               27.72\n",
      "2        92               18.00\n",
      "3        94               27.00\n",
      "4        95               18.72\n",
      "5        96               18.00\n",
      "6        97               18.72\n",
      "7        98               38.25\n",
      "8        99                9.72\n"
     ]
    }
   ],
   "source": [
    "# si uso el metodo ISIN() puedo filtrar filas con las distancias específicas, y revisar el comportamiento\n",
    "# de los números\n",
    "#por ejemplo, 500 y 1000\n",
    "distancias_especificas = distancia_ptos_acumulados[distancia_ptos_acumulados['Distance'].isin([90,91,92,93,94,95,96,97,98, 99])]\n",
    "\n",
    "# Mostrar los resultados\n",
    "print(distancias_especificas)"
   ]
  },
  {
   "cell_type": "code",
   "execution_count": 29,
   "metadata": {},
   "outputs": [
    {
     "name": "stdout",
     "output_type": "stream",
     "text": [
      "   Distance  Points Accumulated\n",
      "0        90                9.00\n",
      "1        91               27.72\n",
      "2        92               18.00\n",
      "3        94               27.00\n",
      "4        95               18.72\n",
      "5        96               18.00\n",
      "6        97               18.72\n",
      "7        98               38.25\n",
      "8        99                9.72\n"
     ]
    }
   ],
   "source": [
    "# si uso el metodo ISIN() puedo filtrar filas con las distancias específicas, y revisar el comportamiento\n",
    "# de los números\n",
    "#por ejemplo, 500 y 1000\n",
    "#df[df['Distance'].isin([6231, 6293])]\n",
    "distancias_especificas = distancia_ptos_acumulados[distancia_ptos_acumulados['Distance'].isin([90,91,92,93,94,95,96,97,98, 99])]\n",
    "\n",
    "# Mostrar los resultados\n",
    "print(distancias_especificas)"
   ]
  },
  {
   "cell_type": "code",
   "execution_count": 30,
   "metadata": {},
   "outputs": [
    {
     "name": "stdout",
     "output_type": "stream",
     "text": [
      "        Loyalty Number  Distance  Points Accumulated  Year  Month\n",
      "8302            543285        91                9.00  2017      1\n",
      "18647           194482        94                9.00  2017      2\n",
      "23607           458614        90                9.00  2017      2\n",
      "26561           614000        91                9.00  2017      2\n",
      "26857           628844        97                9.00  2017      2\n",
      "63085           756646        95                9.00  2017      4\n",
      "136884          190561        98                9.00  2017      9\n",
      "173691          349838        92                9.00  2017     11\n",
      "177513          553453        94                9.00  2017     11\n",
      "183196          853540        96                9.00  2017     11\n",
      "212131          596818        92                9.00  2018      1\n",
      "219718          605761        91                9.72  2018      2\n",
      "219744          207821        95                9.72  2018      4\n",
      "219755          378267        97                9.72  2018      2\n",
      "219917          595658        98               11.25  2018      4\n",
      "283038          721456        99                9.72  2018      4\n",
      "351877          835973        98                9.00  2018      9\n",
      "372205          120554        98                9.00  2018     11\n",
      "386608          885497        96                9.00  2018     11\n",
      "388264          974209        94                9.00  2018     11\n"
     ]
    }
   ],
   "source": [
    "\n",
    "#distancias_especificas = df[df['Distance'].isin([6231, 6293])][['Distance', 'Points Accumulated','Flights Booked',\n",
    " #      'Flights with Companions', 'Total Flights']]\n",
    "\n",
    "\n",
    "distancias_especificas = df[df['Distance'].isin([90,91,92,93,94,95,96,97,98, 99])][['Loyalty Number','Distance', 'Points Accumulated','Year', 'Month']]\n",
    "\n",
    "# Mostrar los resultados\n",
    "print(distancias_especificas)"
   ]
  },
  {
   "cell_type": "code",
   "execution_count": 31,
   "metadata": {},
   "outputs": [
    {
     "name": "stdout",
     "output_type": "stream",
     "text": [
      "        Loyalty Number  Distance  Points Accumulated  Points Redeemed\n",
      "8302            543285        91                9.00                0\n",
      "18647           194482        94                9.00                0\n",
      "23607           458614        90                9.00                0\n",
      "26561           614000        91                9.00                0\n",
      "26857           628844        97                9.00                0\n",
      "63085           756646        95                9.00                0\n",
      "136884          190561        98                9.00                0\n",
      "173691          349838        92                9.00                0\n",
      "177513          553453        94                9.00                0\n",
      "183196          853540        96                9.00                0\n",
      "212131          596818        92                9.00                0\n",
      "219718          605761        91                9.72                0\n",
      "219744          207821        95                9.72                0\n",
      "219755          378267        97                9.72                0\n",
      "219917          595658        98               11.25                0\n",
      "283038          721456        99                9.72                0\n",
      "351877          835973        98                9.00                0\n",
      "372205          120554        98                9.00                0\n",
      "386608          885497        96                9.00                0\n",
      "388264          974209        94                9.00                0\n"
     ]
    }
   ],
   "source": [
    "\n",
    "#distancias_especificas = df[df['Distance'].isin([6231, 6293])][['Distance', 'Points Accumulated','Flights Booked',\n",
    " #      'Flights with Companions', 'Total Flights']]\n",
    "\n",
    "\n",
    "distancias_especificas = df[df['Distance'].isin([90,91,92,93,94,95,96,97,98, 99])][['Loyalty Number','Distance', 'Points Accumulated','Points Redeemed']]\n",
    "\n",
    "# Mostrar los resultados\n",
    "print(distancias_especificas)"
   ]
  },
  {
   "cell_type": "code",
   "execution_count": 32,
   "metadata": {},
   "outputs": [
    {
     "name": "stdout",
     "output_type": "stream",
     "text": [
      "        Loyalty Number  Year  Month  Flights Booked  Flights with Companions  \\\n",
      "26857           628844  2017      2               1                        0   \n",
      "63085           756646  2017      4               1                        0   \n",
      "136884          190561  2017      9               1                        0   \n",
      "219744          207821  2018      4               1                        0   \n",
      "219755          378267  2018      2               1                        0   \n",
      "219917          595658  2018      4               1                        0   \n",
      "351877          835973  2018      9               1                        0   \n",
      "372205          120554  2018     11               1                        0   \n",
      "\n",
      "        Total Flights  Distance  Points Accumulated  Points Redeemed  \\\n",
      "26857               1        97                9.00                0   \n",
      "63085               1        95                9.00                0   \n",
      "136884              1        98                9.00                0   \n",
      "219744              1        95                9.72                0   \n",
      "219755              1        97                9.72                0   \n",
      "219917              1        98               11.25                0   \n",
      "351877              1        98                9.00                0   \n",
      "372205              1        98                9.00                0   \n",
      "\n",
      "        Dollar Cost Points Redeemed  \n",
      "26857                             0  \n",
      "63085                             0  \n",
      "136884                            0  \n",
      "219744                            0  \n",
      "219755                            0  \n",
      "219917                            0  \n",
      "351877                            0  \n",
      "372205                            0  \n"
     ]
    }
   ],
   "source": [
    "distancias_especificas = df[df['Distance'].isin([95,97,98])][['Loyalty Number', 'Year', 'Month', 'Flights Booked',\n",
    "       'Flights with Companions', 'Total Flights', 'Distance',\n",
    "       'Points Accumulated', 'Points Redeemed', 'Dollar Cost Points Redeemed']]\n",
    "\n",
    "# Mostrar los resultados\n",
    "print(distancias_especificas)"
   ]
  },
  {
   "cell_type": "code",
   "execution_count": 33,
   "metadata": {},
   "outputs": [
    {
     "name": "stdout",
     "output_type": "stream",
     "text": [
      "        Loyalty Number  Year  Distance  Points Accumulated\n",
      "272             892022  2017      4080              408.00\n",
      "303             101709  2017      3255              325.00\n",
      "441             486200  2018      3792              409.32\n",
      "448             567420  2018      3792              409.32\n",
      "479             101709  2018      2249              336.00\n",
      "...                ...   ...       ...                 ...\n",
      "405138          999788  2017      2717              271.00\n",
      "405234          116703  2018       402               43.20\n",
      "405380          543862  2017      1008              100.00\n",
      "405427          602574  2017       704               70.00\n",
      "405580          473410  2018       882               95.04\n",
      "\n",
      "[16852 rows x 4 columns]\n"
     ]
    }
   ],
   "source": [
    "distancias_especificas = df[df['Month'].isin([4])][['Loyalty Number', 'Year','Distance','Points Accumulated']]\n",
    "\n",
    "# Mostrar los resultados\n",
    "print(distancias_especificas)"
   ]
  },
  {
   "cell_type": "code",
   "execution_count": null,
   "metadata": {},
   "outputs": [],
   "source": [
    "# por lo que puedo ver en el mes 4 cambian los puntos acumulados según la distancia\n",
    "# voy a comprobar que hay una variación entre los km y los puntos acumulados\n",
    "# y hemos podido observar que esto ocurre solo en el 2018 \n",
    "# No voy a usar las hipotesis voy a usar el código y como un año sólo tiene 12 meses voy hacer la prueba 12 veces en el 2017\n",
    "# y 12 veces en el 2018 y con los resultados saco conclusiones para poder hacer la gráfica\n",
    "# haciendo esto sin la formulación de hipotesis que sería mas sencillo puedo deducir\n",
    "# que en el 2018 parece encontrarse una promocion en los meses 2,3,4 que según pudimos ver eran en los que menos vuelos\n",
    "# se realizaban en el 2017. Entendemos que durante el 2018 se realiza una promoción en los meses 2,3,4 ya que \n",
    "# encuentro una variación en la media de puntos comparando los meses \n",
    "# pego el código que he usado "
   ]
  },
  {
   "cell_type": "code",
   "execution_count": 34,
   "metadata": {},
   "outputs": [
    {
     "name": "stdout",
     "output_type": "stream",
     "text": [
      "Media de puntos acumulados por km en el mes 4 del 2018 (promoción): 0.12217740413563588\n",
      "Media de puntos acumulados por km en otros meses del 2018: 0.10363594830115855\n"
     ]
    }
   ],
   "source": [
    "# 2018 CON PROMOCIÓN Y MISMOS RESULTADOS QUE AQUI MES: 2,3,4\n",
    "# Voy a filtrar por año 2018 y por mes 4 (posible promoción)\n",
    "# Esto lo he hecho con todos los meses del 2018 por lo que lo he ejecutado 12 veces y he encontrado diferncia en 3 meses\n",
    "# mes 2,3,4,\n",
    "mes_promo = df[(df['Year'] == 2018) & (df['Month'] == 4)][['Loyalty Number', 'Distance', 'Points Accumulated']]\n",
    "\n",
    "otros_meses_no_promo = df[(df['Year'] == 2018) & (df['Month'] != 4)][['Loyalty Number', 'Distance', 'Points Accumulated']]\n",
    "\n",
    "# comparar la relacion entre distancia y puntos acumulados en los dos data anteriores\n",
    "mes_promo['Points per Mile'] = mes_promo['Points Accumulated'] / mes_promo['Distance']\n",
    "otros_meses_no_promo['Points per Mile'] = otros_meses_no_promo['Points Accumulated'] / otros_meses_no_promo['Distance']\n",
    "\n",
    "# Calcular la media de puntos acumulados por milla en ambos casos\n",
    "promo_points_media = mes_promo['Points per Mile'].mean()\n",
    "otros_points_media = otros_meses_no_promo['Points per Mile'].mean()\n",
    "\n",
    "# Imprimeme los resultados \n",
    "print(f\"Media de puntos acumulados por km en el mes 4 del 2018 (promoción): {promo_points_media}\")\n",
    "print(f\"Media de puntos acumulados por km en otros meses del 2018: {otros_points_media}\")"
   ]
  },
  {
   "cell_type": "code",
   "execution_count": 35,
   "metadata": {},
   "outputs": [
    {
     "name": "stdout",
     "output_type": "stream",
     "text": [
      "Media de puntos acumulados por km en el mes 8 del 2018 (promoción): 0.09981351951384067\n",
      "Media de puntos acumulados por km en otros meses del 2018: 0.10563258386495802\n"
     ]
    }
   ],
   "source": [
    "# 2018 SIN PROMOCIÓN Y MISMOS RESULTADOS QUE AQUI MES: 1,5,6,7,8,9,10,11,12\n",
    "# Voy a filtrar por año 2018 y por mes 8 (sin promoción)\n",
    "# Esto lo he hecho con todos los meses del 2018 por lo que lo he ejecutado 12 veces y he encontrado diferncia en 3 meses\n",
    "# mes 2,3,4,\n",
    "mes_promo = df[(df['Year'] == 2018) & (df['Month'] == 8)][['Loyalty Number', 'Distance', 'Points Accumulated']]\n",
    "\n",
    "otros_meses_no_promo = df[(df['Year'] == 2018) & (df['Month'] != 8)][['Loyalty Number', 'Distance', 'Points Accumulated']]\n",
    "\n",
    "# comparar la relacion entre distancia y puntos acumulados en los dos data anteriores\n",
    "mes_promo['Points per Mile'] = mes_promo['Points Accumulated'] / mes_promo['Distance']\n",
    "otros_meses_no_promo['Points per Mile'] = otros_meses_no_promo['Points Accumulated'] / otros_meses_no_promo['Distance']\n",
    "\n",
    "# Calcular la media de puntos acumulados por milla en ambos casos\n",
    "promo_points_media = mes_promo['Points per Mile'].mean()\n",
    "otros_points_media = otros_meses_no_promo['Points per Mile'].mean()\n",
    "\n",
    "\n",
    "# Imprimeme los resultados \n",
    "print(f\"Media de puntos acumulados por km en el mes 8 del 2018 (promoción): {promo_points_media}\")\n",
    "print(f\"Media de puntos acumulados por km en otros meses del 2018: {otros_points_media}\")"
   ]
  },
  {
   "cell_type": "markdown",
   "metadata": {},
   "source": [
    "#######################################"
   ]
  },
  {
   "cell_type": "code",
   "execution_count": 57,
   "metadata": {},
   "outputs": [
    {
     "name": "stdout",
     "output_type": "stream",
     "text": [
      "    Loyalty Number  Year       Month  Points Accumulated\n",
      "0           100018  2017       Abril                92.0\n",
      "1           100018  2017      Agosto               420.0\n",
      "2           100018  2017   Diciembre               190.0\n",
      "3           100018  2017       Enero               152.0\n",
      "4           100018  2017     Febrero               132.0\n",
      "5           100018  2017       Julio               387.0\n",
      "6           100018  2017       Junio               433.0\n",
      "7           100018  2017       Marzo               253.0\n",
      "8           100018  2017        Mayo                 0.0\n",
      "9           100018  2017   Noviembre               337.0\n",
      "10          100018  2017     Octubre               103.0\n",
      "11          100018  2017  Septiembre               165.0\n",
      "12          100018  2018       Abril               388.5\n",
      "13          100018  2018      Agosto                 0.0\n",
      "14          100018  2018   Diciembre               494.0\n",
      "15          100018  2018       Enero                31.0\n",
      "16          100018  2018     Febrero               273.0\n",
      "17          100018  2018       Julio               273.0\n",
      "18          100018  2018       Junio                 0.0\n",
      "19          100018  2018       Marzo               280.5\n",
      "20          100018  2018        Mayo                 0.0\n",
      "21          100018  2018   Noviembre               305.0\n",
      "22          100018  2018     Octubre               311.0\n",
      "23          100018  2018  Septiembre               356.0\n"
     ]
    }
   ],
   "source": [
    "# Agrupar los datos por Loyalty Number, Year, Month y Distance\n",
    "cliente_puntos_año_mes_id = df.groupby(['Loyalty Number', 'Year', 'Month'])['Points Accumulated'].sum().reset_index()\n",
    "\n",
    "\n",
    "# Mostrar los primeros 24 resultados para verificar\n",
    "print(cliente_puntos_año_mes_id.head(24))\n"
   ]
  },
  {
   "cell_type": "code",
   "execution_count": 58,
   "metadata": {},
   "outputs": [
    {
     "name": "stdout",
     "output_type": "stream",
     "text": [
      "    Loyalty Number  Year       Month  Distance\n",
      "0           100018  2017       Abril       924\n",
      "1           100018  2017      Agosto      4200\n",
      "2           100018  2017   Diciembre      1908\n",
      "3           100018  2017       Enero      1521\n",
      "4           100018  2017     Febrero      1320\n",
      "5           100018  2017       Julio      3870\n",
      "6           100018  2017       Junio      4330\n",
      "7           100018  2017       Marzo      2533\n",
      "8           100018  2017        Mayo         0\n",
      "9           100018  2017   Noviembre      3374\n",
      "10          100018  2017     Octubre      1032\n",
      "11          100018  2017  Septiembre      1651\n",
      "12          100018  2018       Abril      2590\n",
      "13          100018  2018      Agosto         0\n",
      "14          100018  2018   Diciembre      4945\n",
      "15          100018  2018       Enero       312\n",
      "16          100018  2018     Febrero      1824\n",
      "17          100018  2018       Julio      2736\n",
      "18          100018  2018       Junio         0\n",
      "19          100018  2018       Marzo      1876\n",
      "20          100018  2018        Mayo         0\n",
      "21          100018  2018   Noviembre      3058\n",
      "22          100018  2018     Octubre      3110\n",
      "23          100018  2018  Septiembre      3568\n"
     ]
    }
   ],
   "source": [
    "# Agrupar los datos por Loyalty Number, Year, Month y Distance\n",
    "cliente_puntos_año_mes_id_2 = df.groupby(['Loyalty Number', 'Year', 'Month'])['Distance'].sum().reset_index()\n",
    "\n",
    "\n",
    "# Mostrar los primeros 24 resultados para verificar\n",
    "print(cliente_puntos_año_mes_id_2.head(24))"
   ]
  },
  {
   "cell_type": "code",
   "execution_count": 64,
   "metadata": {},
   "outputs": [
    {
     "name": "stdout",
     "output_type": "stream",
     "text": [
      "    Loyalty Number  Year       Month  Points Accumulated\n",
      "0           100018  2017       Abril                92.0\n",
      "1           100018  2017      Agosto               420.0\n",
      "2           100018  2017   Diciembre               190.0\n",
      "3           100018  2017       Enero               152.0\n",
      "4           100018  2017     Febrero               132.0\n",
      "5           100018  2017       Julio               387.0\n",
      "6           100018  2017       Junio               433.0\n",
      "7           100018  2017       Marzo               253.0\n",
      "8           100018  2017        Mayo                 0.0\n",
      "9           100018  2017   Noviembre               337.0\n",
      "10          100018  2017     Octubre               103.0\n",
      "11          100018  2017  Septiembre               165.0\n",
      "12          100018  2018       Abril               388.5\n",
      "13          100018  2018      Agosto                 0.0\n",
      "14          100018  2018   Diciembre               494.0\n",
      "15          100018  2018       Enero                31.0\n",
      "16          100018  2018     Febrero               273.0\n",
      "17          100018  2018       Julio               273.0\n",
      "18          100018  2018       Junio                 0.0\n",
      "19          100018  2018       Marzo               280.5\n",
      "20          100018  2018        Mayo                 0.0\n",
      "21          100018  2018   Noviembre               305.0\n",
      "22          100018  2018     Octubre               311.0\n",
      "23          100018  2018  Septiembre               356.0\n"
     ]
    }
   ],
   "source": [
    "# Agrupar los datos por Loyalty Number, Year y  sumo los puntos acumulados será la tabla de la izq para hacer un merge\n",
    "df_left_points = df.groupby(['Loyalty Number', 'Year','Month'])['Points Accumulated'].sum().reset_index()\n",
    "\n",
    "\n",
    "# Mostrar los primeros 24 resultados para verificar\n",
    "print(df_left_points.head(24))"
   ]
  },
  {
   "cell_type": "code",
   "execution_count": 65,
   "metadata": {},
   "outputs": [
    {
     "name": "stdout",
     "output_type": "stream",
     "text": [
      "    Loyalty Number  Year       Month  Distance\n",
      "0           100018  2017       Abril       924\n",
      "1           100018  2017      Agosto      4200\n",
      "2           100018  2017   Diciembre      1908\n",
      "3           100018  2017       Enero      1521\n",
      "4           100018  2017     Febrero      1320\n",
      "5           100018  2017       Julio      3870\n",
      "6           100018  2017       Junio      4330\n",
      "7           100018  2017       Marzo      2533\n",
      "8           100018  2017        Mayo         0\n",
      "9           100018  2017   Noviembre      3374\n",
      "10          100018  2017     Octubre      1032\n",
      "11          100018  2017  Septiembre      1651\n",
      "12          100018  2018       Abril      2590\n",
      "13          100018  2018      Agosto         0\n",
      "14          100018  2018   Diciembre      4945\n",
      "15          100018  2018       Enero       312\n",
      "16          100018  2018     Febrero      1824\n",
      "17          100018  2018       Julio      2736\n",
      "18          100018  2018       Junio         0\n",
      "19          100018  2018       Marzo      1876\n",
      "20          100018  2018        Mayo         0\n",
      "21          100018  2018   Noviembre      3058\n",
      "22          100018  2018     Octubre      3110\n",
      "23          100018  2018  Septiembre      3568\n"
     ]
    }
   ],
   "source": [
    "# Agrupar los datos por Loyalty Number, Year, Month y  sumo la Distance \n",
    "df_right_distance = df.groupby(['Loyalty Number', 'Year','Month'])['Distance'].sum().reset_index()\n",
    "\n",
    "\n",
    "# Mostrar los primeros 24 resultados para verificar\n",
    "print(df_right_distance.head(24))"
   ]
  },
  {
   "cell_type": "code",
   "execution_count": 66,
   "metadata": {},
   "outputs": [
    {
     "name": "stdout",
     "output_type": "stream",
     "text": [
      "    Loyalty Number  Year       Month  Points Accumulated  Distance\n",
      "0           100018  2017       Abril                92.0       924\n",
      "1           100018  2017      Agosto               420.0      4200\n",
      "2           100018  2017   Diciembre               190.0      1908\n",
      "3           100018  2017       Enero               152.0      1521\n",
      "4           100018  2017     Febrero               132.0      1320\n",
      "5           100018  2017       Julio               387.0      3870\n",
      "6           100018  2017       Junio               433.0      4330\n",
      "7           100018  2017       Marzo               253.0      2533\n",
      "8           100018  2017        Mayo                 0.0         0\n",
      "9           100018  2017   Noviembre               337.0      3374\n",
      "10          100018  2017     Octubre               103.0      1032\n",
      "11          100018  2017  Septiembre               165.0      1651\n",
      "12          100018  2018       Abril               388.5      2590\n",
      "13          100018  2018      Agosto                 0.0         0\n",
      "14          100018  2018   Diciembre               494.0      4945\n",
      "15          100018  2018       Enero                31.0       312\n",
      "16          100018  2018     Febrero               273.0      1824\n",
      "17          100018  2018       Julio               273.0      2736\n",
      "18          100018  2018       Junio                 0.0         0\n",
      "19          100018  2018       Marzo               280.5      1876\n",
      "20          100018  2018        Mayo                 0.0         0\n",
      "21          100018  2018   Noviembre               305.0      3058\n",
      "22          100018  2018     Octubre               311.0      3110\n",
      "23          100018  2018  Septiembre               356.0      3568\n"
     ]
    }
   ],
   "source": [
    "# Realizar el merge basado en las columnas comunes 'Loyalty Number' y 'Year'\n",
    "df_merged = df_left_points.merge(df_right_distance, how='inner', on=['Loyalty Number', 'Year','Month'])\n",
    "\n",
    "# Mostrar el resultado para verificar\n",
    "print(df_merged.head(24))\n"
   ]
  },
  {
   "cell_type": "code",
   "execution_count": 69,
   "metadata": {},
   "outputs": [
    {
     "data": {
      "image/png": "[encoded data removed]",
      "text/plain": [
       "<Figure size 720x432 with 1 Axes>"
      ]
     },
     "metadata": {
      "needs_background": "light"
     },
     "output_type": "display_data"
    }
   ],
   "source": [
    "# Crear el gráfico de regresión\n",
    "plt.figure(figsize=(10, 6))\n",
    "sns.regplot(x='Distance', y='Points Accumulated', data=df_merged, scatter_kws={'color': 'blue'}, line_kws={'color': 'red'})\n",
    "\n",
    "# Añadir etiquetas y título\n",
    "plt.title('Relación entre la Distancia Recorrida y los Puntos Acumulados', fontsize=15)\n",
    "plt.xlabel('Distancia (km)', fontsize=12)\n",
    "plt.ylabel('Puntos Acumulados', fontsize=12)\n",
    "\n",
    "# Mostrar el gráfico\n",
    "plt.show()\n"
   ]
  },
  {
   "cell_type": "code",
   "execution_count": 71,
   "metadata": {},
   "outputs": [],
   "source": [
    "# Crear un conjunto de datos para el 2017 y otro para el 2018\n",
    "df_2017_merg = df_merged[df_merged['Year'] == 2017]\n",
    "df_2018_merg = df_merged[df_merged['Year'] == 2018]"
   ]
  },
  {
   "cell_type": "code",
   "execution_count": 74,
   "metadata": {},
   "outputs": [],
   "source": [
    "df_2017_merg_sample = df_2017_merg.sample(10000)  # Tomar una muestra de 10,000 registros\n"
   ]
  },
  {
   "cell_type": "code",
   "execution_count": 75,
   "metadata": {},
   "outputs": [],
   "source": [
    "\n",
    "df_2017_merg_grouped = df_2017_merg.groupby('Month')['Points Accumulated'].sum().reset_index()"
   ]
  },
  {
   "cell_type": "code",
   "execution_count": 81,
   "metadata": {},
   "outputs": [
    {
     "data": {
      "image/png": "[encoded data removed]",
      "text/plain": [
       "<Figure size 432x288 with 1 Axes>"
      ]
     },
     "metadata": {
      "needs_background": "light"
     },
     "output_type": "display_data"
    }
   ],
   "source": [
    "# Creo un gráfico de barras para el 2017 utilizando el conjunto de datos correcto\n",
    "plt.bar(df_2017_merg_grouped['Month'], df_2017_merg_grouped['Points Accumulated'], color=\"yellow\", edgecolor=\"black\")\n",
    "\n",
    "# Añado las etiquetas del eje x y el y, título del gráfico y colores \n",
    "plt.xlabel('Mes', fontsize=15)\n",
    "plt.xticks(rotation=90)\n",
    "plt.ylabel('Points Accumulated', fontsize=15)\n",
    "plt.title('Puntos Acumulados por Mes en 2017(muestra representativa)')\n",
    "\n",
    "# Mostrar el gráfico\n",
    "plt.show()"
   ]
  },
  {
   "cell_type": "code",
   "execution_count": 86,
   "metadata": {},
   "outputs": [
    {
     "data": {
      "image/png": "[encoded data removed]",
      "text/plain": [
       "<Figure size 432x288 with 1 Axes>"
      ]
     },
     "metadata": {
      "needs_background": "light"
     },
     "output_type": "display_data"
    }
   ],
   "source": [
    "# Creo un gráfico de barras para el 2017 utilizando el conjunto de datos correcto\n",
    "categories = ['Abril', 'Agosto', 'Diciembre', 'Enero', 'Febrero', 'Julio', 'Junio', 'Marzo', 'Mayo', 'Noviembre', 'Octubre', 'Septiembre']\n",
    "\n",
    "\n",
    "plt.bar(df_2017_merg_grouped['Month'], df_2017_merg_grouped['Points Accumulated'], \n",
    "        color=\"yellow\", \n",
    "        edgecolor=['red' if month in ['Febrero', 'Marzo', 'Abril'] else 'black' for month in categories])\n",
    "\n",
    "# Añado las etiquetas del eje x y el y, título del gráfico y colores \n",
    "plt.xlabel('Mes', fontsize=15)\n",
    "plt.xticks(rotation=90)\n",
    "plt.ylabel('Points Accumulated', fontsize=15)\n",
    "plt.title('Puntos Acumulados por Mes en 2017(muestra representativa)')\n",
    "\n",
    "# Mostrar el gráfico\n",
    "plt.show()"
   ]
  },
  {
   "cell_type": "code",
   "execution_count": 77,
   "metadata": {},
   "outputs": [],
   "source": [
    "df_2018_merg_sample = df_2018_merg.sample(10000)  # Tomar una muestra de 10,000 registros"
   ]
  },
  {
   "cell_type": "code",
   "execution_count": 78,
   "metadata": {},
   "outputs": [],
   "source": [
    "df_2018_merg_grouped = df_2018_merg.groupby('Month')['Points Accumulated'].sum().reset_index()"
   ]
  },
  {
   "cell_type": "code",
   "execution_count": null,
   "metadata": {},
   "outputs": [],
   "source": [
    "# Creo un gráfico de barras para el 2017 utilizando el conjunto de datos correcto\n",
    "categories = ['Abril', 'Agosto', 'Diciembre', 'Enero', 'Febrero', 'Julio', 'Junio', 'Marzo', 'Mayo', 'Noviembre', 'Octubre', 'Septiembre']\n",
    "\n",
    "\n",
    "plt.bar(df_2017_merg_grouped['Month'], df_2017_merg_grouped['Points Accumulated'], color=\"yellow\", edgecolor=['red' if month in ['Febrero', 'Marzo', 'Abril'] else 'black' for month in categories])"
   ]
  },
  {
   "cell_type": "code",
   "execution_count": 87,
   "metadata": {},
   "outputs": [
    {
     "data": {
      "image/png": "[encoded data removed]",
      "text/plain": [
       "<Figure size 432x288 with 1 Axes>"
      ]
     },
     "metadata": {
      "needs_background": "light"
     },
     "output_type": "display_data"
    }
   ],
   "source": [
    "# Creo un gráfico de barras para el 2017 utilizando el conjunto de datos correcto\n",
    "categories = ['Abril', 'Agosto', 'Diciembre', 'Enero', 'Febrero', 'Julio', 'Junio', 'Marzo', 'Mayo', 'Noviembre', 'Octubre', 'Septiembre']\n",
    "\n",
    "# Creo un gráfico de barras para el 2018 utilizando el conjunto de datos correcto\n",
    "plt.bar(df_2018_merg_grouped['Month'], df_2018_merg_grouped['Points Accumulated'], color=\"green\", edgecolor=['red' if month in ['Febrero', 'Marzo', 'Abril'] else 'black' for month in categories])\n",
    "\n",
    "# Añado las etiquetas del eje x y el y, título del gráfico y colores \n",
    "plt.xlabel('Mes', fontsize=15)\n",
    "plt.xticks(rotation=90)\n",
    "plt.ylabel('Points Accumulated', fontsize=15)\n",
    "plt.title('Puntos Acumulados por Mes en 2018 (muestra representativa)')\n",
    "\n",
    "# Mostrar el gráfico\n",
    "plt.show()"
   ]
  },
  {
   "cell_type": "code",
   "execution_count": 89,
   "metadata": {},
   "outputs": [
    {
     "data": {
      "image/png": "[encoded data removed]",
      "text/plain": [
       "<Figure size 720x432 with 1 Axes>"
      ]
     },
     "metadata": {
      "needs_background": "light"
     },
     "output_type": "display_data"
    }
   ],
   "source": [
    "# Creo un gráfico de barras para el 2017 utilizando el conjunto de datos correcto\n",
    "categories = ['Abril', 'Agosto', 'Diciembre', 'Enero', 'Febrero', 'Julio', 'Junio', 'Marzo', 'Mayo', 'Noviembre', 'Octubre', 'Septiembre']\n",
    "\n",
    "# 1. Crear una figura y pruebo con distintos rangos \n",
    "plt.figure(figsize=(10, 6))\n",
    "\n",
    "# 2. El ancho de las columnas y pruebo con distintos números\n",
    "width = 0.4 \n",
    "\n",
    "# 3. La estructura del eje x usamos el array rango y los agrupamos en una estructura única y unidimensional\n",
    "months = np.arange(len(df_2017_merg_grouped['Month'].unique()))\n",
    "\n",
    "# 7. SINTAXIS DE BOXPLOT Creamos el gráfico de barras para 2017\n",
    "plt.bar(months - width/2, df_2017_merg.groupby('Month')['Points Accumulated'].sum(), \n",
    "        width=width, color=\"yellow\",\n",
    "        edgecolor=['red' if month in ['Febrero', 'Marzo', 'Abril'] else 'black' for month in categories], \n",
    "        label=\"2017\")\n",
    "\n",
    "# 7. SINTAXIS DE BOXPLOT Creamos el gráfico de barras para 2018\n",
    "plt.bar(months + width/2, df_2018_merg.groupby('Month')['Points Accumulated'].sum(), width=width, color=\"green\", label=\"2018\")\n",
    "\n",
    "# Añadir etiquetas a los ejes y variamos el título \n",
    "plt.xlabel('Mes', fontsize=15)\n",
    "plt.ylabel('Points Accumulated', fontsize=15)\n",
    "plt.title('Comparación de una muestra reprentativa de puntos acumulados Mes en 2017 y 2018', fontsize=18)\n",
    "\n",
    "# Añadir las etiquetas de los meses en el eje X con una rotación de 90 grados\n",
    "plt.xticks(months, df_2017_merg_grouped['Month'].unique(), rotation=90)\n",
    "\n",
    "# Añadir leyenda para distinguir ambos años\n",
    "plt.legend()\n",
    "\n",
    "# Mostrar el gráfico\n",
    "plt.show()"
   ]
  },
  {
   "cell_type": "code",
   "execution_count": null,
   "metadata": {},
   "outputs": [],
   "source": []
  },
  {
   "cell_type": "code",
   "execution_count": null,
   "metadata": {},
   "outputs": [],
   "source": []
  }
 ],
 "metadata": {
  "kernelspec": {
   "display_name": "base",
   "language": "python",
   "name": "python3"
  },
  "language_info": {
   "codemirror_mode": {
    "name": "ipython",
    "version": 3
   },
   "file_extension": ".py",
   "mimetype": "text/x-python",
   "name": "python",
   "nbconvert_exporter": "python",
   "pygments_lexer": "ipython3",
   "version": "3.9.7"
  }
 },
 "nbformat": 4,
 "nbformat_minor": 2
}
