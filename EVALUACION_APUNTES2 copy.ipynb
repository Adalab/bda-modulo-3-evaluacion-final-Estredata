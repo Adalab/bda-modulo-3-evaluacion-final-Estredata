{
 "cells": [
  {
   "cell_type": "code",
   "execution_count": 2,
   "metadata": {},
   "outputs": [],
   "source": [
    "# importamos las librerías que necesitamos\n",
    "\n",
    "# Tratamiento de datos\n",
    "# -----------------------------------------------------------------------\n",
    "import pandas as pd\n",
    "import numpy as np\n",
    "\n",
    "# Visualización\n",
    "# ------------------------------------------------------------------------------\n",
    "import matplotlib.pyplot as plt\n",
    "import seaborn as sns\n",
    "\n",
    "# Evaluar linealidad de las relaciones entre las variables\n",
    "# y la distribución de las variables\n",
    "# ------------------------------------------------------------------------------\n",
    "import scipy.stats as stats\n",
    "from scipy.stats import chi2_contingency, ttest_ind\n",
    "\n",
    "# Configuración\n",
    "# -----------------------------------------------------------------------\n",
    "pd.set_option('display.max_columns', None) # para poder visualizar todas las columnas de los DataFrames\n",
    "\n",
    "# Gestión de los warnings\n",
    "# -----------------------------------------------------------------------\n",
    "import warnings\n",
    "warnings.filterwarnings(\"ignore\")"
   ]
  },
  {
   "cell_type": "markdown",
   "metadata": {},
   "source": [
    "# FASE I\n",
    "### 2. LIMPIEZA DE DATOS"
   ]
  },
  {
   "cell_type": "code",
   "execution_count": 3,
   "metadata": {},
   "outputs": [
    {
     "ename": "FileNotFoundError",
     "evalue": "[Errno 2] No such file or directory: 'Customer Flight Activity copy.csv'",
     "output_type": "error",
     "traceback": [
      "\u001b[0;31m---------------------------------------------------------------------------\u001b[0m",
      "\u001b[0;31mFileNotFoundError\u001b[0m                         Traceback (most recent call last)",
      "\u001b[0;32m/var/folders/bs/l3gt0xp560x7j_9ydmgrywcw0000gn/T/ipykernel_18648/534411694.py\u001b[0m in \u001b[0;36m<module>\u001b[0;34m\u001b[0m\n\u001b[1;32m      2\u001b[0m \u001b[0;31m# vamos a mostrar las 5 primeras filas del DataFrame\u001b[0m\u001b[0;34m\u001b[0m\u001b[0;34m\u001b[0m\u001b[0m\n\u001b[1;32m      3\u001b[0m \u001b[0;34m\u001b[0m\u001b[0m\n\u001b[0;32m----> 4\u001b[0;31m \u001b[0mdf\u001b[0m \u001b[0;34m=\u001b[0m \u001b[0mpd\u001b[0m\u001b[0;34m.\u001b[0m\u001b[0mread_csv\u001b[0m\u001b[0;34m(\u001b[0m\u001b[0;34m\"Customer Flight Activity copy.csv\"\u001b[0m\u001b[0;34m)\u001b[0m\u001b[0;34m\u001b[0m\u001b[0;34m\u001b[0m\u001b[0m\n\u001b[0m\u001b[1;32m      5\u001b[0m \u001b[0mdf\u001b[0m\u001b[0;34m.\u001b[0m\u001b[0mhead\u001b[0m\u001b[0;34m(\u001b[0m\u001b[0;36m5\u001b[0m\u001b[0;34m)\u001b[0m\u001b[0;34m\u001b[0m\u001b[0;34m\u001b[0m\u001b[0m\n",
      "\u001b[0;32m/Applications/anaconda3/lib/python3.9/site-packages/pandas/util/_decorators.py\u001b[0m in \u001b[0;36mwrapper\u001b[0;34m(*args, **kwargs)\u001b[0m\n\u001b[1;32m    309\u001b[0m                     \u001b[0mstacklevel\u001b[0m\u001b[0;34m=\u001b[0m\u001b[0mstacklevel\u001b[0m\u001b[0;34m,\u001b[0m\u001b[0;34m\u001b[0m\u001b[0;34m\u001b[0m\u001b[0m\n\u001b[1;32m    310\u001b[0m                 )\n\u001b[0;32m--> 311\u001b[0;31m             \u001b[0;32mreturn\u001b[0m \u001b[0mfunc\u001b[0m\u001b[0;34m(\u001b[0m\u001b[0;34m*\u001b[0m\u001b[0margs\u001b[0m\u001b[0;34m,\u001b[0m \u001b[0;34m**\u001b[0m\u001b[0mkwargs\u001b[0m\u001b[0;34m)\u001b[0m\u001b[0;34m\u001b[0m\u001b[0;34m\u001b[0m\u001b[0m\n\u001b[0m\u001b[1;32m    312\u001b[0m \u001b[0;34m\u001b[0m\u001b[0m\n\u001b[1;32m    313\u001b[0m         \u001b[0;32mreturn\u001b[0m \u001b[0mwrapper\u001b[0m\u001b[0;34m\u001b[0m\u001b[0;34m\u001b[0m\u001b[0m\n",
      "\u001b[0;32m/Applications/anaconda3/lib/python3.9/site-packages/pandas/io/parsers/readers.py\u001b[0m in \u001b[0;36mread_csv\u001b[0;34m(filepath_or_buffer, sep, delimiter, header, names, index_col, usecols, squeeze, prefix, mangle_dupe_cols, dtype, engine, converters, true_values, false_values, skipinitialspace, skiprows, skipfooter, nrows, na_values, keep_default_na, na_filter, verbose, skip_blank_lines, parse_dates, infer_datetime_format, keep_date_col, date_parser, dayfirst, cache_dates, iterator, chunksize, compression, thousands, decimal, lineterminator, quotechar, quoting, doublequote, escapechar, comment, encoding, encoding_errors, dialect, error_bad_lines, warn_bad_lines, on_bad_lines, delim_whitespace, low_memory, memory_map, float_precision, storage_options)\u001b[0m\n\u001b[1;32m    584\u001b[0m     \u001b[0mkwds\u001b[0m\u001b[0;34m.\u001b[0m\u001b[0mupdate\u001b[0m\u001b[0;34m(\u001b[0m\u001b[0mkwds_defaults\u001b[0m\u001b[0;34m)\u001b[0m\u001b[0;34m\u001b[0m\u001b[0;34m\u001b[0m\u001b[0m\n\u001b[1;32m    585\u001b[0m \u001b[0;34m\u001b[0m\u001b[0m\n\u001b[0;32m--> 586\u001b[0;31m     \u001b[0;32mreturn\u001b[0m \u001b[0m_read\u001b[0m\u001b[0;34m(\u001b[0m\u001b[0mfilepath_or_buffer\u001b[0m\u001b[0;34m,\u001b[0m \u001b[0mkwds\u001b[0m\u001b[0;34m)\u001b[0m\u001b[0;34m\u001b[0m\u001b[0;34m\u001b[0m\u001b[0m\n\u001b[0m\u001b[1;32m    587\u001b[0m \u001b[0;34m\u001b[0m\u001b[0m\n\u001b[1;32m    588\u001b[0m \u001b[0;34m\u001b[0m\u001b[0m\n",
      "\u001b[0;32m/Applications/anaconda3/lib/python3.9/site-packages/pandas/io/parsers/readers.py\u001b[0m in \u001b[0;36m_read\u001b[0;34m(filepath_or_buffer, kwds)\u001b[0m\n\u001b[1;32m    480\u001b[0m \u001b[0;34m\u001b[0m\u001b[0m\n\u001b[1;32m    481\u001b[0m     \u001b[0;31m# Create the parser.\u001b[0m\u001b[0;34m\u001b[0m\u001b[0;34m\u001b[0m\u001b[0m\n\u001b[0;32m--> 482\u001b[0;31m     \u001b[0mparser\u001b[0m \u001b[0;34m=\u001b[0m \u001b[0mTextFileReader\u001b[0m\u001b[0;34m(\u001b[0m\u001b[0mfilepath_or_buffer\u001b[0m\u001b[0;34m,\u001b[0m \u001b[0;34m**\u001b[0m\u001b[0mkwds\u001b[0m\u001b[0;34m)\u001b[0m\u001b[0;34m\u001b[0m\u001b[0;34m\u001b[0m\u001b[0m\n\u001b[0m\u001b[1;32m    483\u001b[0m \u001b[0;34m\u001b[0m\u001b[0m\n\u001b[1;32m    484\u001b[0m     \u001b[0;32mif\u001b[0m \u001b[0mchunksize\u001b[0m \u001b[0;32mor\u001b[0m \u001b[0miterator\u001b[0m\u001b[0;34m:\u001b[0m\u001b[0;34m\u001b[0m\u001b[0;34m\u001b[0m\u001b[0m\n",
      "\u001b[0;32m/Applications/anaconda3/lib/python3.9/site-packages/pandas/io/parsers/readers.py\u001b[0m in \u001b[0;36m__init__\u001b[0;34m(self, f, engine, **kwds)\u001b[0m\n\u001b[1;32m    809\u001b[0m             \u001b[0mself\u001b[0m\u001b[0;34m.\u001b[0m\u001b[0moptions\u001b[0m\u001b[0;34m[\u001b[0m\u001b[0;34m\"has_index_names\"\u001b[0m\u001b[0;34m]\u001b[0m \u001b[0;34m=\u001b[0m \u001b[0mkwds\u001b[0m\u001b[0;34m[\u001b[0m\u001b[0;34m\"has_index_names\"\u001b[0m\u001b[0;34m]\u001b[0m\u001b[0;34m\u001b[0m\u001b[0;34m\u001b[0m\u001b[0m\n\u001b[1;32m    810\u001b[0m \u001b[0;34m\u001b[0m\u001b[0m\n\u001b[0;32m--> 811\u001b[0;31m         \u001b[0mself\u001b[0m\u001b[0;34m.\u001b[0m\u001b[0m_engine\u001b[0m \u001b[0;34m=\u001b[0m \u001b[0mself\u001b[0m\u001b[0;34m.\u001b[0m\u001b[0m_make_engine\u001b[0m\u001b[0;34m(\u001b[0m\u001b[0mself\u001b[0m\u001b[0;34m.\u001b[0m\u001b[0mengine\u001b[0m\u001b[0;34m)\u001b[0m\u001b[0;34m\u001b[0m\u001b[0;34m\u001b[0m\u001b[0m\n\u001b[0m\u001b[1;32m    812\u001b[0m \u001b[0;34m\u001b[0m\u001b[0m\n\u001b[1;32m    813\u001b[0m     \u001b[0;32mdef\u001b[0m \u001b[0mclose\u001b[0m\u001b[0;34m(\u001b[0m\u001b[0mself\u001b[0m\u001b[0;34m)\u001b[0m\u001b[0;34m:\u001b[0m\u001b[0;34m\u001b[0m\u001b[0;34m\u001b[0m\u001b[0m\n",
      "\u001b[0;32m/Applications/anaconda3/lib/python3.9/site-packages/pandas/io/parsers/readers.py\u001b[0m in \u001b[0;36m_make_engine\u001b[0;34m(self, engine)\u001b[0m\n\u001b[1;32m   1038\u001b[0m             )\n\u001b[1;32m   1039\u001b[0m         \u001b[0;31m# error: Too many arguments for \"ParserBase\"\u001b[0m\u001b[0;34m\u001b[0m\u001b[0;34m\u001b[0m\u001b[0m\n\u001b[0;32m-> 1040\u001b[0;31m         \u001b[0;32mreturn\u001b[0m \u001b[0mmapping\u001b[0m\u001b[0;34m[\u001b[0m\u001b[0mengine\u001b[0m\u001b[0;34m]\u001b[0m\u001b[0;34m(\u001b[0m\u001b[0mself\u001b[0m\u001b[0;34m.\u001b[0m\u001b[0mf\u001b[0m\u001b[0;34m,\u001b[0m \u001b[0;34m**\u001b[0m\u001b[0mself\u001b[0m\u001b[0;34m.\u001b[0m\u001b[0moptions\u001b[0m\u001b[0;34m)\u001b[0m  \u001b[0;31m# type: ignore[call-arg]\u001b[0m\u001b[0;34m\u001b[0m\u001b[0;34m\u001b[0m\u001b[0m\n\u001b[0m\u001b[1;32m   1041\u001b[0m \u001b[0;34m\u001b[0m\u001b[0m\n\u001b[1;32m   1042\u001b[0m     \u001b[0;32mdef\u001b[0m \u001b[0m_failover_to_python\u001b[0m\u001b[0;34m(\u001b[0m\u001b[0mself\u001b[0m\u001b[0;34m)\u001b[0m\u001b[0;34m:\u001b[0m\u001b[0;34m\u001b[0m\u001b[0;34m\u001b[0m\u001b[0m\n",
      "\u001b[0;32m/Applications/anaconda3/lib/python3.9/site-packages/pandas/io/parsers/c_parser_wrapper.py\u001b[0m in \u001b[0;36m__init__\u001b[0;34m(self, src, **kwds)\u001b[0m\n\u001b[1;32m     49\u001b[0m \u001b[0;34m\u001b[0m\u001b[0m\n\u001b[1;32m     50\u001b[0m         \u001b[0;31m# open handles\u001b[0m\u001b[0;34m\u001b[0m\u001b[0;34m\u001b[0m\u001b[0m\n\u001b[0;32m---> 51\u001b[0;31m         \u001b[0mself\u001b[0m\u001b[0;34m.\u001b[0m\u001b[0m_open_handles\u001b[0m\u001b[0;34m(\u001b[0m\u001b[0msrc\u001b[0m\u001b[0;34m,\u001b[0m \u001b[0mkwds\u001b[0m\u001b[0;34m)\u001b[0m\u001b[0;34m\u001b[0m\u001b[0;34m\u001b[0m\u001b[0m\n\u001b[0m\u001b[1;32m     52\u001b[0m         \u001b[0;32massert\u001b[0m \u001b[0mself\u001b[0m\u001b[0;34m.\u001b[0m\u001b[0mhandles\u001b[0m \u001b[0;32mis\u001b[0m \u001b[0;32mnot\u001b[0m \u001b[0;32mNone\u001b[0m\u001b[0;34m\u001b[0m\u001b[0;34m\u001b[0m\u001b[0m\n\u001b[1;32m     53\u001b[0m \u001b[0;34m\u001b[0m\u001b[0m\n",
      "\u001b[0;32m/Applications/anaconda3/lib/python3.9/site-packages/pandas/io/parsers/base_parser.py\u001b[0m in \u001b[0;36m_open_handles\u001b[0;34m(self, src, kwds)\u001b[0m\n\u001b[1;32m    220\u001b[0m         \u001b[0mLet\u001b[0m \u001b[0mthe\u001b[0m \u001b[0mreaders\u001b[0m \u001b[0mopen\u001b[0m \u001b[0mIOHandles\u001b[0m \u001b[0mafter\u001b[0m \u001b[0mthey\u001b[0m \u001b[0mare\u001b[0m \u001b[0mdone\u001b[0m \u001b[0;32mwith\u001b[0m \u001b[0mtheir\u001b[0m \u001b[0mpotential\u001b[0m \u001b[0mraises\u001b[0m\u001b[0;34m.\u001b[0m\u001b[0;34m\u001b[0m\u001b[0;34m\u001b[0m\u001b[0m\n\u001b[1;32m    221\u001b[0m         \"\"\"\n\u001b[0;32m--> 222\u001b[0;31m         self.handles = get_handle(\n\u001b[0m\u001b[1;32m    223\u001b[0m             \u001b[0msrc\u001b[0m\u001b[0;34m,\u001b[0m\u001b[0;34m\u001b[0m\u001b[0;34m\u001b[0m\u001b[0m\n\u001b[1;32m    224\u001b[0m             \u001b[0;34m\"r\"\u001b[0m\u001b[0;34m,\u001b[0m\u001b[0;34m\u001b[0m\u001b[0;34m\u001b[0m\u001b[0m\n",
      "\u001b[0;32m/Applications/anaconda3/lib/python3.9/site-packages/pandas/io/common.py\u001b[0m in \u001b[0;36mget_handle\u001b[0;34m(path_or_buf, mode, encoding, compression, memory_map, is_text, errors, storage_options)\u001b[0m\n\u001b[1;32m    700\u001b[0m         \u001b[0;32mif\u001b[0m \u001b[0mioargs\u001b[0m\u001b[0;34m.\u001b[0m\u001b[0mencoding\u001b[0m \u001b[0;32mand\u001b[0m \u001b[0;34m\"b\"\u001b[0m \u001b[0;32mnot\u001b[0m \u001b[0;32min\u001b[0m \u001b[0mioargs\u001b[0m\u001b[0;34m.\u001b[0m\u001b[0mmode\u001b[0m\u001b[0;34m:\u001b[0m\u001b[0;34m\u001b[0m\u001b[0;34m\u001b[0m\u001b[0m\n\u001b[1;32m    701\u001b[0m             \u001b[0;31m# Encoding\u001b[0m\u001b[0;34m\u001b[0m\u001b[0;34m\u001b[0m\u001b[0m\n\u001b[0;32m--> 702\u001b[0;31m             handle = open(\n\u001b[0m\u001b[1;32m    703\u001b[0m                 \u001b[0mhandle\u001b[0m\u001b[0;34m,\u001b[0m\u001b[0;34m\u001b[0m\u001b[0;34m\u001b[0m\u001b[0m\n\u001b[1;32m    704\u001b[0m                 \u001b[0mioargs\u001b[0m\u001b[0;34m.\u001b[0m\u001b[0mmode\u001b[0m\u001b[0;34m,\u001b[0m\u001b[0;34m\u001b[0m\u001b[0;34m\u001b[0m\u001b[0m\n",
      "\u001b[0;31mFileNotFoundError\u001b[0m: [Errno 2] No such file or directory: 'Customer Flight Activity copy.csv'"
     ]
    }
   ],
   "source": [
    "# cargar el ARCHIVO 1 Analisis de vuelos de los clientes fidelizados\n",
    "# vamos a mostrar las 5 primeras filas del DataFrame\n",
    "\n",
    "df = pd.read_csv(\"Customer Flight Activity copy.csv\")\n",
    "df.head(5)"
   ]
  },
  {
   "cell_type": "markdown",
   "metadata": {},
   "source": [
    "**¿Qué es lo que vemos aquí?**\n",
    "\n",
    "Entendamos los resultados de algunas de las columnas, por ejemplo \"Total Flights\" lo que es lo mismo, número de vuelos que los clientes han realizado: \n",
    "\n",
    "- `count`: Aquí podemos observar que la columna no tiene nulos (en realidad ninguna columna) porque el número de datos conincide con el número de filas.\n",
    "\n",
    "- `mean`: La media de del numero de vuelos por cliente.\n",
    "\n",
    "- `std`: La desviación estándar, que mide la dispersión del número de vuelos.\n",
    "\n",
    "- `min`: el número de vuelos mínimos en el conjunto de datos.\n",
    "\n",
    "- `25%`: El percentil 25, que representa el valor por debajo del cual se encuentra el 25% de el número de vuelos mínimos realizados que es cero.\n",
    "\n",
    "- `50%`: La mediana o percentil 50, que es el valor que divide el conjunto de datos en dos mitades iguales.\n",
    "\n",
    "- `75%`: El percentil 75, que representa el valor por debajo del cual se encuentra el 75% del número de vuelos.\n",
    "\n",
    "- `max`: El número de vuelos máximos por cliente en el conjunto de datos."
   ]
  },
  {
   "cell_type": "markdown",
   "metadata": {},
   "source": [
    "* * REVISAMOS LA COLUMNA \"Flights Booked\" y tomo decisiones"
   ]
  },
  {
   "cell_type": "code",
   "execution_count": 5,
   "metadata": {},
   "outputs": [
    {
     "name": "stdout",
     "output_type": "stream",
     "text": [
      "[3, 10, 6, 0, 8, 11, 9, 4, 7, 5, 2, 1, 12, 13, 14, 16, 15, 17, 18, 19, 20, 21]\n"
     ]
    }
   ],
   "source": [
    "# Tras la revisión de los datos en la FASE I parte 1 EDA voy a pasar a realizar lo siguiente\n",
    "valores_vuelos = df['Flights Booked'].unique().tolist()\n",
    "print(valores_vuelos)"
   ]
  },
  {
   "cell_type": "code",
   "execution_count": 78,
   "metadata": {},
   "outputs": [
    {
     "name": "stdout",
     "output_type": "stream",
     "text": [
      "El valor más bajo de la columna cuyo valor es distinto a cero 'Flights Booked':1\n",
      "El valor más bajo de la columna 'Flights Booked':21\n"
     ]
    }
   ],
   "source": [
    "# voy a mirar cual es el valor mas bajo y el mas alto de el total de vuelos de este modo sabremos que cantidad de vuelos minimo \n",
    "# hace una persona socia al mes y que cantidad máxima\n",
    "vuelos_minimos_no_cero = df[df['Flights Booked'] > 0]['Flights Booked'].min()\n",
    "vuelos_maximos = df['Flights Booked'].max()\n",
    "print (f\"El valor más bajo de la columna cuyo valor es distinto a cero 'Flights Booked':{vuelos_minimos_no_cero}\")\n",
    "print (f\"El valor más bajo de la columna 'Flights Booked':{vuelos_maximos}\")"
   ]
  },
  {
   "cell_type": "code",
   "execution_count": 79,
   "metadata": {},
   "outputs": [
    {
     "name": "stdout",
     "output_type": "stream",
     "text": [
      "Cantidad de Valores 0 en la columna'Flights Booked': 197992\n"
     ]
    }
   ],
   "source": [
    "cuento_vuelos_cero = (df['Flights Booked'] == 0).sum()\n",
    "print (f\"Cantidad de Valores 0 en la columna'Flights Booked': {cuento_vuelos_cero}\")"
   ]
  },
  {
   "cell_type": "code",
   "execution_count": 80,
   "metadata": {},
   "outputs": [
    {
     "name": "stdout",
     "output_type": "stream",
     "text": [
      "Cantidad de filas duplicas:1864\n"
     ]
    }
   ],
   "source": [
    "# pueden ser filas que tienen los mismos valores en todas las columnas, es decir, \n",
    "# por ejemplo los clientes que no han hecho ningun vuelo que sean cero no nos aporta ningun valor en esta tabla\n",
    "rows_duplicadas = df.duplicated().sum()\n",
    "print (f\"Cantidad de filas duplicas:{rows_duplicadas}\")"
   ]
  },
  {
   "cell_type": "code",
   "execution_count": 81,
   "metadata": {},
   "outputs": [],
   "source": [
    "# voy a eliminar las filas en las que el valor \"Flights booked\" es igual a cero\n",
    "\n",
    "df = df[df['Flights Booked'] !=0]\n",
    "\n",
    "# Comprobamos que se ha hecho correcto "
   ]
  },
  {
   "cell_type": "code",
   "execution_count": 82,
   "metadata": {},
   "outputs": [
    {
     "data": {
      "text/plain": [
       "(207632, 10)"
      ]
     },
     "execution_count": 82,
     "metadata": {},
     "output_type": "execute_result"
    }
   ],
   "source": [
    "# el el analisis primero exploratorio teniamos\n",
    "# 405624 filas y 10 columnas\n",
    "# recordamos que Cantidad de Valores 0 en la columna'Flights Booked': 197992\n",
    "df.shape"
   ]
  },
  {
   "cell_type": "code",
   "execution_count": 83,
   "metadata": {},
   "outputs": [
    {
     "name": "stdout",
     "output_type": "stream",
     "text": [
      "Despues de eliminar las filas de valor cero en la columna 'Flights Booked' deberian quedar: 207632 filas \n"
     ]
    }
   ],
   "source": [
    "##COMPROBAMOS QUE ESTA CORRECTO\n",
    "#cantidad de filas iniciales\n",
    "filas_iniciales = 405624\n",
    "#cantidad de valores 0 en la columna \"Flights Booked\"\n",
    "valores_cero = 197992\n",
    "# cantidad de filas que me quedarian des pues de eliminar las que tienen valor cero\n",
    "filas_actuales_despues_de_limpiar = filas_iniciales - valores_cero\n",
    "\n",
    "print (f\"Despues de eliminar las filas de valor cero en la columna 'Flights Booked' deberian quedar: {filas_actuales_despues_de_limpiar} filas \")"
   ]
  },
  {
   "cell_type": "code",
   "execution_count": 84,
   "metadata": {},
   "outputs": [
    {
     "data": {
      "text/html": [
       "<div>\n",
       "<style scoped>\n",
       "    .dataframe tbody tr th:only-of-type {\n",
       "        vertical-align: middle;\n",
       "    }\n",
       "\n",
       "    .dataframe tbody tr th {\n",
       "        vertical-align: top;\n",
       "    }\n",
       "\n",
       "    .dataframe thead th {\n",
       "        text-align: right;\n",
       "    }\n",
       "</style>\n",
       "<table border=\"1\" class=\"dataframe\">\n",
       "  <thead>\n",
       "    <tr style=\"text-align: right;\">\n",
       "      <th></th>\n",
       "      <th>Loyalty Number</th>\n",
       "      <th>Year</th>\n",
       "      <th>Month</th>\n",
       "      <th>Flights Booked</th>\n",
       "      <th>Flights with Companions</th>\n",
       "      <th>Total Flights</th>\n",
       "      <th>Distance</th>\n",
       "      <th>Points Accumulated</th>\n",
       "      <th>Points Redeemed</th>\n",
       "      <th>Dollar Cost Points Redeemed</th>\n",
       "    </tr>\n",
       "  </thead>\n",
       "  <tbody>\n",
       "    <tr>\n",
       "      <th>count</th>\n",
       "      <td>207632.000000</td>\n",
       "      <td>207632.000000</td>\n",
       "      <td>207632.000000</td>\n",
       "      <td>207632.000000</td>\n",
       "      <td>207632.000000</td>\n",
       "      <td>207632.000000</td>\n",
       "      <td>207632.000000</td>\n",
       "      <td>207632.000000</td>\n",
       "      <td>207632.000000</td>\n",
       "      <td>207632.000000</td>\n",
       "    </tr>\n",
       "    <tr>\n",
       "      <th>mean</th>\n",
       "      <td>549240.808411</td>\n",
       "      <td>2017.536295</td>\n",
       "      <td>6.641394</td>\n",
       "      <td>8.039050</td>\n",
       "      <td>2.015706</td>\n",
       "      <td>10.054756</td>\n",
       "      <td>2361.633876</td>\n",
       "      <td>241.642600</td>\n",
       "      <td>59.968540</td>\n",
       "      <td>4.853655</td>\n",
       "    </tr>\n",
       "    <tr>\n",
       "      <th>std</th>\n",
       "      <td>258456.999580</td>\n",
       "      <td>0.498682</td>\n",
       "      <td>3.448752</td>\n",
       "      <td>4.668948</td>\n",
       "      <td>2.538359</td>\n",
       "      <td>5.807808</td>\n",
       "      <td>1135.835170</td>\n",
       "      <td>116.118272</td>\n",
       "      <td>170.314671</td>\n",
       "      <td>13.775511</td>\n",
       "    </tr>\n",
       "    <tr>\n",
       "      <th>min</th>\n",
       "      <td>100018.000000</td>\n",
       "      <td>2017.000000</td>\n",
       "      <td>1.000000</td>\n",
       "      <td>1.000000</td>\n",
       "      <td>0.000000</td>\n",
       "      <td>1.000000</td>\n",
       "      <td>90.000000</td>\n",
       "      <td>9.000000</td>\n",
       "      <td>0.000000</td>\n",
       "      <td>0.000000</td>\n",
       "    </tr>\n",
       "    <tr>\n",
       "      <th>25%</th>\n",
       "      <td>326707.000000</td>\n",
       "      <td>2017.000000</td>\n",
       "      <td>4.000000</td>\n",
       "      <td>4.000000</td>\n",
       "      <td>0.000000</td>\n",
       "      <td>6.000000</td>\n",
       "      <td>1458.000000</td>\n",
       "      <td>149.000000</td>\n",
       "      <td>0.000000</td>\n",
       "      <td>0.000000</td>\n",
       "    </tr>\n",
       "    <tr>\n",
       "      <th>50%</th>\n",
       "      <td>549612.000000</td>\n",
       "      <td>2018.000000</td>\n",
       "      <td>7.000000</td>\n",
       "      <td>8.000000</td>\n",
       "      <td>1.000000</td>\n",
       "      <td>10.000000</td>\n",
       "      <td>2298.000000</td>\n",
       "      <td>235.000000</td>\n",
       "      <td>0.000000</td>\n",
       "      <td>0.000000</td>\n",
       "    </tr>\n",
       "    <tr>\n",
       "      <th>75%</th>\n",
       "      <td>772019.000000</td>\n",
       "      <td>2018.000000</td>\n",
       "      <td>10.000000</td>\n",
       "      <td>11.000000</td>\n",
       "      <td>4.000000</td>\n",
       "      <td>14.000000</td>\n",
       "      <td>3150.000000</td>\n",
       "      <td>323.000000</td>\n",
       "      <td>0.000000</td>\n",
       "      <td>0.000000</td>\n",
       "    </tr>\n",
       "    <tr>\n",
       "      <th>max</th>\n",
       "      <td>999986.000000</td>\n",
       "      <td>2018.000000</td>\n",
       "      <td>12.000000</td>\n",
       "      <td>21.000000</td>\n",
       "      <td>11.000000</td>\n",
       "      <td>32.000000</td>\n",
       "      <td>6293.000000</td>\n",
       "      <td>676.500000</td>\n",
       "      <td>876.000000</td>\n",
       "      <td>71.000000</td>\n",
       "    </tr>\n",
       "  </tbody>\n",
       "</table>\n",
       "</div>"
      ],
      "text/plain": [
       "       Loyalty Number           Year          Month  Flights Booked  \\\n",
       "count   207632.000000  207632.000000  207632.000000   207632.000000   \n",
       "mean    549240.808411    2017.536295       6.641394        8.039050   \n",
       "std     258456.999580       0.498682       3.448752        4.668948   \n",
       "min     100018.000000    2017.000000       1.000000        1.000000   \n",
       "25%     326707.000000    2017.000000       4.000000        4.000000   \n",
       "50%     549612.000000    2018.000000       7.000000        8.000000   \n",
       "75%     772019.000000    2018.000000      10.000000       11.000000   \n",
       "max     999986.000000    2018.000000      12.000000       21.000000   \n",
       "\n",
       "       Flights with Companions  Total Flights       Distance  \\\n",
       "count            207632.000000  207632.000000  207632.000000   \n",
       "mean                  2.015706      10.054756    2361.633876   \n",
       "std                   2.538359       5.807808    1135.835170   \n",
       "min                   0.000000       1.000000      90.000000   \n",
       "25%                   0.000000       6.000000    1458.000000   \n",
       "50%                   1.000000      10.000000    2298.000000   \n",
       "75%                   4.000000      14.000000    3150.000000   \n",
       "max                  11.000000      32.000000    6293.000000   \n",
       "\n",
       "       Points Accumulated  Points Redeemed  Dollar Cost Points Redeemed  \n",
       "count       207632.000000    207632.000000                207632.000000  \n",
       "mean           241.642600        59.968540                     4.853655  \n",
       "std            116.118272       170.314671                    13.775511  \n",
       "min              9.000000         0.000000                     0.000000  \n",
       "25%            149.000000         0.000000                     0.000000  \n",
       "50%            235.000000         0.000000                     0.000000  \n",
       "75%            323.000000         0.000000                     0.000000  \n",
       "max            676.500000       876.000000                    71.000000  "
      ]
     },
     "execution_count": 84,
     "metadata": {},
     "output_type": "execute_result"
    }
   ],
   "source": [
    "# Este método es para sacar los principales estadísticos del DataFrame sólo variables numéricas\n",
    "# este método nos da una visión general de la distribución y la caracteristica de los datos\n",
    "# Esto nos viene bien para una visión global y para la FASE II de la evaluación\n",
    "df.describe()"
   ]
  },
  {
   "cell_type": "code",
   "execution_count": 85,
   "metadata": {},
   "outputs": [
    {
     "data": {
      "text/html": [
       "<div>\n",
       "<style scoped>\n",
       "    .dataframe tbody tr th:only-of-type {\n",
       "        vertical-align: middle;\n",
       "    }\n",
       "\n",
       "    .dataframe tbody tr th {\n",
       "        vertical-align: top;\n",
       "    }\n",
       "\n",
       "    .dataframe thead th {\n",
       "        text-align: right;\n",
       "    }\n",
       "</style>\n",
       "<table border=\"1\" class=\"dataframe\">\n",
       "  <thead>\n",
       "    <tr style=\"text-align: right;\">\n",
       "      <th></th>\n",
       "      <th>count</th>\n",
       "      <th>mean</th>\n",
       "      <th>std</th>\n",
       "      <th>min</th>\n",
       "      <th>25%</th>\n",
       "      <th>50%</th>\n",
       "      <th>75%</th>\n",
       "      <th>max</th>\n",
       "    </tr>\n",
       "  </thead>\n",
       "  <tbody>\n",
       "    <tr>\n",
       "      <th>Loyalty Number</th>\n",
       "      <td>207632.0</td>\n",
       "      <td>549240.808411</td>\n",
       "      <td>258456.999580</td>\n",
       "      <td>100018.0</td>\n",
       "      <td>326707.0</td>\n",
       "      <td>549612.0</td>\n",
       "      <td>772019.0</td>\n",
       "      <td>999986.0</td>\n",
       "    </tr>\n",
       "    <tr>\n",
       "      <th>Year</th>\n",
       "      <td>207632.0</td>\n",
       "      <td>2017.536295</td>\n",
       "      <td>0.498682</td>\n",
       "      <td>2017.0</td>\n",
       "      <td>2017.0</td>\n",
       "      <td>2018.0</td>\n",
       "      <td>2018.0</td>\n",
       "      <td>2018.0</td>\n",
       "    </tr>\n",
       "    <tr>\n",
       "      <th>Month</th>\n",
       "      <td>207632.0</td>\n",
       "      <td>6.641394</td>\n",
       "      <td>3.448752</td>\n",
       "      <td>1.0</td>\n",
       "      <td>4.0</td>\n",
       "      <td>7.0</td>\n",
       "      <td>10.0</td>\n",
       "      <td>12.0</td>\n",
       "    </tr>\n",
       "    <tr>\n",
       "      <th>Flights Booked</th>\n",
       "      <td>207632.0</td>\n",
       "      <td>8.039050</td>\n",
       "      <td>4.668948</td>\n",
       "      <td>1.0</td>\n",
       "      <td>4.0</td>\n",
       "      <td>8.0</td>\n",
       "      <td>11.0</td>\n",
       "      <td>21.0</td>\n",
       "    </tr>\n",
       "    <tr>\n",
       "      <th>Flights with Companions</th>\n",
       "      <td>207632.0</td>\n",
       "      <td>2.015706</td>\n",
       "      <td>2.538359</td>\n",
       "      <td>0.0</td>\n",
       "      <td>0.0</td>\n",
       "      <td>1.0</td>\n",
       "      <td>4.0</td>\n",
       "      <td>11.0</td>\n",
       "    </tr>\n",
       "    <tr>\n",
       "      <th>Total Flights</th>\n",
       "      <td>207632.0</td>\n",
       "      <td>10.054756</td>\n",
       "      <td>5.807808</td>\n",
       "      <td>1.0</td>\n",
       "      <td>6.0</td>\n",
       "      <td>10.0</td>\n",
       "      <td>14.0</td>\n",
       "      <td>32.0</td>\n",
       "    </tr>\n",
       "    <tr>\n",
       "      <th>Distance</th>\n",
       "      <td>207632.0</td>\n",
       "      <td>2361.633876</td>\n",
       "      <td>1135.835170</td>\n",
       "      <td>90.0</td>\n",
       "      <td>1458.0</td>\n",
       "      <td>2298.0</td>\n",
       "      <td>3150.0</td>\n",
       "      <td>6293.0</td>\n",
       "    </tr>\n",
       "    <tr>\n",
       "      <th>Points Accumulated</th>\n",
       "      <td>207632.0</td>\n",
       "      <td>241.642600</td>\n",
       "      <td>116.118272</td>\n",
       "      <td>9.0</td>\n",
       "      <td>149.0</td>\n",
       "      <td>235.0</td>\n",
       "      <td>323.0</td>\n",
       "      <td>676.5</td>\n",
       "    </tr>\n",
       "    <tr>\n",
       "      <th>Points Redeemed</th>\n",
       "      <td>207632.0</td>\n",
       "      <td>59.968540</td>\n",
       "      <td>170.314671</td>\n",
       "      <td>0.0</td>\n",
       "      <td>0.0</td>\n",
       "      <td>0.0</td>\n",
       "      <td>0.0</td>\n",
       "      <td>876.0</td>\n",
       "    </tr>\n",
       "    <tr>\n",
       "      <th>Dollar Cost Points Redeemed</th>\n",
       "      <td>207632.0</td>\n",
       "      <td>4.853655</td>\n",
       "      <td>13.775511</td>\n",
       "      <td>0.0</td>\n",
       "      <td>0.0</td>\n",
       "      <td>0.0</td>\n",
       "      <td>0.0</td>\n",
       "      <td>71.0</td>\n",
       "    </tr>\n",
       "  </tbody>\n",
       "</table>\n",
       "</div>"
      ],
      "text/plain": [
       "                                count           mean            std       min  \\\n",
       "Loyalty Number               207632.0  549240.808411  258456.999580  100018.0   \n",
       "Year                         207632.0    2017.536295       0.498682    2017.0   \n",
       "Month                        207632.0       6.641394       3.448752       1.0   \n",
       "Flights Booked               207632.0       8.039050       4.668948       1.0   \n",
       "Flights with Companions      207632.0       2.015706       2.538359       0.0   \n",
       "Total Flights                207632.0      10.054756       5.807808       1.0   \n",
       "Distance                     207632.0    2361.633876    1135.835170      90.0   \n",
       "Points Accumulated           207632.0     241.642600     116.118272       9.0   \n",
       "Points Redeemed              207632.0      59.968540     170.314671       0.0   \n",
       "Dollar Cost Points Redeemed  207632.0       4.853655      13.775511       0.0   \n",
       "\n",
       "                                  25%       50%       75%       max  \n",
       "Loyalty Number               326707.0  549612.0  772019.0  999986.0  \n",
       "Year                           2017.0    2018.0    2018.0    2018.0  \n",
       "Month                             4.0       7.0      10.0      12.0  \n",
       "Flights Booked                    4.0       8.0      11.0      21.0  \n",
       "Flights with Companions           0.0       1.0       4.0      11.0  \n",
       "Total Flights                     6.0      10.0      14.0      32.0  \n",
       "Distance                       1458.0    2298.0    3150.0    6293.0  \n",
       "Points Accumulated              149.0     235.0     323.0     676.5  \n",
       "Points Redeemed                   0.0       0.0       0.0     876.0  \n",
       "Dollar Cost Points Redeemed       0.0       0.0       0.0      71.0  "
      ]
     },
     "execution_count": 85,
     "metadata": {},
     "output_type": "execute_result"
    }
   ],
   "source": [
    "# Esto nos viene bien para una visión global y para la FASE II de la evaluación\n",
    "# podemos usar un método que nos transpone los resultados\n",
    "df.describe().T"
   ]
  },
  {
   "cell_type": "markdown",
   "metadata": {},
   "source": [
    "**¿Qué es lo que vemos aquí?**\n",
    "\n",
    "Entendamos los resultados de algunas de las columnas, por ejemplo \"Flights Booked\" lo que es lo mismo, número total de vuelos reservados por el cliente en un mes específico:\n",
    "\n",
    "- `count`: Aquí podemos observar que la columna no tiene nulos (en realidad ninguna columna) porque el número de datos conincide con el número de filas.\n",
    "\n",
    "- `mean`: La media de del numero de vuelos reservados por cliente.\n",
    "\n",
    "- `std`: La desviación estándar, que mide la dispersión del número de vuelos.\n",
    "\n",
    "- `min`: el número de vuelos mínimos en el conjunto de datos.\n",
    "\n",
    "- `25%`: El percentil 25, que representa el valor por debajo del cual se encuentra el 25% de el número de vuelos reservados.El valor mínimo es 1 ya que eliminamos los que tenían valor 0.\n",
    "\n",
    "- `50%`: La mediana o percentil 50, que es el valor que divide el conjunto de datos en dos mitades iguales.\n",
    "\n",
    "- `75%`: El percentil 75, que representa el valor por debajo del cual se encuentra el 75% del número de vuelos reservados.\n",
    "\n",
    "- `max`: El número máximo de vuelos reservados por cliente en el conjunto de datos."
   ]
  },
  {
   "cell_type": "code",
   "execution_count": 86,
   "metadata": {},
   "outputs": [
    {
     "data": {
      "text/plain": [
       "2018    111352\n",
       "2017     96280\n",
       "Name: Year, dtype: int64"
      ]
     },
     "execution_count": 86,
     "metadata": {},
     "output_type": "execute_result"
    }
   ],
   "source": [
    "df['Year'].value_counts()"
   ]
  },
  {
   "cell_type": "code",
   "execution_count": 87,
   "metadata": {},
   "outputs": [
    {
     "name": "stdout",
     "output_type": "stream",
     "text": [
      "    Year  Month  Flights Booked\n",
      "0   2017      1           47766\n",
      "1   2017      2           47691\n",
      "2   2017      3           64271\n",
      "3   2017      4           55720\n",
      "4   2017      5           65279\n",
      "5   2017      6           80493\n",
      "6   2017      7           89288\n",
      "7   2017      8           78692\n",
      "8   2017      9           63304\n",
      "9   2017     10           60351\n",
      "10  2017     11           56905\n",
      "11  2017     12           77650\n",
      "12  2018      1           49170\n",
      "13  2018      2           48643\n",
      "14  2018      3           66928\n",
      "15  2018      4           56791\n",
      "16  2018      5           76891\n",
      "17  2018      6           92749\n",
      "18  2018      7          104143\n",
      "19  2018      8           90512\n",
      "20  2018      9           73075\n",
      "21  2018     10           69110\n",
      "22  2018     11           65345\n",
      "23  2018     12           88397\n"
     ]
    }
   ],
   "source": [
    "# voy a probar como ver la cantidad de vuelos reservados por año y por mes \n",
    "reservas_por_año_al_mes = df.groupby(['Year','Month'])['Flights Booked'].sum().reset_index()\n",
    "\n",
    "# Compruebo los primeros resultados para verificar \n",
    "print(reservas_por_año_al_mes.head(24))"
   ]
  },
  {
   "cell_type": "code",
   "execution_count": 88,
   "metadata": {},
   "outputs": [
    {
     "name": "stdout",
     "output_type": "stream",
     "text": [
      "Month     1      2      3      4      5      6       7      8      9      10  \\\n",
      "Year                                                                           \n",
      "2017   47766  47691  64271  55720  65279  80493   89288  78692  63304  60351   \n",
      "2018   49170  48643  66928  56791  76891  92749  104143  90512  73075  69110   \n",
      "\n",
      "Month     11     12  \n",
      "Year                 \n",
      "2017   56905  77650  \n",
      "2018   65345  88397  \n"
     ]
    }
   ],
   "source": [
    "# me gustaría hacer una tabla mas visual he investigado y me han dado el siguiente método lo voy a probar \n",
    "# con este metodo tabla dinámica (pivot table) con 'Year' como filas, 'Month' como columnas, y \n",
    "# la suma de 'Flights Booked' como valores\n",
    "tabla_para_comparar = df.pivot_table(values='Flights Booked', index='Year', columns='Month', aggfunc='sum')\n",
    "\n",
    "# Mostrar el resultado\n",
    "print(tabla_para_comparar)\n"
   ]
  },
  {
   "cell_type": "markdown",
   "metadata": {},
   "source": [
    "# FASE II:VISUALIZACIÓN\n",
    "### 1. ¿Cómo se distribuye la cantidad de vuelos reservados por mes durante el año?\n",
    "\n",
    "## BOSPLOT o *Diagrama de cajas*\n",
    "\n",
    "Muestra la distribución y valores atípicos de una variable númerica \n",
    "\n",
    "VAMOS A HACER UNA VISUALIZACIÓN POR MÉTODO MATPLOTLIB:\n",
    "```python\n",
    "plt.bar(x, y, data, hue, pallete, color=\"blue\", edgecolor=\"black\") \n",
    "```\n",
    "En esta gráfica vamos a contestar a la pregunta que nos hemos planteado\n",
    " ¿cómo se distribuye la cantidad de vuelos reservados por mes durante el año?\n",
    " usaremos \"Year\" \"Month\" \"Flights Booked\". \n",
    " El Diagrama de cajas mostraría la distribución por meses en un año en el DataFrame, lo que permitiría obtener información sobre la dispersión y la forma de distribución.\n"
   ]
  },
  {
   "cell_type": "code",
   "execution_count": 89,
   "metadata": {},
   "outputs": [],
   "source": [
    "# Crear un conjunto de datos para el 2017 y otro para el 2018\n",
    "df_2017 = reservas_por_año_al_mes[reservas_por_año_al_mes['Year'] == 2017]\n",
    "df_2018 = reservas_por_año_al_mes[reservas_por_año_al_mes['Year'] == 2018]\n"
   ]
  },
  {
   "cell_type": "code",
   "execution_count": 90,
   "metadata": {},
   "outputs": [],
   "source": [
    "# voy a usar un Barplot que muestra la relación entre una variable categórica y una variable númerica mediante barras\n",
    "# para que quede más clara la visualización voy a transformar la columna \"Month\" en una variable \"objet\" al numero le voy \n",
    "# añadir el nombre correspondiente usare un diccionario\n",
    "meses = {1: 'Enero', 2: 'Febrero', 3: 'Marzo', 4: 'Abril', \n",
    "    5: 'Mayo', 6: 'Junio', 7: 'Julio', 8: 'Agosto', \n",
    "    9: 'Septiembre', 10: 'Octubre', 11: 'Noviembre', 12: 'Diciembre'}\n",
    "# vamos a transformar (mapear)los numeros en nombre de los meses \n",
    "df_2017['Month'] = df_2017['Month'].map (meses)\n",
    "df_2018['Month'] = df_2018['Month'].map (meses)"
   ]
  },
  {
   "cell_type": "code",
   "execution_count": 91,
   "metadata": {},
   "outputs": [
    {
     "data": {
      "text/plain": [
       "<BarContainer object of 12 artists>"
      ]
     },
     "execution_count": 91,
     "metadata": {},
     "output_type": "execute_result"
    },
    {
     "data": {
      "image/png": "[encoded data removed]",
      "text/plain": [
       "<Figure size 432x288 with 1 Axes>"
      ]
     },
     "metadata": {
      "needs_background": "light"
     },
     "output_type": "display_data"
    }
   ],
   "source": [
    "# aplico la formula para comprobar que está bien construida\n",
    "plt.bar(df_2017['Month'], df_2017['Flights Booked'], color=\"yellow\", edgecolor=\"black\")"
   ]
  },
  {
   "cell_type": "code",
   "execution_count": 92,
   "metadata": {},
   "outputs": [
    {
     "data": {
      "image/png": "[encoded data removed]",
      "text/plain": [
       "<Figure size 432x288 with 1 Axes>"
      ]
     },
     "metadata": {
      "needs_background": "light"
     },
     "output_type": "display_data"
    }
   ],
   "source": [
    "# Creo un gráfico de barras para el 2017\n",
    "plt.bar(df_2017['Month'], df_2017['Flights Booked'], color=\"yellow\", edgecolor=\"black\")\n",
    "\n",
    "# Añado las etiquetas del eje x y el y, título del gráfico y colores \n",
    "plt.xlabel('Mes', fontsize=15)\n",
    "plt.xticks(rotation=90)\n",
    "plt.ylabel('Flights Booked', fontsize=15)\n",
    "plt.title('Flights Booked por Mes en 2017')\n",
    "\n",
    "# Mostrar el gráfico\n",
    "plt.show()\n"
   ]
  },
  {
   "cell_type": "code",
   "execution_count": 93,
   "metadata": {},
   "outputs": [
    {
     "data": {
      "image/png": "[encoded data removed]",
      "text/plain": [
       "<Figure size 432x288 with 1 Axes>"
      ]
     },
     "metadata": {
      "needs_background": "light"
     },
     "output_type": "display_data"
    }
   ],
   "source": [
    "# Creo un gráfico de barras para el 2018\n",
    "plt.bar(df_2018['Month'], df_2018['Flights Booked'], color=\"green\", edgecolor=\"black\")\n",
    "\n",
    "# Añado las etiquetas del eje x y el y, título del gráfico y colores \n",
    "plt.xlabel('Mes', fontsize=15)\n",
    "plt.xticks(rotation=90)\n",
    "plt.ylabel('Flights Booked', fontsize=15)\n",
    "plt.title('Flights Booked por Mes en 2018')\n",
    "\n",
    "# Mostrar el gráfico\n",
    "plt.show()"
   ]
  },
  {
   "cell_type": "markdown",
   "metadata": {},
   "source": [
    "### 1. ¿Cómo se distribuye la cantidad de vuelos reservados por mes durante el año?\n",
    "\n",
    "## BOSPLOT o *Diagrama de cajas*\n",
    "\n",
    "Voy a intentar SUPERPONER los dos gráficos y para ello tengo que hacer alteraciones en el eje x/y\n",
    "si hago una superposicion tengo que hacer varios cambios que pueden ser los siguientes\n",
    "- 1. voy a poner una caja al lado de la otra 2017= azul y 2018 = green por lo que tendré que generar una leyenda\n",
    "he buscado en internet y sin subplot pt.figure() y dentro del parenteis pongo el tamaño de las letras este método\n",
    "nos hace una leyenda con los colores y los años \n",
    "- 2. El ancho de las columnas(barras) tengo que variarlas ire probando hasta dar con el tamaño y \n",
    "según los apuntes es width\n",
    "- 3. La estructura del eje x por lo que voy a usar el método de creación de array (estructura de datos) y crearemos un elemento único en la columna \"moth\"\n",
    "del dataframe del 2017 (por ejemplo) y usaremos según los apunte np.arange y crearemos la varible mes.\n",
    "- 4. Eje X : Lo he buscado y por lo visto para decir la barra que está a la izq (-) o a la derecha (+) y para determinar la variable del eje x es variable + width/2 Porque la mitad será para el 2017 y la mitad izq para el 2018 \n",
    "----> month - width/2 (2017)  month + width/2 (2018)\n",
    "- 5. Eje Y : En el df2017 (podría ser el otro DataFrame)usamos el método Groupby con la columna \"Month\" y la columna 'Flights Booked' y los valores de cada año se suman ----> df_2017('Month')['Flights Booked'].sum()\n",
    "- 6. En las agrupaciones adicionales vamos a informar que el ancho de las dos columnas a comparar sean iguales \n",
    "- 7. Tenemos que informar que tenemos datos adicionales label=2017 y label=2018\n",
    "la sintaxis del boxplot es \n",
    "\n",
    "```python\n",
    "plt.bar(x, y, data=data, widths, hue, labels, boxprops color=\"blue\", edgecolor=\"black\") \n",
    "```\n",
    "\n",
    "\n",
    " - 8. En plt.xticks a aparte de la (rotation=90) tenemos que decirle las posiciones del eje X\n",
    " - 9. Usa plt.legend()\n",
    " - 10. Mostrar gráfica plt.show()"
   ]
  },
  {
   "cell_type": "code",
   "execution_count": 94,
   "metadata": {},
   "outputs": [
    {
     "data": {
      "image/png": "[encoded data removed]",
      "text/plain": [
       "<Figure size 720x432 with 1 Axes>"
      ]
     },
     "metadata": {
      "needs_background": "light"
     },
     "output_type": "display_data"
    }
   ],
   "source": [
    "# 1. Crear una figura y pruebo con distintos rangos \n",
    "plt.figure(figsize=(10, 6))\n",
    "\n",
    "# 2. El ancho de las columnas y pruebo con distintos números\n",
    "width = 0.4 \n",
    "\n",
    "# 3. La estructura del eje x usamos el array rango y los agrupamos en una estructura única y unidimensional\n",
    "months = np.arange(len(df_2017['Month'].unique()))\n",
    "\n",
    "# 7. SINTAXIS DE BOXPLOT Creamos el gráfico de barras para 2017\n",
    "plt.bar(months - width/2, df_2017.groupby('Month')['Flights Booked'].sum(), width=width, color=\"yellow\",edgecolor=\"black\", label=\"2017\")\n",
    "\n",
    "# 7. SINTAXIS DE BOXPLOT Creamos el gráfico de barras para 2018\n",
    "plt.bar(months + width/2, df_2018.groupby('Month')['Flights Booked'].sum(), width=width, color=\"green\", label=\"2018\")\n",
    "\n",
    "# Añadir etiquetas a los ejes y variamos el título \n",
    "plt.xlabel('Mes', fontsize=15)\n",
    "plt.ylabel('Vuelos Reservados', fontsize=15)\n",
    "plt.title('Comparación de Vuelos Reservados por Mes en 2017 y 2018', fontsize=18)\n",
    "\n",
    "# Añadir las etiquetas de los meses en el eje X con una rotación de 90 grados\n",
    "plt.xticks(months, df_2017['Month'].unique(), rotation=90)\n",
    "\n",
    "# Añadir leyenda para distinguir ambos años\n",
    "plt.legend()\n",
    "\n",
    "# Mostrar el gráfico\n",
    "plt.show()\n"
   ]
  },
  {
   "cell_type": "code",
   "execution_count": 95,
   "metadata": {},
   "outputs": [
    {
     "data": {
      "text/plain": [
       "Index(['Loyalty Number', 'Year', 'Month', 'Flights Booked',\n",
       "       'Flights with Companions', 'Total Flights', 'Distance',\n",
       "       'Points Accumulated', 'Points Redeemed', 'Dollar Cost Points Redeemed'],\n",
       "      dtype='object')"
      ]
     },
     "execution_count": 95,
     "metadata": {},
     "output_type": "execute_result"
    }
   ],
   "source": [
    "df.columns"
   ]
  },
  {
   "cell_type": "markdown",
   "metadata": {},
   "source": [
    "# FASE II:VISUALIZACIÓN\n",
    "### 2. ¿Existe una relación entre la distancia de los vuelos y los puntos acumulados por los clientes?\n",
    "En el EDA ya había echo algunas consultas puesto se veía un patrón entre la Distancia y la acumulación de puntos. \n",
    "Vamos a usar las variables 'Distance' 'Points Accumulated' vamos a concretar datos de la exploración que hicimos.\n",
    "\n",
    "\n",
    "## BOSPLOT o *Diagrama de cajas*\n"
   ]
  },
  {
   "cell_type": "code",
   "execution_count": 96,
   "metadata": {},
   "outputs": [
    {
     "data": {
      "text/plain": [
       "array([1521, 2030, 1200, ..., 1217,  617, 4135])"
      ]
     },
     "execution_count": 96,
     "metadata": {},
     "output_type": "execute_result"
    }
   ],
   "source": [
    "# REVISAR me salen los 3 valores primeros y los 3 ultimos\n",
    "df['Distance'].unique()"
   ]
  },
  {
   "cell_type": "code",
   "execution_count": 97,
   "metadata": {},
   "outputs": [
    {
     "data": {
      "text/plain": [
       "array([152.  , 203.  , 120.  , ...,  18.75, 601.  , 626.  ])"
      ]
     },
     "execution_count": 97,
     "metadata": {},
     "output_type": "execute_result"
    }
   ],
   "source": [
    "# REVISAR me salen los 3 valores primeros y los 3 ultimos\n",
    "df['Points Accumulated'].unique()"
   ]
  },
  {
   "cell_type": "code",
   "execution_count": 98,
   "metadata": {},
   "outputs": [
    {
     "data": {
      "text/html": [
       "<div>\n",
       "<style scoped>\n",
       "    .dataframe tbody tr th:only-of-type {\n",
       "        vertical-align: middle;\n",
       "    }\n",
       "\n",
       "    .dataframe tbody tr th {\n",
       "        vertical-align: top;\n",
       "    }\n",
       "\n",
       "    .dataframe thead th {\n",
       "        text-align: right;\n",
       "    }\n",
       "</style>\n",
       "<table border=\"1\" class=\"dataframe\">\n",
       "  <thead>\n",
       "    <tr style=\"text-align: right;\">\n",
       "      <th></th>\n",
       "      <th>Distance</th>\n",
       "      <th>Points Accumulated</th>\n",
       "    </tr>\n",
       "  </thead>\n",
       "  <tbody>\n",
       "    <tr>\n",
       "      <th>0</th>\n",
       "      <td>1521</td>\n",
       "      <td>152.0</td>\n",
       "    </tr>\n",
       "    <tr>\n",
       "      <th>1</th>\n",
       "      <td>2030</td>\n",
       "      <td>203.0</td>\n",
       "    </tr>\n",
       "    <tr>\n",
       "      <th>2</th>\n",
       "      <td>1200</td>\n",
       "      <td>120.0</td>\n",
       "    </tr>\n",
       "    <tr>\n",
       "      <th>10</th>\n",
       "      <td>2037</td>\n",
       "      <td>203.0</td>\n",
       "    </tr>\n",
       "    <tr>\n",
       "      <th>11</th>\n",
       "      <td>4245</td>\n",
       "      <td>424.0</td>\n",
       "    </tr>\n",
       "    <tr>\n",
       "      <th>16</th>\n",
       "      <td>1144</td>\n",
       "      <td>114.0</td>\n",
       "    </tr>\n",
       "    <tr>\n",
       "      <th>18</th>\n",
       "      <td>3264</td>\n",
       "      <td>326.0</td>\n",
       "    </tr>\n",
       "    <tr>\n",
       "      <th>19</th>\n",
       "      <td>2340</td>\n",
       "      <td>234.0</td>\n",
       "    </tr>\n",
       "    <tr>\n",
       "      <th>20</th>\n",
       "      <td>1236</td>\n",
       "      <td>123.0</td>\n",
       "    </tr>\n",
       "    <tr>\n",
       "      <th>21</th>\n",
       "      <td>3124</td>\n",
       "      <td>312.0</td>\n",
       "    </tr>\n",
       "  </tbody>\n",
       "</table>\n",
       "</div>"
      ],
      "text/plain": [
       "    Distance  Points Accumulated\n",
       "0       1521               152.0\n",
       "1       2030               203.0\n",
       "2       1200               120.0\n",
       "10      2037               203.0\n",
       "11      4245               424.0\n",
       "16      1144               114.0\n",
       "18      3264               326.0\n",
       "19      2340               234.0\n",
       "20      1236               123.0\n",
       "21      3124               312.0"
      ]
     },
     "execution_count": 98,
     "metadata": {},
     "output_type": "execute_result"
    }
   ],
   "source": [
    "# vamos a explorar dos columnas que parecen tener relación\n",
    "# podemos ver que la distancia del vuelo es el equivalente en puntos y se redondea a los multiplos de 10 mas cercano\n",
    "# sin embargo por azar he visto que cuando la distancia es 606 son 60 puntos voy a hacer una comprobación si la distancia es mayor a 1000\n",
    "# si es menor a 1000\n",
    "# efectivamente en las comprobaciones he podido observar que a partir de 1000 es cuando empiezan a contar \n",
    "\n",
    "df[df['Distance'] > 1000][['Distance', 'Points Accumulated']].head(10)\n"
   ]
  },
  {
   "cell_type": "code",
   "execution_count": 99,
   "metadata": {},
   "outputs": [
    {
     "data": {
      "text/html": [
       "<div>\n",
       "<style scoped>\n",
       "    .dataframe tbody tr th:only-of-type {\n",
       "        vertical-align: middle;\n",
       "    }\n",
       "\n",
       "    .dataframe tbody tr th {\n",
       "        vertical-align: top;\n",
       "    }\n",
       "\n",
       "    .dataframe thead th {\n",
       "        text-align: right;\n",
       "    }\n",
       "</style>\n",
       "<table border=\"1\" class=\"dataframe\">\n",
       "  <thead>\n",
       "    <tr style=\"text-align: right;\">\n",
       "      <th></th>\n",
       "      <th>Distance</th>\n",
       "      <th>Points Accumulated</th>\n",
       "    </tr>\n",
       "  </thead>\n",
       "  <tbody>\n",
       "    <tr>\n",
       "      <th>0</th>\n",
       "      <td>1521</td>\n",
       "      <td>152.0</td>\n",
       "    </tr>\n",
       "    <tr>\n",
       "      <th>1</th>\n",
       "      <td>2030</td>\n",
       "      <td>203.0</td>\n",
       "    </tr>\n",
       "    <tr>\n",
       "      <th>2</th>\n",
       "      <td>1200</td>\n",
       "      <td>120.0</td>\n",
       "    </tr>\n",
       "    <tr>\n",
       "      <th>8</th>\n",
       "      <td>606</td>\n",
       "      <td>60.0</td>\n",
       "    </tr>\n",
       "    <tr>\n",
       "      <th>10</th>\n",
       "      <td>2037</td>\n",
       "      <td>203.0</td>\n",
       "    </tr>\n",
       "    <tr>\n",
       "      <th>11</th>\n",
       "      <td>4245</td>\n",
       "      <td>424.0</td>\n",
       "    </tr>\n",
       "    <tr>\n",
       "      <th>16</th>\n",
       "      <td>1144</td>\n",
       "      <td>114.0</td>\n",
       "    </tr>\n",
       "    <tr>\n",
       "      <th>18</th>\n",
       "      <td>3264</td>\n",
       "      <td>326.0</td>\n",
       "    </tr>\n",
       "    <tr>\n",
       "      <th>19</th>\n",
       "      <td>2340</td>\n",
       "      <td>234.0</td>\n",
       "    </tr>\n",
       "    <tr>\n",
       "      <th>20</th>\n",
       "      <td>1236</td>\n",
       "      <td>123.0</td>\n",
       "    </tr>\n",
       "  </tbody>\n",
       "</table>\n",
       "</div>"
      ],
      "text/plain": [
       "    Distance  Points Accumulated\n",
       "0       1521               152.0\n",
       "1       2030               203.0\n",
       "2       1200               120.0\n",
       "8        606                60.0\n",
       "10      2037               203.0\n",
       "11      4245               424.0\n",
       "16      1144               114.0\n",
       "18      3264               326.0\n",
       "19      2340               234.0\n",
       "20      1236               123.0"
      ]
     },
     "execution_count": 99,
     "metadata": {},
     "output_type": "execute_result"
    }
   ],
   "source": [
    "df[df['Distance'] > 0][['Distance', 'Points Accumulated']].head(10)"
   ]
  },
  {
   "cell_type": "code",
   "execution_count": 100,
   "metadata": {},
   "outputs": [
    {
     "data": {
      "text/html": [
       "<div>\n",
       "<style scoped>\n",
       "    .dataframe tbody tr th:only-of-type {\n",
       "        vertical-align: middle;\n",
       "    }\n",
       "\n",
       "    .dataframe tbody tr th {\n",
       "        vertical-align: top;\n",
       "    }\n",
       "\n",
       "    .dataframe thead th {\n",
       "        text-align: right;\n",
       "    }\n",
       "</style>\n",
       "<table border=\"1\" class=\"dataframe\">\n",
       "  <thead>\n",
       "    <tr style=\"text-align: right;\">\n",
       "      <th></th>\n",
       "      <th>Distance</th>\n",
       "      <th>Points Accumulated</th>\n",
       "    </tr>\n",
       "  </thead>\n",
       "  <tbody>\n",
       "    <tr>\n",
       "      <th>8</th>\n",
       "      <td>606</td>\n",
       "      <td>60.0</td>\n",
       "    </tr>\n",
       "    <tr>\n",
       "      <th>40</th>\n",
       "      <td>658</td>\n",
       "      <td>65.0</td>\n",
       "    </tr>\n",
       "    <tr>\n",
       "      <th>79</th>\n",
       "      <td>346</td>\n",
       "      <td>34.0</td>\n",
       "    </tr>\n",
       "    <tr>\n",
       "      <th>89</th>\n",
       "      <td>484</td>\n",
       "      <td>48.0</td>\n",
       "    </tr>\n",
       "    <tr>\n",
       "      <th>105</th>\n",
       "      <td>932</td>\n",
       "      <td>93.0</td>\n",
       "    </tr>\n",
       "    <tr>\n",
       "      <th>108</th>\n",
       "      <td>840</td>\n",
       "      <td>84.0</td>\n",
       "    </tr>\n",
       "  </tbody>\n",
       "</table>\n",
       "</div>"
      ],
      "text/plain": [
       "     Distance  Points Accumulated\n",
       "8         606                60.0\n",
       "40        658                65.0\n",
       "79        346                34.0\n",
       "89        484                48.0\n",
       "105       932                93.0\n",
       "108       840                84.0"
      ]
     },
     "execution_count": 100,
     "metadata": {},
     "output_type": "execute_result"
    }
   ],
   "source": [
    "df[df['Distance'] < 1000][['Distance', 'Points Accumulated']].head(6)"
   ]
  },
  {
   "cell_type": "code",
   "execution_count": 101,
   "metadata": {},
   "outputs": [
    {
     "name": "stdout",
     "output_type": "stream",
     "text": [
      "    Distance  Points Accumulated\n",
      "0         90                9.00\n",
      "1         91               27.72\n",
      "2         92               18.00\n",
      "3         94               27.00\n",
      "4         95               18.72\n",
      "5         96               18.00\n",
      "6         97               18.72\n",
      "7         98               38.25\n",
      "8         99                9.72\n",
      "9        100               20.00\n",
      "10       101               30.00\n",
      "11       102               42.50\n",
      "12       103               10.80\n",
      "13       104               20.00\n",
      "14       106               30.00\n",
      "15       107               20.00\n",
      "16       108               25.00\n",
      "17       109               10.00\n",
      "18       110               11.00\n",
      "19       111               33.00\n",
      "20       112               11.00\n",
      "21       115               22.88\n",
      "22       117               22.00\n",
      "23       118               33.00\n"
     ]
    }
   ],
   "source": [
    "# voy a probar como ver la cantidad de distancia con los puntos acumulados y voy hacer un df \n",
    "distancia_ptos_acumulados = df.groupby(['Distance'])['Points Accumulated'].sum().reset_index()\n",
    "\n",
    "# Compruebo los primeros resultados para verificar \n",
    "print(distancia_ptos_acumulados.head(24))"
   ]
  },
  {
   "cell_type": "code",
   "execution_count": 110,
   "metadata": {},
   "outputs": [
    {
     "name": "stdout",
     "output_type": "stream",
     "text": [
      "   Distance  Points Accumulated\n",
      "0        90                9.00\n",
      "1        91               27.72\n",
      "2        92               18.00\n",
      "3        94               27.00\n",
      "4        95               18.72\n",
      "5        96               18.00\n",
      "6        97               18.72\n",
      "7        98               38.25\n",
      "8        99                9.72\n"
     ]
    }
   ],
   "source": [
    "# si uso el metodo ISIN() puedo filtrar filas con las distancias específicas, y revisar el comportamiento\n",
    "# de los números\n",
    "#por ejemplo, 500 y 1000\n",
    "distancias_especificas = distancia_ptos_acumulados[distancia_ptos_acumulados['Distance'].isin([90,91,92,93,94,95,96,97,98, 99])]\n",
    "\n",
    "# Mostrar los resultados\n",
    "print(distancias_especificas)"
   ]
  },
  {
   "cell_type": "code",
   "execution_count": 112,
   "metadata": {},
   "outputs": [
    {
     "name": "stdout",
     "output_type": "stream",
     "text": [
      "   Distance  Points Accumulated\n",
      "0        90                9.00\n",
      "1        91               27.72\n",
      "2        92               18.00\n",
      "3        94               27.00\n",
      "4        95               18.72\n",
      "5        96               18.00\n",
      "6        97               18.72\n",
      "7        98               38.25\n",
      "8        99                9.72\n"
     ]
    }
   ],
   "source": [
    "# si uso el metodo ISIN() puedo filtrar filas con las distancias específicas, y revisar el comportamiento\n",
    "# de los números\n",
    "#por ejemplo, 500 y 1000\n",
    "#df[df['Distance'].isin([6231, 6293])]\n",
    "distancias_especificas = distancia_ptos_acumulados[distancia_ptos_acumulados['Distance'].isin([90,91,92,93,94,95,96,97,98, 99])]\n",
    "\n",
    "# Mostrar los resultados\n",
    "print(distancias_especificas)"
   ]
  },
  {
   "cell_type": "code",
   "execution_count": 119,
   "metadata": {},
   "outputs": [
    {
     "name": "stdout",
     "output_type": "stream",
     "text": [
      "        Loyalty Number  Distance  Points Accumulated  Year  Month\n",
      "8302            543285        91                9.00  2017      1\n",
      "18647           194482        94                9.00  2017      2\n",
      "23607           458614        90                9.00  2017      2\n",
      "26561           614000        91                9.00  2017      2\n",
      "26857           628844        97                9.00  2017      2\n",
      "63085           756646        95                9.00  2017      4\n",
      "136884          190561        98                9.00  2017      9\n",
      "173691          349838        92                9.00  2017     11\n",
      "177513          553453        94                9.00  2017     11\n",
      "183196          853540        96                9.00  2017     11\n",
      "212131          596818        92                9.00  2018      1\n",
      "219718          605761        91                9.72  2018      2\n",
      "219744          207821        95                9.72  2018      4\n",
      "219755          378267        97                9.72  2018      2\n",
      "219917          595658        98               11.25  2018      4\n",
      "283038          721456        99                9.72  2018      4\n",
      "351877          835973        98                9.00  2018      9\n",
      "372205          120554        98                9.00  2018     11\n",
      "386608          885497        96                9.00  2018     11\n",
      "388264          974209        94                9.00  2018     11\n"
     ]
    }
   ],
   "source": [
    "\n",
    "#distancias_especificas = df[df['Distance'].isin([6231, 6293])][['Distance', 'Points Accumulated','Flights Booked',\n",
    " #      'Flights with Companions', 'Total Flights']]\n",
    "\n",
    "\n",
    "distancias_especificas = df[df['Distance'].isin([90,91,92,93,94,95,96,97,98, 99])][['Loyalty Number','Distance', 'Points Accumulated','Year', 'Month']]\n",
    "\n",
    "# Mostrar los resultados\n",
    "print(distancias_especificas)"
   ]
  },
  {
   "cell_type": "code",
   "execution_count": 118,
   "metadata": {},
   "outputs": [
    {
     "name": "stdout",
     "output_type": "stream",
     "text": [
      "        Loyalty Number  Distance  Points Accumulated  Points Redeemed\n",
      "8302            543285        91                9.00                0\n",
      "18647           194482        94                9.00                0\n",
      "23607           458614        90                9.00                0\n",
      "26561           614000        91                9.00                0\n",
      "26857           628844        97                9.00                0\n",
      "63085           756646        95                9.00                0\n",
      "136884          190561        98                9.00                0\n",
      "173691          349838        92                9.00                0\n",
      "177513          553453        94                9.00                0\n",
      "183196          853540        96                9.00                0\n",
      "212131          596818        92                9.00                0\n",
      "219718          605761        91                9.72                0\n",
      "219744          207821        95                9.72                0\n",
      "219755          378267        97                9.72                0\n",
      "219917          595658        98               11.25                0\n",
      "283038          721456        99                9.72                0\n",
      "351877          835973        98                9.00                0\n",
      "372205          120554        98                9.00                0\n",
      "386608          885497        96                9.00                0\n",
      "388264          974209        94                9.00                0\n"
     ]
    }
   ],
   "source": [
    "\n",
    "#distancias_especificas = df[df['Distance'].isin([6231, 6293])][['Distance', 'Points Accumulated','Flights Booked',\n",
    " #      'Flights with Companions', 'Total Flights']]\n",
    "\n",
    "\n",
    "distancias_especificas = df[df['Distance'].isin([90,91,92,93,94,95,96,97,98, 99])][['Loyalty Number','Distance', 'Points Accumulated','Points Redeemed']]\n",
    "\n",
    "# Mostrar los resultados\n",
    "print(distancias_especificas)"
   ]
  },
  {
   "cell_type": "code",
   "execution_count": 121,
   "metadata": {},
   "outputs": [
    {
     "name": "stdout",
     "output_type": "stream",
     "text": [
      "        Loyalty Number  Year  Month  Flights Booked  Flights with Companions  \\\n",
      "26857           628844  2017      2               1                        0   \n",
      "63085           756646  2017      4               1                        0   \n",
      "136884          190561  2017      9               1                        0   \n",
      "219744          207821  2018      4               1                        0   \n",
      "219755          378267  2018      2               1                        0   \n",
      "219917          595658  2018      4               1                        0   \n",
      "351877          835973  2018      9               1                        0   \n",
      "372205          120554  2018     11               1                        0   \n",
      "\n",
      "        Total Flights  Distance  Points Accumulated  Points Redeemed  \\\n",
      "26857               1        97                9.00                0   \n",
      "63085               1        95                9.00                0   \n",
      "136884              1        98                9.00                0   \n",
      "219744              1        95                9.72                0   \n",
      "219755              1        97                9.72                0   \n",
      "219917              1        98               11.25                0   \n",
      "351877              1        98                9.00                0   \n",
      "372205              1        98                9.00                0   \n",
      "\n",
      "        Dollar Cost Points Redeemed  \n",
      "26857                             0  \n",
      "63085                             0  \n",
      "136884                            0  \n",
      "219744                            0  \n",
      "219755                            0  \n",
      "219917                            0  \n",
      "351877                            0  \n",
      "372205                            0  \n"
     ]
    }
   ],
   "source": [
    "distancias_especificas = df[df['Distance'].isin([95,97,98])][['Loyalty Number', 'Year', 'Month', 'Flights Booked',\n",
    "       'Flights with Companions', 'Total Flights', 'Distance',\n",
    "       'Points Accumulated', 'Points Redeemed', 'Dollar Cost Points Redeemed']]\n",
    "\n",
    "# Mostrar los resultados\n",
    "print(distancias_especificas)"
   ]
  },
  {
   "cell_type": "code",
   "execution_count": 125,
   "metadata": {},
   "outputs": [
    {
     "name": "stdout",
     "output_type": "stream",
     "text": [
      "        Loyalty Number  Year  Distance  Points Accumulated\n",
      "272             892022  2017      4080              408.00\n",
      "303             101709  2017      3255              325.00\n",
      "441             486200  2018      3792              409.32\n",
      "448             567420  2018      3792              409.32\n",
      "479             101709  2018      2249              336.00\n",
      "...                ...   ...       ...                 ...\n",
      "405138          999788  2017      2717              271.00\n",
      "405234          116703  2018       402               43.20\n",
      "405380          543862  2017      1008              100.00\n",
      "405427          602574  2017       704               70.00\n",
      "405580          473410  2018       882               95.04\n",
      "\n",
      "[16852 rows x 4 columns]\n"
     ]
    }
   ],
   "source": [
    "distancias_especificas = df[df['Month'].isin([4])][['Loyalty Number', 'Year','Distance','Points Accumulated']]\n",
    "\n",
    "# Mostrar los resultados\n",
    "print(distancias_especificas)"
   ]
  },
  {
   "cell_type": "code",
   "execution_count": null,
   "metadata": {},
   "outputs": [],
   "source": [
    "# por lo que puedo ver en el mes 4 cambian los puntos acumulados según la distancia\n",
    "# voy a comprobar que hay una variación entre los km y los puntos acumulados\n",
    "# y hemos podido observar que esto ocurre solo en el 2018 \n",
    "# No voy a usar las hipotesis voy a usar el código y como un año sólo tiene 12 meses voy hacer la prueba 12 veces en el 2017\n",
    "# y 12 veces en el 2018 y con los resultados saco conclusiones para poder hacer la gráfica\n",
    "# haciendo esto sin la formulación de hipotesis que sería mas sencillo puedo deducir\n",
    "# que en el 2018 parece encontrarse una promocion en los meses 2,3,4 que según pudimos ver eran en los que menos vuelos\n",
    "# se realizaban en el 2017. Entendemos que durante el 2018 se realiza una promoción en los meses 2,3,4 ya que \n",
    "# encuentro una variación en la media de puntos comparando los meses \n",
    "# pego el código que he usado "
   ]
  },
  {
   "cell_type": "code",
   "execution_count": 159,
   "metadata": {},
   "outputs": [
    {
     "name": "stdout",
     "output_type": "stream",
     "text": [
      "Media de puntos acumulados por km en el mes 4 del 2018 (promoción): 0.12217740413563588\n",
      "Media de puntos acumulados por km en otros meses del 2018: 0.10363594830115855\n"
     ]
    }
   ],
   "source": [
    "# 2018 CON PROMOCIÓN Y MISMOS RESULTADOS QUE AQUI MES: 2,3,4\n",
    "# Voy a filtrar por año 2018 y por mes 4 (posible promoción)\n",
    "# Esto lo he hecho con todos los meses del 2018 por lo que lo he ejecutado 12 veces y he encontrado diferncia en 3 meses\n",
    "# mes 2,3,4,\n",
    "mes_promo = df[(df['Year'] == 2018) & (df['Month'] == 4)][['Loyalty Number', 'Distance', 'Points Accumulated']]\n",
    "\n",
    "otros_meses_no_promo = df[(df['Year'] == 2018) & (df['Month'] != 4)][['Loyalty Number', 'Distance', 'Points Accumulated']]\n",
    "\n",
    "# comparar la relacion entre distancia y puntos acumulados en los dos data anteriores\n",
    "mes_promo['Points per Mile'] = mes_promo['Points Accumulated'] / mes_promo['Distance']\n",
    "otros_meses_no_promo['Points per Mile'] = otros_meses_no_promo['Points Accumulated'] / otros_meses_no_promo['Distance']\n",
    "\n",
    "# Calcular la media de puntos acumulados por milla en ambos casos\n",
    "promo_points_media = mes_promo['Points per Mile'].mean()\n",
    "otros_points_media = otros_meses_no_promo['Points per Mile'].mean()\n",
    "\n",
    "# Imprimeme los resultados \n",
    "print(f\"Media de puntos acumulados por km en el mes 4 del 2018 (promoción): {promo_points_media}\")\n",
    "print(f\"Media de puntos acumulados por km en otros meses del 2018: {otros_points_media}\")"
   ]
  },
  {
   "cell_type": "code",
   "execution_count": 160,
   "metadata": {},
   "outputs": [
    {
     "name": "stdout",
     "output_type": "stream",
     "text": [
      "Media de puntos acumulados por km en el mes 8 del 2018 (promoción): 0.09981351951384067\n",
      "Media de puntos acumulados por km en otros meses del 2018: 0.10563258386495802\n"
     ]
    }
   ],
   "source": [
    "# 2018 SIN PROMOCIÓN Y MISMOS RESULTADOS QUE AQUI MES: 1,5,6,7,8,9,10,11,12\n",
    "# Voy a filtrar por año 2018 y por mes 8 (sin promoción)\n",
    "# Esto lo he hecho con todos los meses del 2018 por lo que lo he ejecutado 12 veces y he encontrado diferncia en 3 meses\n",
    "# mes 2,3,4,\n",
    "mes_promo = df[(df['Year'] == 2018) & (df['Month'] == 8)][['Loyalty Number', 'Distance', 'Points Accumulated']]\n",
    "\n",
    "otros_meses_no_promo = df[(df['Year'] == 2018) & (df['Month'] != 8)][['Loyalty Number', 'Distance', 'Points Accumulated']]\n",
    "\n",
    "# comparar la relacion entre distancia y puntos acumulados en los dos data anteriores\n",
    "mes_promo['Points per Mile'] = mes_promo['Points Accumulated'] / mes_promo['Distance']\n",
    "otros_meses_no_promo['Points per Mile'] = otros_meses_no_promo['Points Accumulated'] / otros_meses_no_promo['Distance']\n",
    "\n",
    "# Calcular la media de puntos acumulados por milla en ambos casos\n",
    "promo_points_media = mes_promo['Points per Mile'].mean()\n",
    "otros_points_media = otros_meses_no_promo['Points per Mile'].mean()\n",
    "\n",
    "\n",
    "# Imprimeme los resultados \n",
    "print(f\"Media de puntos acumulados por km en el mes 8 del 2018 (promoción): {promo_points_media}\")\n",
    "print(f\"Media de puntos acumulados por km en otros meses del 2018: {otros_points_media}\")"
   ]
  },
  {
   "cell_type": "markdown",
   "metadata": {},
   "source": [
    "#######################################"
   ]
  },
  {
   "cell_type": "code",
   "execution_count": 184,
   "metadata": {},
   "outputs": [
    {
     "ename": "FileNotFoundError",
     "evalue": "[Errno 2] No such file or directory: 'Customer Flight Activity.csv'",
     "output_type": "error",
     "traceback": [
      "\u001b[0;31m---------------------------------------------------------------------------\u001b[0m",
      "\u001b[0;31mFileNotFoundError\u001b[0m                         Traceback (most recent call last)",
      "\u001b[0;32m/var/folders/bs/l3gt0xp560x7j_9ydmgrywcw0000gn/T/ipykernel_15565/966917092.py\u001b[0m in \u001b[0;36m<module>\u001b[0;34m\u001b[0m\n\u001b[0;32m----> 1\u001b[0;31m \u001b[0mdf\u001b[0m \u001b[0;34m=\u001b[0m \u001b[0mpd\u001b[0m\u001b[0;34m.\u001b[0m\u001b[0mread_csv\u001b[0m\u001b[0;34m(\u001b[0m\u001b[0;34m\"Customer Flight Activity.csv\"\u001b[0m\u001b[0;34m)\u001b[0m\u001b[0;34m\u001b[0m\u001b[0;34m\u001b[0m\u001b[0m\n\u001b[0m\u001b[1;32m      2\u001b[0m \u001b[0mdf\u001b[0m\u001b[0;34m.\u001b[0m\u001b[0mhead\u001b[0m\u001b[0;34m(\u001b[0m\u001b[0;36m5\u001b[0m\u001b[0;34m)\u001b[0m\u001b[0;34m\u001b[0m\u001b[0;34m\u001b[0m\u001b[0m\n",
      "\u001b[0;32m/Applications/anaconda3/lib/python3.9/site-packages/pandas/util/_decorators.py\u001b[0m in \u001b[0;36mwrapper\u001b[0;34m(*args, **kwargs)\u001b[0m\n\u001b[1;32m    309\u001b[0m                     \u001b[0mstacklevel\u001b[0m\u001b[0;34m=\u001b[0m\u001b[0mstacklevel\u001b[0m\u001b[0;34m,\u001b[0m\u001b[0;34m\u001b[0m\u001b[0;34m\u001b[0m\u001b[0m\n\u001b[1;32m    310\u001b[0m                 )\n\u001b[0;32m--> 311\u001b[0;31m             \u001b[0;32mreturn\u001b[0m \u001b[0mfunc\u001b[0m\u001b[0;34m(\u001b[0m\u001b[0;34m*\u001b[0m\u001b[0margs\u001b[0m\u001b[0;34m,\u001b[0m \u001b[0;34m**\u001b[0m\u001b[0mkwargs\u001b[0m\u001b[0;34m)\u001b[0m\u001b[0;34m\u001b[0m\u001b[0;34m\u001b[0m\u001b[0m\n\u001b[0m\u001b[1;32m    312\u001b[0m \u001b[0;34m\u001b[0m\u001b[0m\n\u001b[1;32m    313\u001b[0m         \u001b[0;32mreturn\u001b[0m \u001b[0mwrapper\u001b[0m\u001b[0;34m\u001b[0m\u001b[0;34m\u001b[0m\u001b[0m\n",
      "\u001b[0;32m/Applications/anaconda3/lib/python3.9/site-packages/pandas/io/parsers/readers.py\u001b[0m in \u001b[0;36mread_csv\u001b[0;34m(filepath_or_buffer, sep, delimiter, header, names, index_col, usecols, squeeze, prefix, mangle_dupe_cols, dtype, engine, converters, true_values, false_values, skipinitialspace, skiprows, skipfooter, nrows, na_values, keep_default_na, na_filter, verbose, skip_blank_lines, parse_dates, infer_datetime_format, keep_date_col, date_parser, dayfirst, cache_dates, iterator, chunksize, compression, thousands, decimal, lineterminator, quotechar, quoting, doublequote, escapechar, comment, encoding, encoding_errors, dialect, error_bad_lines, warn_bad_lines, on_bad_lines, delim_whitespace, low_memory, memory_map, float_precision, storage_options)\u001b[0m\n\u001b[1;32m    584\u001b[0m     \u001b[0mkwds\u001b[0m\u001b[0;34m.\u001b[0m\u001b[0mupdate\u001b[0m\u001b[0;34m(\u001b[0m\u001b[0mkwds_defaults\u001b[0m\u001b[0;34m)\u001b[0m\u001b[0;34m\u001b[0m\u001b[0;34m\u001b[0m\u001b[0m\n\u001b[1;32m    585\u001b[0m \u001b[0;34m\u001b[0m\u001b[0m\n\u001b[0;32m--> 586\u001b[0;31m     \u001b[0;32mreturn\u001b[0m \u001b[0m_read\u001b[0m\u001b[0;34m(\u001b[0m\u001b[0mfilepath_or_buffer\u001b[0m\u001b[0;34m,\u001b[0m \u001b[0mkwds\u001b[0m\u001b[0;34m)\u001b[0m\u001b[0;34m\u001b[0m\u001b[0;34m\u001b[0m\u001b[0m\n\u001b[0m\u001b[1;32m    587\u001b[0m \u001b[0;34m\u001b[0m\u001b[0m\n\u001b[1;32m    588\u001b[0m \u001b[0;34m\u001b[0m\u001b[0m\n",
      "\u001b[0;32m/Applications/anaconda3/lib/python3.9/site-packages/pandas/io/parsers/readers.py\u001b[0m in \u001b[0;36m_read\u001b[0;34m(filepath_or_buffer, kwds)\u001b[0m\n\u001b[1;32m    480\u001b[0m \u001b[0;34m\u001b[0m\u001b[0m\n\u001b[1;32m    481\u001b[0m     \u001b[0;31m# Create the parser.\u001b[0m\u001b[0;34m\u001b[0m\u001b[0;34m\u001b[0m\u001b[0m\n\u001b[0;32m--> 482\u001b[0;31m     \u001b[0mparser\u001b[0m \u001b[0;34m=\u001b[0m \u001b[0mTextFileReader\u001b[0m\u001b[0;34m(\u001b[0m\u001b[0mfilepath_or_buffer\u001b[0m\u001b[0;34m,\u001b[0m \u001b[0;34m**\u001b[0m\u001b[0mkwds\u001b[0m\u001b[0;34m)\u001b[0m\u001b[0;34m\u001b[0m\u001b[0;34m\u001b[0m\u001b[0m\n\u001b[0m\u001b[1;32m    483\u001b[0m \u001b[0;34m\u001b[0m\u001b[0m\n\u001b[1;32m    484\u001b[0m     \u001b[0;32mif\u001b[0m \u001b[0mchunksize\u001b[0m \u001b[0;32mor\u001b[0m \u001b[0miterator\u001b[0m\u001b[0;34m:\u001b[0m\u001b[0;34m\u001b[0m\u001b[0;34m\u001b[0m\u001b[0m\n",
      "\u001b[0;32m/Applications/anaconda3/lib/python3.9/site-packages/pandas/io/parsers/readers.py\u001b[0m in \u001b[0;36m__init__\u001b[0;34m(self, f, engine, **kwds)\u001b[0m\n\u001b[1;32m    809\u001b[0m             \u001b[0mself\u001b[0m\u001b[0;34m.\u001b[0m\u001b[0moptions\u001b[0m\u001b[0;34m[\u001b[0m\u001b[0;34m\"has_index_names\"\u001b[0m\u001b[0;34m]\u001b[0m \u001b[0;34m=\u001b[0m \u001b[0mkwds\u001b[0m\u001b[0;34m[\u001b[0m\u001b[0;34m\"has_index_names\"\u001b[0m\u001b[0;34m]\u001b[0m\u001b[0;34m\u001b[0m\u001b[0;34m\u001b[0m\u001b[0m\n\u001b[1;32m    810\u001b[0m \u001b[0;34m\u001b[0m\u001b[0m\n\u001b[0;32m--> 811\u001b[0;31m         \u001b[0mself\u001b[0m\u001b[0;34m.\u001b[0m\u001b[0m_engine\u001b[0m \u001b[0;34m=\u001b[0m \u001b[0mself\u001b[0m\u001b[0;34m.\u001b[0m\u001b[0m_make_engine\u001b[0m\u001b[0;34m(\u001b[0m\u001b[0mself\u001b[0m\u001b[0;34m.\u001b[0m\u001b[0mengine\u001b[0m\u001b[0;34m)\u001b[0m\u001b[0;34m\u001b[0m\u001b[0;34m\u001b[0m\u001b[0m\n\u001b[0m\u001b[1;32m    812\u001b[0m \u001b[0;34m\u001b[0m\u001b[0m\n\u001b[1;32m    813\u001b[0m     \u001b[0;32mdef\u001b[0m \u001b[0mclose\u001b[0m\u001b[0;34m(\u001b[0m\u001b[0mself\u001b[0m\u001b[0;34m)\u001b[0m\u001b[0;34m:\u001b[0m\u001b[0;34m\u001b[0m\u001b[0;34m\u001b[0m\u001b[0m\n",
      "\u001b[0;32m/Applications/anaconda3/lib/python3.9/site-packages/pandas/io/parsers/readers.py\u001b[0m in \u001b[0;36m_make_engine\u001b[0;34m(self, engine)\u001b[0m\n\u001b[1;32m   1038\u001b[0m             )\n\u001b[1;32m   1039\u001b[0m         \u001b[0;31m# error: Too many arguments for \"ParserBase\"\u001b[0m\u001b[0;34m\u001b[0m\u001b[0;34m\u001b[0m\u001b[0m\n\u001b[0;32m-> 1040\u001b[0;31m         \u001b[0;32mreturn\u001b[0m \u001b[0mmapping\u001b[0m\u001b[0;34m[\u001b[0m\u001b[0mengine\u001b[0m\u001b[0;34m]\u001b[0m\u001b[0;34m(\u001b[0m\u001b[0mself\u001b[0m\u001b[0;34m.\u001b[0m\u001b[0mf\u001b[0m\u001b[0;34m,\u001b[0m \u001b[0;34m**\u001b[0m\u001b[0mself\u001b[0m\u001b[0;34m.\u001b[0m\u001b[0moptions\u001b[0m\u001b[0;34m)\u001b[0m  \u001b[0;31m# type: ignore[call-arg]\u001b[0m\u001b[0;34m\u001b[0m\u001b[0;34m\u001b[0m\u001b[0m\n\u001b[0m\u001b[1;32m   1041\u001b[0m \u001b[0;34m\u001b[0m\u001b[0m\n\u001b[1;32m   1042\u001b[0m     \u001b[0;32mdef\u001b[0m \u001b[0m_failover_to_python\u001b[0m\u001b[0;34m(\u001b[0m\u001b[0mself\u001b[0m\u001b[0;34m)\u001b[0m\u001b[0;34m:\u001b[0m\u001b[0;34m\u001b[0m\u001b[0;34m\u001b[0m\u001b[0m\n",
      "\u001b[0;32m/Applications/anaconda3/lib/python3.9/site-packages/pandas/io/parsers/c_parser_wrapper.py\u001b[0m in \u001b[0;36m__init__\u001b[0;34m(self, src, **kwds)\u001b[0m\n\u001b[1;32m     49\u001b[0m \u001b[0;34m\u001b[0m\u001b[0m\n\u001b[1;32m     50\u001b[0m         \u001b[0;31m# open handles\u001b[0m\u001b[0;34m\u001b[0m\u001b[0;34m\u001b[0m\u001b[0m\n\u001b[0;32m---> 51\u001b[0;31m         \u001b[0mself\u001b[0m\u001b[0;34m.\u001b[0m\u001b[0m_open_handles\u001b[0m\u001b[0;34m(\u001b[0m\u001b[0msrc\u001b[0m\u001b[0;34m,\u001b[0m \u001b[0mkwds\u001b[0m\u001b[0;34m)\u001b[0m\u001b[0;34m\u001b[0m\u001b[0;34m\u001b[0m\u001b[0m\n\u001b[0m\u001b[1;32m     52\u001b[0m         \u001b[0;32massert\u001b[0m \u001b[0mself\u001b[0m\u001b[0;34m.\u001b[0m\u001b[0mhandles\u001b[0m \u001b[0;32mis\u001b[0m \u001b[0;32mnot\u001b[0m \u001b[0;32mNone\u001b[0m\u001b[0;34m\u001b[0m\u001b[0;34m\u001b[0m\u001b[0m\n\u001b[1;32m     53\u001b[0m \u001b[0;34m\u001b[0m\u001b[0m\n",
      "\u001b[0;32m/Applications/anaconda3/lib/python3.9/site-packages/pandas/io/parsers/base_parser.py\u001b[0m in \u001b[0;36m_open_handles\u001b[0;34m(self, src, kwds)\u001b[0m\n\u001b[1;32m    220\u001b[0m         \u001b[0mLet\u001b[0m \u001b[0mthe\u001b[0m \u001b[0mreaders\u001b[0m \u001b[0mopen\u001b[0m \u001b[0mIOHandles\u001b[0m \u001b[0mafter\u001b[0m \u001b[0mthey\u001b[0m \u001b[0mare\u001b[0m \u001b[0mdone\u001b[0m \u001b[0;32mwith\u001b[0m \u001b[0mtheir\u001b[0m \u001b[0mpotential\u001b[0m \u001b[0mraises\u001b[0m\u001b[0;34m.\u001b[0m\u001b[0;34m\u001b[0m\u001b[0;34m\u001b[0m\u001b[0m\n\u001b[1;32m    221\u001b[0m         \"\"\"\n\u001b[0;32m--> 222\u001b[0;31m         self.handles = get_handle(\n\u001b[0m\u001b[1;32m    223\u001b[0m             \u001b[0msrc\u001b[0m\u001b[0;34m,\u001b[0m\u001b[0;34m\u001b[0m\u001b[0;34m\u001b[0m\u001b[0m\n\u001b[1;32m    224\u001b[0m             \u001b[0;34m\"r\"\u001b[0m\u001b[0;34m,\u001b[0m\u001b[0;34m\u001b[0m\u001b[0;34m\u001b[0m\u001b[0m\n",
      "\u001b[0;32m/Applications/anaconda3/lib/python3.9/site-packages/pandas/io/common.py\u001b[0m in \u001b[0;36mget_handle\u001b[0;34m(path_or_buf, mode, encoding, compression, memory_map, is_text, errors, storage_options)\u001b[0m\n\u001b[1;32m    700\u001b[0m         \u001b[0;32mif\u001b[0m \u001b[0mioargs\u001b[0m\u001b[0;34m.\u001b[0m\u001b[0mencoding\u001b[0m \u001b[0;32mand\u001b[0m \u001b[0;34m\"b\"\u001b[0m \u001b[0;32mnot\u001b[0m \u001b[0;32min\u001b[0m \u001b[0mioargs\u001b[0m\u001b[0;34m.\u001b[0m\u001b[0mmode\u001b[0m\u001b[0;34m:\u001b[0m\u001b[0;34m\u001b[0m\u001b[0;34m\u001b[0m\u001b[0m\n\u001b[1;32m    701\u001b[0m             \u001b[0;31m# Encoding\u001b[0m\u001b[0;34m\u001b[0m\u001b[0;34m\u001b[0m\u001b[0m\n\u001b[0;32m--> 702\u001b[0;31m             handle = open(\n\u001b[0m\u001b[1;32m    703\u001b[0m                 \u001b[0mhandle\u001b[0m\u001b[0;34m,\u001b[0m\u001b[0;34m\u001b[0m\u001b[0;34m\u001b[0m\u001b[0m\n\u001b[1;32m    704\u001b[0m                 \u001b[0mioargs\u001b[0m\u001b[0;34m.\u001b[0m\u001b[0mmode\u001b[0m\u001b[0;34m,\u001b[0m\u001b[0;34m\u001b[0m\u001b[0;34m\u001b[0m\u001b[0m\n",
      "\u001b[0;31mFileNotFoundError\u001b[0m: [Errno 2] No such file or directory: 'Customer Flight Activity.csv'"
     ]
    }
   ],
   "source": [
    "df = pd.read_csv(\"Customer Flight Activity.csv\")\n",
    "df.head(5)"
   ]
  },
  {
   "cell_type": "code",
   "execution_count": null,
   "metadata": {},
   "outputs": [],
   "source": []
  },
  {
   "cell_type": "code",
   "execution_count": 183,
   "metadata": {},
   "outputs": [
    {
     "name": "stdout",
     "output_type": "stream",
     "text": [
      "Empty DataFrame\n",
      "Columns: [Year, Month, Distance, Points Accumulated]\n",
      "Index: []\n"
     ]
    }
   ],
   "source": [
    "# Agrupar los datos por año, mes y distancia\n",
    "cliente_puntos_año_mes = df.groupby(['Year', 'Month', 'Distance'])['Points Accumulated'].sum().reset_index()\n",
    "\n",
    "# Mostrar los primeros 10 resultados para verificar\n",
    "print(cliente_puntos_año_mes.head(10))\n"
   ]
  },
  {
   "cell_type": "code",
   "execution_count": null,
   "metadata": {},
   "outputs": [],
   "source": []
  },
  {
   "cell_type": "code",
   "execution_count": 181,
   "metadata": {},
   "outputs": [
    {
     "name": "stdout",
     "output_type": "stream",
     "text": [
      "Empty DataFrame\n",
      "Columns: [Year, Month, Loyalty Number]\n",
      "Index: []\n"
     ]
    }
   ],
   "source": [
    "# voy a probar como ver la cantidad de vuelos reservados por año y por mes \n",
    "distancia_puntos_año_mes = df.groupby(['Year','Month'])['Points Accumulated'].sum().reset_index()\n",
    "\n",
    "# Compruebo los primeros resultados para verificar \n",
    "print(distancia_puntos_año_mes.head(24))"
   ]
  },
  {
   "cell_type": "code",
   "execution_count": null,
   "metadata": {},
   "outputs": [],
   "source": []
  },
  {
   "cell_type": "code",
   "execution_count": null,
   "metadata": {},
   "outputs": [],
   "source": []
  },
  {
   "cell_type": "code",
   "execution_count": null,
   "metadata": {},
   "outputs": [],
   "source": [
    "distancia_puntos_por_id = df.groupby (['Year','Month'])[ 'Points Accumulated'].sum().reset_index()\n",
    "print(distancia_puntos_por_id.head(24))"
   ]
  },
  {
   "cell_type": "code",
   "execution_count": null,
   "metadata": {},
   "outputs": [],
   "source": [
    "# voy a probar como ver la cantidad de vuelos reservados por año y por mes \n",
    "reservas_por_año_al_mes = df.groupby(['Year','Month'])['Flights Booked'].sum().reset_index()\n",
    "\n",
    "# Compruebo los primeros resultados para verificar \n",
    "print(reservas_por_año_al_mes.head(24))"
   ]
  },
  {
   "cell_type": "code",
   "execution_count": null,
   "metadata": {},
   "outputs": [],
   "source": [
    "#['Loyalty Number', 'Year', 'Month', 'Flights Booked',\n",
    "#    'Flights with Companions', 'Total Flights', 'Distance',\n",
    "#   'Points Accumulated', 'Points Redeemed', 'Dollar Cost Points Redeemed'],"
   ]
  },
  {
   "cell_type": "code",
   "execution_count": 176,
   "metadata": {},
   "outputs": [
    {
     "data": {
      "image/png": "[encoded data removed]",
      "text/plain": [
       "<Figure size 720x432 with 1 Axes>"
      ]
     },
     "metadata": {
      "needs_background": "light"
     },
     "output_type": "display_data"
    }
   ],
   "source": [
    "# Crear una tabla de resumen de la distancia y puntos acumulados (puede ser la media por distancia, por ejemplo)\n",
    "tabla_resumen = df.groupby('Distance')['Points Accumulated'].mean()\n",
    "\n",
    "# Graficar la relación entre la distancia volada y los puntos acumulados\n",
    "plt.figure(figsize=(10, 6))\n",
    "plt.plot(tabla_resumen.index, tabla_resumen.values, marker='o', color='b', label='Puntos Acumulados vs. Distancia')\n",
    "\n",
    "# Añadir títulos y etiquetas\n",
    "plt.title('Relación entre la Distancia de Vuelos y los Puntos Acumulados')\n",
    "plt.xlabel('Distancia Volada')\n",
    "plt.ylabel('Puntos Acumulados')\n",
    "plt.legend(title='Relación', fontsize=12)\n",
    "\n",
    "# Mostrar el gráfico\n",
    "plt.show()\n"
   ]
  },
  {
   "cell_type": "code",
   "execution_count": null,
   "metadata": {},
   "outputs": [],
   "source": []
  },
  {
   "cell_type": "code",
   "execution_count": null,
   "metadata": {},
   "outputs": [],
   "source": []
  },
  {
   "cell_type": "code",
   "execution_count": null,
   "metadata": {},
   "outputs": [],
   "source": [
    "# Graficar la tabla resumen con líneas para cada año\n",
    "plt.figure(figsize=(10, 6))\n",
    "for year in tabla_para_comparar.index:\n",
    "    plt.plot(tabla_para_comparar.columns, tabla_para_comparar.loc[year], marker='o', label=str(year))\n",
    "\n",
    "# Añadir títulos y etiquetas\n",
    "plt.title('Tendencia de Flights Booked por Mes y Año')\n",
    "plt.xlabel('Mes')\n",
    "plt.ylabel('Flights Booked')\n",
    "# esto lo he buscado porque no sabia como meterlo en la gráfica\n",
    "plt.legend(title='Año',fontsize=15)\n",
    "\n",
    "# Mostrar el gráfico\n",
    "plt.show()"
   ]
  },
  {
   "cell_type": "code",
   "execution_count": null,
   "metadata": {},
   "outputs": [],
   "source": []
  },
  {
   "cell_type": "code",
   "execution_count": 168,
   "metadata": {},
   "outputs": [
    {
     "name": "stdout",
     "output_type": "stream",
     "text": [
      "         Month\n",
      "0        Enero\n",
      "1        Enero\n",
      "2        Enero\n",
      "8        Enero\n",
      "10       Enero\n",
      "11  Septiembre\n",
      "16       Enero\n",
      "18       Enero\n",
      "19       Enero\n",
      "20       Enero\n",
      "21       Enero\n",
      "22       Enero\n"
     ]
    }
   ],
   "source": [
    "# vamos a transformar los meses en una variable categorica por lo que los numeros los vamos a transformar \n",
    "#en el nombre de los meses\n",
    "meses = {1: 'Enero', 2: 'Febrero', 3: 'Marzo', 4: 'Abril', \n",
    "    5: 'Mayo', 6: 'Junio', 7: 'Julio', 8: 'Agosto', \n",
    "    9: 'Septiembre', 10: 'Octubre', 11: 'Noviembre', 12: 'Diciembre'}\n",
    "\n",
    "# aplicamos el método de mapeo \n",
    "df['Month'] = df['Month'].map(meses)\n",
    "\n",
    "# imprimir los cambios\n",
    "print(df[['Month']].head(12))"
   ]
  },
  {
   "cell_type": "code",
   "execution_count": null,
   "metadata": {},
   "outputs": [],
   "source": []
  },
  {
   "cell_type": "code",
   "execution_count": null,
   "metadata": {},
   "outputs": [],
   "source": []
  },
  {
   "cell_type": "code",
   "execution_count": null,
   "metadata": {},
   "outputs": [],
   "source": [
    "dis_2017 = distancia_ptos_acumulados [distancia_ptos_acumulados [['Year'] == 2017][['Distance', 'Points Accumulated','Month']]]\n",
    "dis_2018 = distancia_ptos_acumulados [distancia_ptos_acumulados [['Year'] == 2018][['Distance', 'Points Accumulated','Month']]]"
   ]
  },
  {
   "cell_type": "code",
   "execution_count": null,
   "metadata": {},
   "outputs": [],
   "source": [
    "df[df['Distance'] > 1000][['Distance', 'Points Accumulated']].head(10)"
   ]
  },
  {
   "cell_type": "code",
   "execution_count": null,
   "metadata": {},
   "outputs": [],
   "source": [
    "distancias_especificas = df[df['Month'].isin([4])][['Loyalty Number', 'Year','Distance','Points Accumulated']]\n",
    "\n",
    "# Mostrar los resultados\n",
    "print(distancias_especificas)"
   ]
  },
  {
   "cell_type": "code",
   "execution_count": null,
   "metadata": {},
   "outputs": [],
   "source": [
    "dis_2017 = distancia_ptos_acumulados[distancia_ptos_acumulados['Year'] == 2017]\n",
    "dis_2018 = distancia_ptos_acumulados[distancia_ptos_acumulados['Year'] == 2018]"
   ]
  },
  {
   "cell_type": "code",
   "execution_count": null,
   "metadata": {},
   "outputs": [],
   "source": []
  },
  {
   "cell_type": "code",
   "execution_count": null,
   "metadata": {},
   "outputs": [],
   "source": [
    "# Crear un conjunto de datos para el 2017 y otro para el 2018\n",
    "df_2017 = reservas_por_año_al_mes[reservas_por_año_al_mes['Year'] == 2017]\n",
    "df_2018 = reservas_por_año_al_mes[reservas_por_año_al_mes['Year'] == 2018]"
   ]
  },
  {
   "cell_type": "code",
   "execution_count": null,
   "metadata": {},
   "outputs": [],
   "source": [
    "# voy a usar un Barplot que muestra la relación entre una variable categórica y una variable númerica mediante barras\n",
    "# para que quede más clara la visualización voy a transformar la columna \"Month\" en una variable \"objet\" al numero le voy \n",
    "# añadir el nombre correspondiente usare un diccionario\n",
    "meses = {1: 'Enero', 2: 'Febrero', 3: 'Marzo', 4: 'Abril', \n",
    "    5: 'Mayo', 6: 'Junio', 7: 'Julio', 8: 'Agosto', \n",
    "    9: 'Septiembre', 10: 'Octubre', 11: 'Noviembre', 12: 'Diciembre'}\n",
    "# vamos a transformar (mapear)los numeros en nombre de los meses \n",
    "df_2017['Month'] = df_2017['Month'].map (meses)\n",
    "df_2018['Month'] = df_2018['Month'].map (meses)"
   ]
  },
  {
   "cell_type": "code",
   "execution_count": null,
   "metadata": {},
   "outputs": [],
   "source": []
  },
  {
   "cell_type": "code",
   "execution_count": 126,
   "metadata": {},
   "outputs": [
    {
     "name": "stdout",
     "output_type": "stream",
     "text": [
      "        Loyalty Number  Year  Distance  Points Accumulated\n",
      "166             572345  2018      4769               476.0\n",
      "337             101709  2017      3234               323.0\n",
      "748             466795  2017      3840               384.0\n",
      "773             717250  2018      3840               384.0\n",
      "782             101876  2018      3288               328.0\n",
      "...                ...   ...       ...                 ...\n",
      "405000          188828  2017       292                29.0\n",
      "405323          716393  2017       402                40.0\n",
      "405408          513778  2017      1197               119.0\n",
      "405416          810990  2018      1197               119.0\n",
      "405544          746402  2018       832                83.0\n",
      "\n",
      "[17017 rows x 4 columns]\n"
     ]
    }
   ],
   "source": [
    "distancias_especificas = df[df['Month'].isin([5])][['Loyalty Number', 'Year','Distance','Points Accumulated']]\n",
    "\n",
    "# Mostrar los resultados\n",
    "print(distancias_especificas)"
   ]
  },
  {
   "cell_type": "code",
   "execution_count": null,
   "metadata": {},
   "outputs": [],
   "source": [
    "'Points Redeemed', 'Dollar Cost Points Redeemed'"
   ]
  },
  {
   "cell_type": "code",
   "execution_count": null,
   "metadata": {},
   "outputs": [],
   "source": []
  },
  {
   "cell_type": "code",
   "execution_count": 102,
   "metadata": {},
   "outputs": [
    {
     "name": "stdout",
     "output_type": "stream",
     "text": [
      "      Distance  Points Accumulated\n",
      "28         126               69.00\n",
      "46         154               79.95\n",
      "47         156               91.20\n",
      "49         158               75.00\n",
      "51         160              165.28\n",
      "...        ...                 ...\n",
      "4740      6210              621.00\n",
      "4741      6231             1246.00\n",
      "4742      6240              624.00\n",
      "4743      6262              626.00\n",
      "4744      6293             1258.00\n",
      "\n",
      "[4650 rows x 2 columns]\n"
     ]
    }
   ],
   "source": [
    "# Filtrar los registros donde \"Points Accumulated\" es mayor a 64 en el nuevo DataFrame\n",
    "distancia_ptos_acumulados_filtrado = distancia_ptos_acumulados[distancia_ptos_acumulados['Points Accumulated'] > 64]\n",
    "\n",
    "# Mostrar los registros filtrados\n",
    "print(distancia_ptos_acumulados_filtrado)\n"
   ]
  },
  {
   "cell_type": "code",
   "execution_count": 106,
   "metadata": {},
   "outputs": [
    {
     "name": "stdout",
     "output_type": "stream",
     "text": [
      "      Distance  Points Accumulated\n",
      "4741      6231              1246.0\n",
      "4744      6293              1258.0\n"
     ]
    }
   ],
   "source": [
    "# Filtrar filas con las distancias específicas, por ejemplo, 500 y 1000\n",
    "distancias_especificas = distancia_ptos_acumulados[distancia_ptos_acumulados['Distance'].isin([6231, 6293])]\n",
    "\n",
    "# Mostrar los resultados\n",
    "print(distancias_especificas)"
   ]
  },
  {
   "cell_type": "code",
   "execution_count": 107,
   "metadata": {},
   "outputs": [
    {
     "name": "stdout",
     "output_type": "stream",
     "text": [
      "        Distance  Points Accumulated  Flights Booked  Flights with Companions  \\\n",
      "109089      6231               623.0              20                       11   \n",
      "113306      6293               629.0              20                       11   \n",
      "114816      6231               623.0              20                       11   \n",
      "315678      6293               629.0              20                       11   \n",
      "\n",
      "        Total Flights  \n",
      "109089             31  \n",
      "113306             31  \n",
      "114816             31  \n",
      "315678             31  \n"
     ]
    }
   ],
   "source": [
    "# Filtrar filas con las distancias específicas, por ejemplo, 500 y 1000\n",
    "distancias_especificas = df[df['Distance'].isin([6231, 6293])][['Distance', 'Points Accumulated','Flights Booked',\n",
    "       'Flights with Companions', 'Total Flights']]\n",
    "\n",
    "# Mostrar los resultados\n",
    "print(distancias_especificas)"
   ]
  },
  {
   "cell_type": "code",
   "execution_count": null,
   "metadata": {},
   "outputs": [],
   "source": []
  },
  {
   "cell_type": "code",
   "execution_count": null,
   "metadata": {},
   "outputs": [],
   "source": [
    "df[df['Distance'] > 0][['Distance', 'Points Accumulated']].head(10)"
   ]
  },
  {
   "cell_type": "code",
   "execution_count": 103,
   "metadata": {},
   "outputs": [
    {
     "data": {
      "text/html": [
       "<div>\n",
       "<style scoped>\n",
       "    .dataframe tbody tr th:only-of-type {\n",
       "        vertical-align: middle;\n",
       "    }\n",
       "\n",
       "    .dataframe tbody tr th {\n",
       "        vertical-align: top;\n",
       "    }\n",
       "\n",
       "    .dataframe thead th {\n",
       "        text-align: right;\n",
       "    }\n",
       "</style>\n",
       "<table border=\"1\" class=\"dataframe\">\n",
       "  <thead>\n",
       "    <tr style=\"text-align: right;\">\n",
       "      <th></th>\n",
       "      <th>Loyalty Number</th>\n",
       "      <th>Year</th>\n",
       "      <th>Month</th>\n",
       "      <th>Flights Booked</th>\n",
       "      <th>Flights with Companions</th>\n",
       "      <th>Total Flights</th>\n",
       "      <th>Distance</th>\n",
       "      <th>Points Accumulated</th>\n",
       "      <th>Points Redeemed</th>\n",
       "      <th>Dollar Cost Points Redeemed</th>\n",
       "    </tr>\n",
       "  </thead>\n",
       "  <tbody>\n",
       "    <tr>\n",
       "      <th>0</th>\n",
       "      <td>100018</td>\n",
       "      <td>2017</td>\n",
       "      <td>1</td>\n",
       "      <td>3</td>\n",
       "      <td>0</td>\n",
       "      <td>3</td>\n",
       "      <td>1521</td>\n",
       "      <td>152.0</td>\n",
       "      <td>0</td>\n",
       "      <td>0</td>\n",
       "    </tr>\n",
       "    <tr>\n",
       "      <th>1</th>\n",
       "      <td>100102</td>\n",
       "      <td>2017</td>\n",
       "      <td>1</td>\n",
       "      <td>10</td>\n",
       "      <td>4</td>\n",
       "      <td>14</td>\n",
       "      <td>2030</td>\n",
       "      <td>203.0</td>\n",
       "      <td>0</td>\n",
       "      <td>0</td>\n",
       "    </tr>\n",
       "    <tr>\n",
       "      <th>2</th>\n",
       "      <td>100140</td>\n",
       "      <td>2017</td>\n",
       "      <td>1</td>\n",
       "      <td>6</td>\n",
       "      <td>0</td>\n",
       "      <td>6</td>\n",
       "      <td>1200</td>\n",
       "      <td>120.0</td>\n",
       "      <td>0</td>\n",
       "      <td>0</td>\n",
       "    </tr>\n",
       "    <tr>\n",
       "      <th>10</th>\n",
       "      <td>100550</td>\n",
       "      <td>2017</td>\n",
       "      <td>1</td>\n",
       "      <td>3</td>\n",
       "      <td>0</td>\n",
       "      <td>3</td>\n",
       "      <td>2037</td>\n",
       "      <td>203.0</td>\n",
       "      <td>0</td>\n",
       "      <td>0</td>\n",
       "    </tr>\n",
       "    <tr>\n",
       "      <th>11</th>\n",
       "      <td>863070</td>\n",
       "      <td>2017</td>\n",
       "      <td>9</td>\n",
       "      <td>8</td>\n",
       "      <td>7</td>\n",
       "      <td>15</td>\n",
       "      <td>4245</td>\n",
       "      <td>424.0</td>\n",
       "      <td>341</td>\n",
       "      <td>28</td>\n",
       "    </tr>\n",
       "    <tr>\n",
       "      <th>...</th>\n",
       "      <td>...</td>\n",
       "      <td>...</td>\n",
       "      <td>...</td>\n",
       "      <td>...</td>\n",
       "      <td>...</td>\n",
       "      <td>...</td>\n",
       "      <td>...</td>\n",
       "      <td>...</td>\n",
       "      <td>...</td>\n",
       "      <td>...</td>\n",
       "    </tr>\n",
       "    <tr>\n",
       "      <th>405612</th>\n",
       "      <td>999550</td>\n",
       "      <td>2018</td>\n",
       "      <td>12</td>\n",
       "      <td>15</td>\n",
       "      <td>0</td>\n",
       "      <td>15</td>\n",
       "      <td>2985</td>\n",
       "      <td>298.0</td>\n",
       "      <td>0</td>\n",
       "      <td>0</td>\n",
       "    </tr>\n",
       "    <tr>\n",
       "      <th>405613</th>\n",
       "      <td>999589</td>\n",
       "      <td>2018</td>\n",
       "      <td>12</td>\n",
       "      <td>14</td>\n",
       "      <td>0</td>\n",
       "      <td>14</td>\n",
       "      <td>4690</td>\n",
       "      <td>469.0</td>\n",
       "      <td>0</td>\n",
       "      <td>0</td>\n",
       "    </tr>\n",
       "    <tr>\n",
       "      <th>405614</th>\n",
       "      <td>999631</td>\n",
       "      <td>2018</td>\n",
       "      <td>12</td>\n",
       "      <td>11</td>\n",
       "      <td>1</td>\n",
       "      <td>12</td>\n",
       "      <td>2244</td>\n",
       "      <td>224.0</td>\n",
       "      <td>0</td>\n",
       "      <td>0</td>\n",
       "    </tr>\n",
       "    <tr>\n",
       "      <th>405616</th>\n",
       "      <td>999758</td>\n",
       "      <td>2018</td>\n",
       "      <td>12</td>\n",
       "      <td>1</td>\n",
       "      <td>0</td>\n",
       "      <td>1</td>\n",
       "      <td>896</td>\n",
       "      <td>89.0</td>\n",
       "      <td>0</td>\n",
       "      <td>0</td>\n",
       "    </tr>\n",
       "    <tr>\n",
       "      <th>405621</th>\n",
       "      <td>999940</td>\n",
       "      <td>2018</td>\n",
       "      <td>12</td>\n",
       "      <td>3</td>\n",
       "      <td>0</td>\n",
       "      <td>3</td>\n",
       "      <td>1233</td>\n",
       "      <td>123.0</td>\n",
       "      <td>0</td>\n",
       "      <td>0</td>\n",
       "    </tr>\n",
       "  </tbody>\n",
       "</table>\n",
       "<p>198545 rows × 10 columns</p>\n",
       "</div>"
      ],
      "text/plain": [
       "        Loyalty Number  Year  Month  Flights Booked  Flights with Companions  \\\n",
       "0               100018  2017      1               3                        0   \n",
       "1               100102  2017      1              10                        4   \n",
       "2               100140  2017      1               6                        0   \n",
       "10              100550  2017      1               3                        0   \n",
       "11              863070  2017      9               8                        7   \n",
       "...                ...   ...    ...             ...                      ...   \n",
       "405612          999550  2018     12              15                        0   \n",
       "405613          999589  2018     12              14                        0   \n",
       "405614          999631  2018     12              11                        1   \n",
       "405616          999758  2018     12               1                        0   \n",
       "405621          999940  2018     12               3                        0   \n",
       "\n",
       "        Total Flights  Distance  Points Accumulated  Points Redeemed  \\\n",
       "0                   3      1521               152.0                0   \n",
       "1                  14      2030               203.0                0   \n",
       "2                   6      1200               120.0                0   \n",
       "10                  3      2037               203.0                0   \n",
       "11                 15      4245               424.0              341   \n",
       "...               ...       ...                 ...              ...   \n",
       "405612             15      2985               298.0                0   \n",
       "405613             14      4690               469.0                0   \n",
       "405614             12      2244               224.0                0   \n",
       "405616              1       896                89.0                0   \n",
       "405621              3      1233               123.0                0   \n",
       "\n",
       "        Dollar Cost Points Redeemed  \n",
       "0                                 0  \n",
       "1                                 0  \n",
       "2                                 0  \n",
       "10                                0  \n",
       "11                               28  \n",
       "...                             ...  \n",
       "405612                            0  \n",
       "405613                            0  \n",
       "405614                            0  \n",
       "405616                            0  \n",
       "405621                            0  \n",
       "\n",
       "[198545 rows x 10 columns]"
      ]
     },
     "execution_count": 103,
     "metadata": {},
     "output_type": "execute_result"
    }
   ],
   "source": [
    "# Filtrar los registros donde \"Points Accumulated\" es mayor a 0\n",
    "distancia_ptos_acumulados = df.groupby(['Distance'])['Points Accumulated'].sum().reset_index()\n",
    "distancia_ptos_acumulados_filtrado = df[df['Points Accumulated'] > 64]\n",
    "\n",
    "# Mostrar los registros\n",
    "distancia_ptos_acumulados_filtrado"
   ]
  },
  {
   "cell_type": "code",
   "execution_count": 104,
   "metadata": {},
   "outputs": [
    {
     "name": "stdout",
     "output_type": "stream",
     "text": [
      "      Distance  Points Accumulated\n",
      "4741      6231              1246.0\n",
      "4744      6293              1258.0\n"
     ]
    }
   ],
   "source": [
    "# Filtrar filas con las distancias específicas, por ejemplo, 500 y 1000\n",
    "distancias_especificas = distancia_ptos_acumulados[distancia_ptos_acumulados['Distance'].isin([6231, 6293])]\n",
    "\n",
    "# Mostrar los resultados\n",
    "print(distancias_especificas)\n"
   ]
  },
  {
   "cell_type": "code",
   "execution_count": null,
   "metadata": {},
   "outputs": [],
   "source": []
  },
  {
   "cell_type": "code",
   "execution_count": null,
   "metadata": {},
   "outputs": [],
   "source": [
    "# Filtrar los registros donde \"Points Accumulated\" es mayor a 64\n",
    "distancia_ptos_acumulados_filtrado = df[df['Points Accumulated'] > 64][['Distance', 'Points Accumulated']]\n",
    "\n",
    "# Mostrar los registros filtrados\n",
    "print(distancia_ptos_acumulados_filtrado)"
   ]
  },
  {
   "cell_type": "code",
   "execution_count": null,
   "metadata": {},
   "outputs": [],
   "source": [
    "# Filtrar los registros donde \"Points Accumulated\" es mayor a 0\n",
    "distancia_ptos_cumulados = df.groupby(['Distance'])['Points Accumulated'].sum().reset_index()\n",
    "distancia_ptos_cumulados_filtrado = df[df['Points Accumulated'] > 64]\n",
    "\n",
    "# Encontrar el valor mínimo de \"Points Accumulated\" en este subconjunto\n",
    "min_puntos = distancia_ptos_cumulados_filtrado['Points Accumulated'].min()\n",
    "\n",
    "# Filtrar los registros que tienen ese valor mínimo\n",
    "min_points_imprime = distancia_ptos_cumulados_filtrado[distancia_ptos_cumulados_filtrado['Points Accumulated'] == min_puntos]\n",
    "\n",
    "# Mostrar los registros\n",
    "min_points_imprime"
   ]
  },
  {
   "cell_type": "code",
   "execution_count": null,
   "metadata": {},
   "outputs": [],
   "source": []
  },
  {
   "cell_type": "code",
   "execution_count": null,
   "metadata": {},
   "outputs": [],
   "source": []
  },
  {
   "cell_type": "code",
   "execution_count": null,
   "metadata": {},
   "outputs": [],
   "source": []
  },
  {
   "cell_type": "code",
   "execution_count": null,
   "metadata": {},
   "outputs": [],
   "source": []
  },
  {
   "cell_type": "code",
   "execution_count": null,
   "metadata": {},
   "outputs": [],
   "source": []
  },
  {
   "cell_type": "code",
   "execution_count": null,
   "metadata": {},
   "outputs": [],
   "source": [
    "# voy a revisar este df por rangos \n",
    "#distancia_ptos_cumulados= df[df['Distance'] < 1000][['Distance', 'Points Accumulated']].head(6)"
   ]
  },
  {
   "cell_type": "code",
   "execution_count": null,
   "metadata": {},
   "outputs": [],
   "source": [
    "# Filtrar los registros donde \"Points Accumulated\" es mayor a 0\n",
    "df_filtered = df[df['Points Accumulated'] > 64]\n",
    "\n",
    "# Encontrar el valor mínimo de \"Points Accumulated\" en este subconjunto\n",
    "min_points = df_filtered['Points Accumulated'].min()\n",
    "\n",
    "# Filtrar los registros que tienen ese valor mínimo\n",
    "min_points_records = df_filtered[df_filtered['Points Accumulated'] == min_points]\n",
    "\n",
    "# Mostrar los registros\n",
    "min_points_records"
   ]
  },
  {
   "cell_type": "code",
   "execution_count": null,
   "metadata": {},
   "outputs": [],
   "source": []
  },
  {
   "cell_type": "code",
   "execution_count": null,
   "metadata": {},
   "outputs": [],
   "source": [
    "#NO VALEEEEE\n",
    "\n",
    "# voy a probar como ver la cantidad de distancia con los puntos acumulados y voy hacer un df \n",
    "distancia_ptos_cumulados = df.groupby(['Distance'])['Points Accumulated'].sum().reset_index()\n",
    "distancia_ptos_cumulados= df[df.groupby(['Distance'])['Points Accumulated'].sum().reset_index() < [0,499][['Distance', 'Points Accumulated']]].head(6)\n",
    "\n",
    "# Compruebo los primeros resultados para verificar \n",
    "print(distancia_ptos_cumulados.head(24))"
   ]
  },
  {
   "cell_type": "code",
   "execution_count": 62,
   "metadata": {},
   "outputs": [
    {
     "data": {
      "text/html": [
       "<div>\n",
       "<style scoped>\n",
       "    .dataframe tbody tr th:only-of-type {\n",
       "        vertical-align: middle;\n",
       "    }\n",
       "\n",
       "    .dataframe tbody tr th {\n",
       "        vertical-align: top;\n",
       "    }\n",
       "\n",
       "    .dataframe thead th {\n",
       "        text-align: right;\n",
       "    }\n",
       "</style>\n",
       "<table border=\"1\" class=\"dataframe\">\n",
       "  <thead>\n",
       "    <tr style=\"text-align: right;\">\n",
       "      <th></th>\n",
       "      <th>Loyalty Number</th>\n",
       "      <th>Year</th>\n",
       "      <th>Month</th>\n",
       "      <th>Flights Booked</th>\n",
       "      <th>Flights with Companions</th>\n",
       "      <th>Total Flights</th>\n",
       "      <th>Distance</th>\n",
       "      <th>Points Accumulated</th>\n",
       "      <th>Points Redeemed</th>\n",
       "      <th>Dollar Cost Points Redeemed</th>\n",
       "    </tr>\n",
       "  </thead>\n",
       "  <tbody>\n",
       "    <tr>\n",
       "      <th>220873</th>\n",
       "      <td>661451</td>\n",
       "      <td>2018</td>\n",
       "      <td>2</td>\n",
       "      <td>3</td>\n",
       "      <td>3</td>\n",
       "      <td>6</td>\n",
       "      <td>432</td>\n",
       "      <td>64.5</td>\n",
       "      <td>0</td>\n",
       "      <td>0</td>\n",
       "    </tr>\n",
       "    <tr>\n",
       "      <th>221010</th>\n",
       "      <td>874780</td>\n",
       "      <td>2018</td>\n",
       "      <td>4</td>\n",
       "      <td>4</td>\n",
       "      <td>2</td>\n",
       "      <td>6</td>\n",
       "      <td>432</td>\n",
       "      <td>64.5</td>\n",
       "      <td>0</td>\n",
       "      <td>0</td>\n",
       "    </tr>\n",
       "    <tr>\n",
       "      <th>221089</th>\n",
       "      <td>566182</td>\n",
       "      <td>2018</td>\n",
       "      <td>2</td>\n",
       "      <td>6</td>\n",
       "      <td>0</td>\n",
       "      <td>6</td>\n",
       "      <td>438</td>\n",
       "      <td>64.5</td>\n",
       "      <td>0</td>\n",
       "      <td>0</td>\n",
       "    </tr>\n",
       "    <tr>\n",
       "      <th>222731</th>\n",
       "      <td>822555</td>\n",
       "      <td>2018</td>\n",
       "      <td>2</td>\n",
       "      <td>5</td>\n",
       "      <td>0</td>\n",
       "      <td>5</td>\n",
       "      <td>435</td>\n",
       "      <td>64.5</td>\n",
       "      <td>0</td>\n",
       "      <td>0</td>\n",
       "    </tr>\n",
       "    <tr>\n",
       "      <th>224116</th>\n",
       "      <td>419748</td>\n",
       "      <td>2018</td>\n",
       "      <td>2</td>\n",
       "      <td>4</td>\n",
       "      <td>0</td>\n",
       "      <td>4</td>\n",
       "      <td>432</td>\n",
       "      <td>64.5</td>\n",
       "      <td>0</td>\n",
       "      <td>0</td>\n",
       "    </tr>\n",
       "    <tr>\n",
       "      <th>224222</th>\n",
       "      <td>394979</td>\n",
       "      <td>2018</td>\n",
       "      <td>3</td>\n",
       "      <td>4</td>\n",
       "      <td>0</td>\n",
       "      <td>4</td>\n",
       "      <td>436</td>\n",
       "      <td>64.5</td>\n",
       "      <td>0</td>\n",
       "      <td>0</td>\n",
       "    </tr>\n",
       "    <tr>\n",
       "      <th>225734</th>\n",
       "      <td>746677</td>\n",
       "      <td>2018</td>\n",
       "      <td>4</td>\n",
       "      <td>3</td>\n",
       "      <td>0</td>\n",
       "      <td>3</td>\n",
       "      <td>432</td>\n",
       "      <td>64.5</td>\n",
       "      <td>0</td>\n",
       "      <td>0</td>\n",
       "    </tr>\n",
       "    <tr>\n",
       "      <th>225801</th>\n",
       "      <td>545534</td>\n",
       "      <td>2018</td>\n",
       "      <td>3</td>\n",
       "      <td>3</td>\n",
       "      <td>0</td>\n",
       "      <td>3</td>\n",
       "      <td>435</td>\n",
       "      <td>64.5</td>\n",
       "      <td>0</td>\n",
       "      <td>0</td>\n",
       "    </tr>\n",
       "    <tr>\n",
       "      <th>364784</th>\n",
       "      <td>910492</td>\n",
       "      <td>2018</td>\n",
       "      <td>2</td>\n",
       "      <td>2</td>\n",
       "      <td>2</td>\n",
       "      <td>4</td>\n",
       "      <td>432</td>\n",
       "      <td>64.5</td>\n",
       "      <td>434</td>\n",
       "      <td>35</td>\n",
       "    </tr>\n",
       "    <tr>\n",
       "      <th>384967</th>\n",
       "      <td>829505</td>\n",
       "      <td>2018</td>\n",
       "      <td>3</td>\n",
       "      <td>1</td>\n",
       "      <td>1</td>\n",
       "      <td>2</td>\n",
       "      <td>436</td>\n",
       "      <td>64.5</td>\n",
       "      <td>659</td>\n",
       "      <td>53</td>\n",
       "    </tr>\n",
       "    <tr>\n",
       "      <th>403090</th>\n",
       "      <td>777561</td>\n",
       "      <td>2018</td>\n",
       "      <td>3</td>\n",
       "      <td>3</td>\n",
       "      <td>3</td>\n",
       "      <td>6</td>\n",
       "      <td>438</td>\n",
       "      <td>64.5</td>\n",
       "      <td>548</td>\n",
       "      <td>44</td>\n",
       "    </tr>\n",
       "    <tr>\n",
       "      <th>403686</th>\n",
       "      <td>577795</td>\n",
       "      <td>2018</td>\n",
       "      <td>3</td>\n",
       "      <td>3</td>\n",
       "      <td>3</td>\n",
       "      <td>6</td>\n",
       "      <td>438</td>\n",
       "      <td>64.5</td>\n",
       "      <td>630</td>\n",
       "      <td>51</td>\n",
       "    </tr>\n",
       "  </tbody>\n",
       "</table>\n",
       "</div>"
      ],
      "text/plain": [
       "        Loyalty Number  Year  Month  Flights Booked  Flights with Companions  \\\n",
       "220873          661451  2018      2               3                        3   \n",
       "221010          874780  2018      4               4                        2   \n",
       "221089          566182  2018      2               6                        0   \n",
       "222731          822555  2018      2               5                        0   \n",
       "224116          419748  2018      2               4                        0   \n",
       "224222          394979  2018      3               4                        0   \n",
       "225734          746677  2018      4               3                        0   \n",
       "225801          545534  2018      3               3                        0   \n",
       "364784          910492  2018      2               2                        2   \n",
       "384967          829505  2018      3               1                        1   \n",
       "403090          777561  2018      3               3                        3   \n",
       "403686          577795  2018      3               3                        3   \n",
       "\n",
       "        Total Flights  Distance  Points Accumulated  Points Redeemed  \\\n",
       "220873              6       432                64.5                0   \n",
       "221010              6       432                64.5                0   \n",
       "221089              6       438                64.5                0   \n",
       "222731              5       435                64.5                0   \n",
       "224116              4       432                64.5                0   \n",
       "224222              4       436                64.5                0   \n",
       "225734              3       432                64.5                0   \n",
       "225801              3       435                64.5                0   \n",
       "364784              4       432                64.5              434   \n",
       "384967              2       436                64.5              659   \n",
       "403090              6       438                64.5              548   \n",
       "403686              6       438                64.5              630   \n",
       "\n",
       "        Dollar Cost Points Redeemed  \n",
       "220873                            0  \n",
       "221010                            0  \n",
       "221089                            0  \n",
       "222731                            0  \n",
       "224116                            0  \n",
       "224222                            0  \n",
       "225734                            0  \n",
       "225801                            0  \n",
       "364784                           35  \n",
       "384967                           53  \n",
       "403090                           44  \n",
       "403686                           51  "
      ]
     },
     "execution_count": 62,
     "metadata": {},
     "output_type": "execute_result"
    }
   ],
   "source": [
    "## REVISAR ESTO SON NOTAS \n",
    "\n",
    "# Filtrar los registros donde \"Points Accumulated\" es mayor a 0\n",
    "df_filtered = df[df['Points Accumulated'] > 64]\n",
    "\n",
    "# Encontrar el valor mínimo de \"Points Accumulated\" en este subconjunto\n",
    "min_points = df_filtered['Points Accumulated'].min()\n",
    "\n",
    "# Filtrar los registros que tienen ese valor mínimo\n",
    "min_points_records = df_filtered[df_filtered['Points Accumulated'] == min_points]\n",
    "\n",
    "# Mostrar los registros\n",
    "min_points_records"
   ]
  },
  {
   "cell_type": "code",
   "execution_count": 70,
   "metadata": {},
   "outputs": [
    {
     "name": "stdout",
     "output_type": "stream",
     "text": [
      "  Distance Range  Points Accumulated\n",
      "0           0-99              175.41\n",
      "1        100-499           195896.25\n",
      "2        500-999          1610231.03\n",
      "3      1000-2000          9330896.33\n"
     ]
    }
   ],
   "source": [
    "# Crear rangos para la columna 'Distance'\n",
    "bins = [0, 99, 499, 999, 2000]\n",
    "labels = ['0-99', '100-499', '500-999', '1000-2000']\n",
    "\n",
    "# Asignar cada distancia a un rango\n",
    "df['Distance Range'] = pd.cut(df['Distance'], bins=bins, labels=labels, right=False)\n",
    "\n",
    "# Agrupar por el rango de distancia y sumar los puntos acumulados\n",
    "distancia_ptos_cumulados = df.groupby('Distance Range')['Points Accumulated'].sum().reset_index()\n",
    "\n",
    "# Ver los primeros resultados\n",
    "print(distancia_ptos_cumulados.head())\n"
   ]
  },
  {
   "cell_type": "code",
   "execution_count": 67,
   "metadata": {},
   "outputs": [
    {
     "data": {
      "text/html": [
       "<div>\n",
       "<style scoped>\n",
       "    .dataframe tbody tr th:only-of-type {\n",
       "        vertical-align: middle;\n",
       "    }\n",
       "\n",
       "    .dataframe tbody tr th {\n",
       "        vertical-align: top;\n",
       "    }\n",
       "\n",
       "    .dataframe thead th {\n",
       "        text-align: right;\n",
       "    }\n",
       "</style>\n",
       "<table border=\"1\" class=\"dataframe\">\n",
       "  <thead>\n",
       "    <tr style=\"text-align: right;\">\n",
       "      <th></th>\n",
       "      <th>Loyalty Number</th>\n",
       "      <th>Year</th>\n",
       "      <th>Month</th>\n",
       "      <th>Flights Booked</th>\n",
       "      <th>Flights with Companions</th>\n",
       "      <th>Total Flights</th>\n",
       "      <th>Distance</th>\n",
       "      <th>Points Accumulated</th>\n",
       "      <th>Points Redeemed</th>\n",
       "      <th>Dollar Cost Points Redeemed</th>\n",
       "    </tr>\n",
       "  </thead>\n",
       "  <tbody>\n",
       "    <tr>\n",
       "      <th>8302</th>\n",
       "      <td>543285</td>\n",
       "      <td>2017</td>\n",
       "      <td>1</td>\n",
       "      <td>1</td>\n",
       "      <td>0</td>\n",
       "      <td>1</td>\n",
       "      <td>91</td>\n",
       "      <td>9.0</td>\n",
       "      <td>0</td>\n",
       "      <td>0</td>\n",
       "    </tr>\n",
       "    <tr>\n",
       "      <th>18647</th>\n",
       "      <td>194482</td>\n",
       "      <td>2017</td>\n",
       "      <td>2</td>\n",
       "      <td>1</td>\n",
       "      <td>0</td>\n",
       "      <td>1</td>\n",
       "      <td>94</td>\n",
       "      <td>9.0</td>\n",
       "      <td>0</td>\n",
       "      <td>0</td>\n",
       "    </tr>\n",
       "    <tr>\n",
       "      <th>23607</th>\n",
       "      <td>458614</td>\n",
       "      <td>2017</td>\n",
       "      <td>2</td>\n",
       "      <td>1</td>\n",
       "      <td>0</td>\n",
       "      <td>1</td>\n",
       "      <td>90</td>\n",
       "      <td>9.0</td>\n",
       "      <td>0</td>\n",
       "      <td>0</td>\n",
       "    </tr>\n",
       "    <tr>\n",
       "      <th>26561</th>\n",
       "      <td>614000</td>\n",
       "      <td>2017</td>\n",
       "      <td>2</td>\n",
       "      <td>1</td>\n",
       "      <td>0</td>\n",
       "      <td>1</td>\n",
       "      <td>91</td>\n",
       "      <td>9.0</td>\n",
       "      <td>0</td>\n",
       "      <td>0</td>\n",
       "    </tr>\n",
       "    <tr>\n",
       "      <th>26857</th>\n",
       "      <td>628844</td>\n",
       "      <td>2017</td>\n",
       "      <td>2</td>\n",
       "      <td>1</td>\n",
       "      <td>0</td>\n",
       "      <td>1</td>\n",
       "      <td>97</td>\n",
       "      <td>9.0</td>\n",
       "      <td>0</td>\n",
       "      <td>0</td>\n",
       "    </tr>\n",
       "    <tr>\n",
       "      <th>63085</th>\n",
       "      <td>756646</td>\n",
       "      <td>2017</td>\n",
       "      <td>4</td>\n",
       "      <td>1</td>\n",
       "      <td>0</td>\n",
       "      <td>1</td>\n",
       "      <td>95</td>\n",
       "      <td>9.0</td>\n",
       "      <td>0</td>\n",
       "      <td>0</td>\n",
       "    </tr>\n",
       "    <tr>\n",
       "      <th>136884</th>\n",
       "      <td>190561</td>\n",
       "      <td>2017</td>\n",
       "      <td>9</td>\n",
       "      <td>1</td>\n",
       "      <td>0</td>\n",
       "      <td>1</td>\n",
       "      <td>98</td>\n",
       "      <td>9.0</td>\n",
       "      <td>0</td>\n",
       "      <td>0</td>\n",
       "    </tr>\n",
       "    <tr>\n",
       "      <th>173691</th>\n",
       "      <td>349838</td>\n",
       "      <td>2017</td>\n",
       "      <td>11</td>\n",
       "      <td>1</td>\n",
       "      <td>0</td>\n",
       "      <td>1</td>\n",
       "      <td>92</td>\n",
       "      <td>9.0</td>\n",
       "      <td>0</td>\n",
       "      <td>0</td>\n",
       "    </tr>\n",
       "    <tr>\n",
       "      <th>177513</th>\n",
       "      <td>553453</td>\n",
       "      <td>2017</td>\n",
       "      <td>11</td>\n",
       "      <td>1</td>\n",
       "      <td>0</td>\n",
       "      <td>1</td>\n",
       "      <td>94</td>\n",
       "      <td>9.0</td>\n",
       "      <td>0</td>\n",
       "      <td>0</td>\n",
       "    </tr>\n",
       "    <tr>\n",
       "      <th>183196</th>\n",
       "      <td>853540</td>\n",
       "      <td>2017</td>\n",
       "      <td>11</td>\n",
       "      <td>1</td>\n",
       "      <td>0</td>\n",
       "      <td>1</td>\n",
       "      <td>96</td>\n",
       "      <td>9.0</td>\n",
       "      <td>0</td>\n",
       "      <td>0</td>\n",
       "    </tr>\n",
       "    <tr>\n",
       "      <th>212131</th>\n",
       "      <td>596818</td>\n",
       "      <td>2018</td>\n",
       "      <td>1</td>\n",
       "      <td>1</td>\n",
       "      <td>0</td>\n",
       "      <td>1</td>\n",
       "      <td>92</td>\n",
       "      <td>9.0</td>\n",
       "      <td>0</td>\n",
       "      <td>0</td>\n",
       "    </tr>\n",
       "    <tr>\n",
       "      <th>351877</th>\n",
       "      <td>835973</td>\n",
       "      <td>2018</td>\n",
       "      <td>9</td>\n",
       "      <td>1</td>\n",
       "      <td>0</td>\n",
       "      <td>1</td>\n",
       "      <td>98</td>\n",
       "      <td>9.0</td>\n",
       "      <td>0</td>\n",
       "      <td>0</td>\n",
       "    </tr>\n",
       "    <tr>\n",
       "      <th>372205</th>\n",
       "      <td>120554</td>\n",
       "      <td>2018</td>\n",
       "      <td>11</td>\n",
       "      <td>1</td>\n",
       "      <td>0</td>\n",
       "      <td>1</td>\n",
       "      <td>98</td>\n",
       "      <td>9.0</td>\n",
       "      <td>0</td>\n",
       "      <td>0</td>\n",
       "    </tr>\n",
       "    <tr>\n",
       "      <th>386608</th>\n",
       "      <td>885497</td>\n",
       "      <td>2018</td>\n",
       "      <td>11</td>\n",
       "      <td>1</td>\n",
       "      <td>0</td>\n",
       "      <td>1</td>\n",
       "      <td>96</td>\n",
       "      <td>9.0</td>\n",
       "      <td>0</td>\n",
       "      <td>0</td>\n",
       "    </tr>\n",
       "    <tr>\n",
       "      <th>388264</th>\n",
       "      <td>974209</td>\n",
       "      <td>2018</td>\n",
       "      <td>11</td>\n",
       "      <td>1</td>\n",
       "      <td>0</td>\n",
       "      <td>1</td>\n",
       "      <td>94</td>\n",
       "      <td>9.0</td>\n",
       "      <td>0</td>\n",
       "      <td>0</td>\n",
       "    </tr>\n",
       "  </tbody>\n",
       "</table>\n",
       "</div>"
      ],
      "text/plain": [
       "        Loyalty Number  Year  Month  Flights Booked  Flights with Companions  \\\n",
       "8302            543285  2017      1               1                        0   \n",
       "18647           194482  2017      2               1                        0   \n",
       "23607           458614  2017      2               1                        0   \n",
       "26561           614000  2017      2               1                        0   \n",
       "26857           628844  2017      2               1                        0   \n",
       "63085           756646  2017      4               1                        0   \n",
       "136884          190561  2017      9               1                        0   \n",
       "173691          349838  2017     11               1                        0   \n",
       "177513          553453  2017     11               1                        0   \n",
       "183196          853540  2017     11               1                        0   \n",
       "212131          596818  2018      1               1                        0   \n",
       "351877          835973  2018      9               1                        0   \n",
       "372205          120554  2018     11               1                        0   \n",
       "386608          885497  2018     11               1                        0   \n",
       "388264          974209  2018     11               1                        0   \n",
       "\n",
       "        Total Flights  Distance  Points Accumulated  Points Redeemed  \\\n",
       "8302                1        91                 9.0                0   \n",
       "18647               1        94                 9.0                0   \n",
       "23607               1        90                 9.0                0   \n",
       "26561               1        91                 9.0                0   \n",
       "26857               1        97                 9.0                0   \n",
       "63085               1        95                 9.0                0   \n",
       "136884              1        98                 9.0                0   \n",
       "173691              1        92                 9.0                0   \n",
       "177513              1        94                 9.0                0   \n",
       "183196              1        96                 9.0                0   \n",
       "212131              1        92                 9.0                0   \n",
       "351877              1        98                 9.0                0   \n",
       "372205              1        98                 9.0                0   \n",
       "386608              1        96                 9.0                0   \n",
       "388264              1        94                 9.0                0   \n",
       "\n",
       "        Dollar Cost Points Redeemed  \n",
       "8302                              0  \n",
       "18647                             0  \n",
       "23607                             0  \n",
       "26561                             0  \n",
       "26857                             0  \n",
       "63085                             0  \n",
       "136884                            0  \n",
       "173691                            0  \n",
       "177513                            0  \n",
       "183196                            0  \n",
       "212131                            0  \n",
       "351877                            0  \n",
       "372205                            0  \n",
       "386608                            0  \n",
       "388264                            0  "
      ]
     },
     "execution_count": 67,
     "metadata": {},
     "output_type": "execute_result"
    }
   ],
   "source": [
    "## REVISAR ESTO SON NOTAS \n",
    "\n",
    "# Filtrar los registros donde \"Points Accumulated\" es mayor a 0\n",
    "df_filtered = df[df['Points Accumulated'] > 2]\n",
    "\n",
    "# Encontrar el valor mínimo de \"Points Accumulated\" en este subconjunto\n",
    "min_points = df_filtered['Points Accumulated'].min()\n",
    "\n",
    "# Filtrar los registros que tienen ese valor mínimo\n",
    "min_points_records = df_filtered[df_filtered['Points Accumulated'] == min_points]\n",
    "\n",
    "# Mostrar los registros\n",
    "min_points_records"
   ]
  },
  {
   "cell_type": "code",
   "execution_count": 64,
   "metadata": {},
   "outputs": [
    {
     "data": {
      "text/html": [
       "<div>\n",
       "<style scoped>\n",
       "    .dataframe tbody tr th:only-of-type {\n",
       "        vertical-align: middle;\n",
       "    }\n",
       "\n",
       "    .dataframe tbody tr th {\n",
       "        vertical-align: top;\n",
       "    }\n",
       "\n",
       "    .dataframe thead th {\n",
       "        text-align: right;\n",
       "    }\n",
       "</style>\n",
       "<table border=\"1\" class=\"dataframe\">\n",
       "  <thead>\n",
       "    <tr style=\"text-align: right;\">\n",
       "      <th></th>\n",
       "      <th>Loyalty Number</th>\n",
       "      <th>Year</th>\n",
       "      <th>Month</th>\n",
       "      <th>Flights Booked</th>\n",
       "      <th>Flights with Companions</th>\n",
       "      <th>Total Flights</th>\n",
       "      <th>Distance</th>\n",
       "      <th>Points Accumulated</th>\n",
       "      <th>Points Redeemed</th>\n",
       "      <th>Dollar Cost Points Redeemed</th>\n",
       "    </tr>\n",
       "  </thead>\n",
       "  <tbody>\n",
       "  </tbody>\n",
       "</table>\n",
       "</div>"
      ],
      "text/plain": [
       "Empty DataFrame\n",
       "Columns: [Loyalty Number, Year, Month, Flights Booked, Flights with Companions, Total Flights, Distance, Points Accumulated, Points Redeemed, Dollar Cost Points Redeemed]\n",
       "Index: []"
      ]
     },
     "execution_count": 64,
     "metadata": {},
     "output_type": "execute_result"
    }
   ],
   "source": [
    "# Filtrar los registros donde \"Points Accumulated\" es mayor a 0\n",
    "df_filtered = df[df['Points Accumulated'] < 1]\n",
    "\n",
    "# Encontrar el valor mínimo de \"Points Accumulated\" en este subconjunto\n",
    "max_points = df_filtered['Points Accumulated'].max()\n",
    "\n",
    "# Filtrar los registros que tienen ese valor mínimo\n",
    "max_points_records = df_filtered[df_filtered['Points Accumulated'] == max_points]\n",
    "\n",
    "# Mostrar los registros\n",
    "max_points_records"
   ]
  },
  {
   "cell_type": "code",
   "execution_count": null,
   "metadata": {},
   "outputs": [],
   "source": []
  },
  {
   "cell_type": "code",
   "execution_count": null,
   "metadata": {},
   "outputs": [],
   "source": []
  },
  {
   "cell_type": "code",
   "execution_count": null,
   "metadata": {},
   "outputs": [],
   "source": []
  },
  {
   "cell_type": "code",
   "execution_count": null,
   "metadata": {},
   "outputs": [],
   "source": []
  },
  {
   "cell_type": "code",
   "execution_count": null,
   "metadata": {},
   "outputs": [],
   "source": []
  },
  {
   "cell_type": "code",
   "execution_count": null,
   "metadata": {},
   "outputs": [],
   "source": []
  },
  {
   "cell_type": "markdown",
   "metadata": {},
   "source": []
  },
  {
   "cell_type": "code",
   "execution_count": null,
   "metadata": {},
   "outputs": [],
   "source": []
  },
  {
   "cell_type": "code",
   "execution_count": null,
   "metadata": {},
   "outputs": [],
   "source": []
  },
  {
   "cell_type": "code",
   "execution_count": null,
   "metadata": {},
   "outputs": [],
   "source": []
  },
  {
   "cell_type": "code",
   "execution_count": null,
   "metadata": {},
   "outputs": [],
   "source": []
  }
 ],
 "metadata": {
  "kernelspec": {
   "display_name": "base",
   "language": "python",
   "name": "python3"
  },
  "language_info": {
   "codemirror_mode": {
    "name": "ipython",
    "version": 3
   },
   "file_extension": ".py",
   "mimetype": "text/x-python",
   "name": "python",
   "nbconvert_exporter": "python",
   "pygments_lexer": "ipython3",
   "version": "3.9.7"
  }
 },
 "nbformat": 4,
 "nbformat_minor": 2
}
