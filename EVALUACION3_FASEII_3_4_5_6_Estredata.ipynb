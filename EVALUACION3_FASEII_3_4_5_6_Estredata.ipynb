{
 "cells": [
  {
   "cell_type": "code",
   "execution_count": 2,
   "metadata": {},
   "outputs": [],
   "source": [
    "# importamos las librerías que necesitamos\n",
    "\n",
    "# Tratamiento de datos\n",
    "# -----------------------------------------------------------------------\n",
    "import pandas as pd\n",
    "import numpy as np\n",
    "\n",
    "# Visualización\n",
    "# ------------------------------------------------------------------------------\n",
    "import matplotlib.pyplot as plt\n",
    "import seaborn as sns\n",
    "\n",
    "# Evaluar linealidad de las relaciones entre las variables\n",
    "# y la distribución de las variables\n",
    "# ------------------------------------------------------------------------------\n",
    "import scipy.stats as stats\n",
    "from scipy.stats import chi2_contingency, ttest_ind\n",
    "\n",
    "# Configuración\n",
    "# -----------------------------------------------------------------------\n",
    "pd.set_option('display.max_columns', None) # para poder visualizar todas las columnas de los DataFrames\n",
    "\n",
    "# Gestión de los warnings\n",
    "# -----------------------------------------------------------------------\n",
    "import warnings\n",
    "warnings.filterwarnings(\"ignore\")"
   ]
  },
  {
   "cell_type": "code",
   "execution_count": 3,
   "metadata": {},
   "outputs": [
    {
     "data": {
      "text/html": [
       "<div>\n",
       "<style scoped>\n",
       "    .dataframe tbody tr th:only-of-type {\n",
       "        vertical-align: middle;\n",
       "    }\n",
       "\n",
       "    .dataframe tbody tr th {\n",
       "        vertical-align: top;\n",
       "    }\n",
       "\n",
       "    .dataframe thead th {\n",
       "        text-align: right;\n",
       "    }\n",
       "</style>\n",
       "<table border=\"1\" class=\"dataframe\">\n",
       "  <thead>\n",
       "    <tr style=\"text-align: right;\">\n",
       "      <th></th>\n",
       "      <th>Loyalty Number</th>\n",
       "      <th>Country</th>\n",
       "      <th>Province</th>\n",
       "      <th>City</th>\n",
       "      <th>Postal Code</th>\n",
       "      <th>Gender</th>\n",
       "      <th>Education</th>\n",
       "      <th>Salary</th>\n",
       "      <th>Marital Status</th>\n",
       "      <th>Loyalty Card</th>\n",
       "      <th>CLV</th>\n",
       "      <th>Enrollment Type</th>\n",
       "      <th>Enrollment Year</th>\n",
       "      <th>Enrollment Month</th>\n",
       "      <th>Cancellation Year</th>\n",
       "      <th>Cancellation Month</th>\n",
       "    </tr>\n",
       "  </thead>\n",
       "  <tbody>\n",
       "    <tr>\n",
       "      <th>0</th>\n",
       "      <td>480934</td>\n",
       "      <td>Canada</td>\n",
       "      <td>Ontario</td>\n",
       "      <td>Toronto</td>\n",
       "      <td>M2Z 4K1</td>\n",
       "      <td>Female</td>\n",
       "      <td>Bachelor</td>\n",
       "      <td>83236.0</td>\n",
       "      <td>Married</td>\n",
       "      <td>Star</td>\n",
       "      <td>3839.14</td>\n",
       "      <td>Standard</td>\n",
       "      <td>2016</td>\n",
       "      <td>2</td>\n",
       "      <td>NaN</td>\n",
       "      <td>NaN</td>\n",
       "    </tr>\n",
       "    <tr>\n",
       "      <th>1</th>\n",
       "      <td>549612</td>\n",
       "      <td>Canada</td>\n",
       "      <td>Alberta</td>\n",
       "      <td>Edmonton</td>\n",
       "      <td>T3G 6Y6</td>\n",
       "      <td>Male</td>\n",
       "      <td>College</td>\n",
       "      <td>NaN</td>\n",
       "      <td>Divorced</td>\n",
       "      <td>Star</td>\n",
       "      <td>3839.61</td>\n",
       "      <td>Standard</td>\n",
       "      <td>2016</td>\n",
       "      <td>3</td>\n",
       "      <td>NaN</td>\n",
       "      <td>NaN</td>\n",
       "    </tr>\n",
       "    <tr>\n",
       "      <th>2</th>\n",
       "      <td>429460</td>\n",
       "      <td>Canada</td>\n",
       "      <td>British Columbia</td>\n",
       "      <td>Vancouver</td>\n",
       "      <td>V6E 3D9</td>\n",
       "      <td>Male</td>\n",
       "      <td>College</td>\n",
       "      <td>NaN</td>\n",
       "      <td>Single</td>\n",
       "      <td>Star</td>\n",
       "      <td>3839.75</td>\n",
       "      <td>Standard</td>\n",
       "      <td>2014</td>\n",
       "      <td>7</td>\n",
       "      <td>2018.0</td>\n",
       "      <td>1.0</td>\n",
       "    </tr>\n",
       "    <tr>\n",
       "      <th>3</th>\n",
       "      <td>608370</td>\n",
       "      <td>Canada</td>\n",
       "      <td>Ontario</td>\n",
       "      <td>Toronto</td>\n",
       "      <td>P1W 1K4</td>\n",
       "      <td>Male</td>\n",
       "      <td>College</td>\n",
       "      <td>NaN</td>\n",
       "      <td>Single</td>\n",
       "      <td>Star</td>\n",
       "      <td>3839.75</td>\n",
       "      <td>Standard</td>\n",
       "      <td>2013</td>\n",
       "      <td>2</td>\n",
       "      <td>NaN</td>\n",
       "      <td>NaN</td>\n",
       "    </tr>\n",
       "    <tr>\n",
       "      <th>4</th>\n",
       "      <td>530508</td>\n",
       "      <td>Canada</td>\n",
       "      <td>Quebec</td>\n",
       "      <td>Hull</td>\n",
       "      <td>J8Y 3Z5</td>\n",
       "      <td>Male</td>\n",
       "      <td>Bachelor</td>\n",
       "      <td>103495.0</td>\n",
       "      <td>Married</td>\n",
       "      <td>Star</td>\n",
       "      <td>3842.79</td>\n",
       "      <td>Standard</td>\n",
       "      <td>2014</td>\n",
       "      <td>10</td>\n",
       "      <td>NaN</td>\n",
       "      <td>NaN</td>\n",
       "    </tr>\n",
       "  </tbody>\n",
       "</table>\n",
       "</div>"
      ],
      "text/plain": [
       "   Loyalty Number Country          Province       City Postal Code  Gender  \\\n",
       "0          480934  Canada           Ontario    Toronto     M2Z 4K1  Female   \n",
       "1          549612  Canada           Alberta   Edmonton     T3G 6Y6    Male   \n",
       "2          429460  Canada  British Columbia  Vancouver     V6E 3D9    Male   \n",
       "3          608370  Canada           Ontario    Toronto     P1W 1K4    Male   \n",
       "4          530508  Canada            Quebec       Hull     J8Y 3Z5    Male   \n",
       "\n",
       "  Education    Salary Marital Status Loyalty Card      CLV Enrollment Type  \\\n",
       "0  Bachelor   83236.0        Married         Star  3839.14        Standard   \n",
       "1   College       NaN       Divorced         Star  3839.61        Standard   \n",
       "2   College       NaN         Single         Star  3839.75        Standard   \n",
       "3   College       NaN         Single         Star  3839.75        Standard   \n",
       "4  Bachelor  103495.0        Married         Star  3842.79        Standard   \n",
       "\n",
       "   Enrollment Year  Enrollment Month  Cancellation Year  Cancellation Month  \n",
       "0             2016                 2                NaN                 NaN  \n",
       "1             2016                 3                NaN                 NaN  \n",
       "2             2014                 7             2018.0                 1.0  \n",
       "3             2013                 2                NaN                 NaN  \n",
       "4             2014                10                NaN                 NaN  "
      ]
     },
     "execution_count": 3,
     "metadata": {},
     "output_type": "execute_result"
    }
   ],
   "source": [
    "# cargar el ARCHIVO 2 Historial de fidelización del cliente\n",
    "\n",
    "df2 = pd.read_csv(\"Customer Loyalty History.csv\")\n",
    "df2.head(5)"
   ]
  },
  {
   "cell_type": "code",
   "execution_count": 4,
   "metadata": {},
   "outputs": [
    {
     "data": {
      "text/html": [
       "<div>\n",
       "<style scoped>\n",
       "    .dataframe tbody tr th:only-of-type {\n",
       "        vertical-align: middle;\n",
       "    }\n",
       "\n",
       "    .dataframe tbody tr th {\n",
       "        vertical-align: top;\n",
       "    }\n",
       "\n",
       "    .dataframe thead th {\n",
       "        text-align: right;\n",
       "    }\n",
       "</style>\n",
       "<table border=\"1\" class=\"dataframe\">\n",
       "  <thead>\n",
       "    <tr style=\"text-align: right;\">\n",
       "      <th></th>\n",
       "      <th>Loyalty Number</th>\n",
       "      <th>Salary</th>\n",
       "      <th>CLV</th>\n",
       "      <th>Enrollment Year</th>\n",
       "      <th>Enrollment Month</th>\n",
       "      <th>Cancellation Year</th>\n",
       "      <th>Cancellation Month</th>\n",
       "    </tr>\n",
       "  </thead>\n",
       "  <tbody>\n",
       "    <tr>\n",
       "      <th>count</th>\n",
       "      <td>16737.000000</td>\n",
       "      <td>12499.000000</td>\n",
       "      <td>16737.000000</td>\n",
       "      <td>16737.000000</td>\n",
       "      <td>16737.000000</td>\n",
       "      <td>2067.000000</td>\n",
       "      <td>2067.000000</td>\n",
       "    </tr>\n",
       "    <tr>\n",
       "      <th>mean</th>\n",
       "      <td>549735.880445</td>\n",
       "      <td>79245.609409</td>\n",
       "      <td>7988.896536</td>\n",
       "      <td>2015.253211</td>\n",
       "      <td>6.669116</td>\n",
       "      <td>2016.503145</td>\n",
       "      <td>6.962748</td>\n",
       "    </tr>\n",
       "    <tr>\n",
       "      <th>std</th>\n",
       "      <td>258912.132453</td>\n",
       "      <td>35008.297285</td>\n",
       "      <td>6860.982280</td>\n",
       "      <td>1.979111</td>\n",
       "      <td>3.398958</td>\n",
       "      <td>1.380743</td>\n",
       "      <td>3.455297</td>\n",
       "    </tr>\n",
       "    <tr>\n",
       "      <th>min</th>\n",
       "      <td>100018.000000</td>\n",
       "      <td>-58486.000000</td>\n",
       "      <td>1898.010000</td>\n",
       "      <td>2012.000000</td>\n",
       "      <td>1.000000</td>\n",
       "      <td>2013.000000</td>\n",
       "      <td>1.000000</td>\n",
       "    </tr>\n",
       "    <tr>\n",
       "      <th>25%</th>\n",
       "      <td>326603.000000</td>\n",
       "      <td>59246.500000</td>\n",
       "      <td>3980.840000</td>\n",
       "      <td>2014.000000</td>\n",
       "      <td>4.000000</td>\n",
       "      <td>2016.000000</td>\n",
       "      <td>4.000000</td>\n",
       "    </tr>\n",
       "    <tr>\n",
       "      <th>50%</th>\n",
       "      <td>550434.000000</td>\n",
       "      <td>73455.000000</td>\n",
       "      <td>5780.180000</td>\n",
       "      <td>2015.000000</td>\n",
       "      <td>7.000000</td>\n",
       "      <td>2017.000000</td>\n",
       "      <td>7.000000</td>\n",
       "    </tr>\n",
       "    <tr>\n",
       "      <th>75%</th>\n",
       "      <td>772019.000000</td>\n",
       "      <td>88517.500000</td>\n",
       "      <td>8940.580000</td>\n",
       "      <td>2017.000000</td>\n",
       "      <td>10.000000</td>\n",
       "      <td>2018.000000</td>\n",
       "      <td>10.000000</td>\n",
       "    </tr>\n",
       "    <tr>\n",
       "      <th>max</th>\n",
       "      <td>999986.000000</td>\n",
       "      <td>407228.000000</td>\n",
       "      <td>83325.380000</td>\n",
       "      <td>2018.000000</td>\n",
       "      <td>12.000000</td>\n",
       "      <td>2018.000000</td>\n",
       "      <td>12.000000</td>\n",
       "    </tr>\n",
       "  </tbody>\n",
       "</table>\n",
       "</div>"
      ],
      "text/plain": [
       "       Loyalty Number         Salary           CLV  Enrollment Year  \\\n",
       "count    16737.000000   12499.000000  16737.000000     16737.000000   \n",
       "mean    549735.880445   79245.609409   7988.896536      2015.253211   \n",
       "std     258912.132453   35008.297285   6860.982280         1.979111   \n",
       "min     100018.000000  -58486.000000   1898.010000      2012.000000   \n",
       "25%     326603.000000   59246.500000   3980.840000      2014.000000   \n",
       "50%     550434.000000   73455.000000   5780.180000      2015.000000   \n",
       "75%     772019.000000   88517.500000   8940.580000      2017.000000   \n",
       "max     999986.000000  407228.000000  83325.380000      2018.000000   \n",
       "\n",
       "       Enrollment Month  Cancellation Year  Cancellation Month  \n",
       "count      16737.000000        2067.000000         2067.000000  \n",
       "mean           6.669116        2016.503145            6.962748  \n",
       "std            3.398958           1.380743            3.455297  \n",
       "min            1.000000        2013.000000            1.000000  \n",
       "25%            4.000000        2016.000000            4.000000  \n",
       "50%            7.000000        2017.000000            7.000000  \n",
       "75%           10.000000        2018.000000           10.000000  \n",
       "max           12.000000        2018.000000           12.000000  "
      ]
     },
     "execution_count": 4,
     "metadata": {},
     "output_type": "execute_result"
    }
   ],
   "source": [
    "df2.describe()"
   ]
  },
  {
   "cell_type": "code",
   "execution_count": 5,
   "metadata": {},
   "outputs": [
    {
     "data": {
      "text/html": [
       "<div>\n",
       "<style scoped>\n",
       "    .dataframe tbody tr th:only-of-type {\n",
       "        vertical-align: middle;\n",
       "    }\n",
       "\n",
       "    .dataframe tbody tr th {\n",
       "        vertical-align: top;\n",
       "    }\n",
       "\n",
       "    .dataframe thead th {\n",
       "        text-align: right;\n",
       "    }\n",
       "</style>\n",
       "<table border=\"1\" class=\"dataframe\">\n",
       "  <thead>\n",
       "    <tr style=\"text-align: right;\">\n",
       "      <th></th>\n",
       "      <th>count</th>\n",
       "      <th>mean</th>\n",
       "      <th>std</th>\n",
       "      <th>min</th>\n",
       "      <th>25%</th>\n",
       "      <th>50%</th>\n",
       "      <th>75%</th>\n",
       "      <th>max</th>\n",
       "    </tr>\n",
       "  </thead>\n",
       "  <tbody>\n",
       "    <tr>\n",
       "      <th>Loyalty Number</th>\n",
       "      <td>16737.0</td>\n",
       "      <td>549735.880445</td>\n",
       "      <td>258912.132453</td>\n",
       "      <td>100018.00</td>\n",
       "      <td>326603.00</td>\n",
       "      <td>550434.00</td>\n",
       "      <td>772019.00</td>\n",
       "      <td>999986.00</td>\n",
       "    </tr>\n",
       "    <tr>\n",
       "      <th>Salary</th>\n",
       "      <td>12499.0</td>\n",
       "      <td>79245.609409</td>\n",
       "      <td>35008.297285</td>\n",
       "      <td>-58486.00</td>\n",
       "      <td>59246.50</td>\n",
       "      <td>73455.00</td>\n",
       "      <td>88517.50</td>\n",
       "      <td>407228.00</td>\n",
       "    </tr>\n",
       "    <tr>\n",
       "      <th>CLV</th>\n",
       "      <td>16737.0</td>\n",
       "      <td>7988.896536</td>\n",
       "      <td>6860.982280</td>\n",
       "      <td>1898.01</td>\n",
       "      <td>3980.84</td>\n",
       "      <td>5780.18</td>\n",
       "      <td>8940.58</td>\n",
       "      <td>83325.38</td>\n",
       "    </tr>\n",
       "    <tr>\n",
       "      <th>Enrollment Year</th>\n",
       "      <td>16737.0</td>\n",
       "      <td>2015.253211</td>\n",
       "      <td>1.979111</td>\n",
       "      <td>2012.00</td>\n",
       "      <td>2014.00</td>\n",
       "      <td>2015.00</td>\n",
       "      <td>2017.00</td>\n",
       "      <td>2018.00</td>\n",
       "    </tr>\n",
       "    <tr>\n",
       "      <th>Enrollment Month</th>\n",
       "      <td>16737.0</td>\n",
       "      <td>6.669116</td>\n",
       "      <td>3.398958</td>\n",
       "      <td>1.00</td>\n",
       "      <td>4.00</td>\n",
       "      <td>7.00</td>\n",
       "      <td>10.00</td>\n",
       "      <td>12.00</td>\n",
       "    </tr>\n",
       "    <tr>\n",
       "      <th>Cancellation Year</th>\n",
       "      <td>2067.0</td>\n",
       "      <td>2016.503145</td>\n",
       "      <td>1.380743</td>\n",
       "      <td>2013.00</td>\n",
       "      <td>2016.00</td>\n",
       "      <td>2017.00</td>\n",
       "      <td>2018.00</td>\n",
       "      <td>2018.00</td>\n",
       "    </tr>\n",
       "    <tr>\n",
       "      <th>Cancellation Month</th>\n",
       "      <td>2067.0</td>\n",
       "      <td>6.962748</td>\n",
       "      <td>3.455297</td>\n",
       "      <td>1.00</td>\n",
       "      <td>4.00</td>\n",
       "      <td>7.00</td>\n",
       "      <td>10.00</td>\n",
       "      <td>12.00</td>\n",
       "    </tr>\n",
       "  </tbody>\n",
       "</table>\n",
       "</div>"
      ],
      "text/plain": [
       "                      count           mean            std        min  \\\n",
       "Loyalty Number      16737.0  549735.880445  258912.132453  100018.00   \n",
       "Salary              12499.0   79245.609409   35008.297285  -58486.00   \n",
       "CLV                 16737.0    7988.896536    6860.982280    1898.01   \n",
       "Enrollment Year     16737.0    2015.253211       1.979111    2012.00   \n",
       "Enrollment Month    16737.0       6.669116       3.398958       1.00   \n",
       "Cancellation Year    2067.0    2016.503145       1.380743    2013.00   \n",
       "Cancellation Month   2067.0       6.962748       3.455297       1.00   \n",
       "\n",
       "                          25%        50%        75%        max  \n",
       "Loyalty Number      326603.00  550434.00  772019.00  999986.00  \n",
       "Salary               59246.50   73455.00   88517.50  407228.00  \n",
       "CLV                   3980.84    5780.18    8940.58   83325.38  \n",
       "Enrollment Year       2014.00    2015.00    2017.00    2018.00  \n",
       "Enrollment Month         4.00       7.00      10.00      12.00  \n",
       "Cancellation Year     2016.00    2017.00    2018.00    2018.00  \n",
       "Cancellation Month       4.00       7.00      10.00      12.00  "
      ]
     },
     "execution_count": 5,
     "metadata": {},
     "output_type": "execute_result"
    }
   ],
   "source": [
    "df2.describe().T"
   ]
  },
  {
   "cell_type": "code",
   "execution_count": 6,
   "metadata": {},
   "outputs": [
    {
     "data": {
      "text/plain": [
       "(16737, 16)"
      ]
     },
     "execution_count": 6,
     "metadata": {},
     "output_type": "execute_result"
    }
   ],
   "source": [
    "#1. EDA: Lo primero es ver cuantas (filas, columnas)\n",
    "# 16737 filas y 16 columnas\n",
    "df2.shape"
   ]
  },
  {
   "cell_type": "code",
   "execution_count": 7,
   "metadata": {},
   "outputs": [
    {
     "name": "stdout",
     "output_type": "stream",
     "text": [
      "<class 'pandas.core.frame.DataFrame'>\n",
      "RangeIndex: 16737 entries, 0 to 16736\n",
      "Data columns (total 16 columns):\n",
      " #   Column              Non-Null Count  Dtype  \n",
      "---  ------              --------------  -----  \n",
      " 0   Loyalty Number      16737 non-null  int64  \n",
      " 1   Country             16737 non-null  object \n",
      " 2   Province            16737 non-null  object \n",
      " 3   City                16737 non-null  object \n",
      " 4   Postal Code         16737 non-null  object \n",
      " 5   Gender              16737 non-null  object \n",
      " 6   Education           16737 non-null  object \n",
      " 7   Salary              12499 non-null  float64\n",
      " 8   Marital Status      16737 non-null  object \n",
      " 9   Loyalty Card        16737 non-null  object \n",
      " 10  CLV                 16737 non-null  float64\n",
      " 11  Enrollment Type     16737 non-null  object \n",
      " 12  Enrollment Year     16737 non-null  int64  \n",
      " 13  Enrollment Month    16737 non-null  int64  \n",
      " 14  Cancellation Year   2067 non-null   float64\n",
      " 15  Cancellation Month  2067 non-null   float64\n",
      "dtypes: float64(4), int64(3), object(9)\n",
      "memory usage: 2.0+ MB\n"
     ]
    }
   ],
   "source": [
    "df2.info()"
   ]
  },
  {
   "cell_type": "code",
   "execution_count": 8,
   "metadata": {},
   "outputs": [
    {
     "name": "stdout",
     "output_type": "stream",
     "text": [
      "Salary                 4238\n",
      "Cancellation Year     14670\n",
      "Cancellation Month    14670\n",
      "dtype: int64\n"
     ]
    }
   ],
   "source": [
    "# Como sólo hay 3 columnas de las 16 que tienen nulos vamos hacer que se impriman solo las nulas\n",
    "# por lo que le vamos a decir que me imprima sólo las que sean mayor a cero\n",
    "# que la cancelación de año y mes tengan la misma cantidad de nulos podemos deducir xxxx\n",
    "columnas_con_nulos = df2.isnull().sum()\n",
    "columnas_con_nulos = columnas_con_nulos[columnas_con_nulos > 0]\n",
    "print(columnas_con_nulos)\n"
   ]
  },
  {
   "cell_type": "code",
   "execution_count": 12,
   "metadata": {},
   "outputs": [
    {
     "data": {
      "text/plain": [
       "Index(['Loyalty Number', 'Country', 'Province', 'City', 'Postal Code',\n",
       "       'Gender', 'Education', 'Salary', 'Marital Status', 'Loyalty Card',\n",
       "       'CLV', 'Enrollment Type', 'Enrollment Year', 'Enrollment Month',\n",
       "       'Cancellation Year', 'Cancellation Month'],\n",
       "      dtype='object')"
      ]
     },
     "execution_count": 12,
     "metadata": {},
     "output_type": "execute_result"
    }
   ],
   "source": [
    "df2.columns"
   ]
  },
  {
   "cell_type": "code",
   "execution_count": 13,
   "metadata": {},
   "outputs": [
    {
     "data": {
      "text/plain": [
       "Canada    16737\n",
       "Name: Country, dtype: int64"
      ]
     },
     "execution_count": 13,
     "metadata": {},
     "output_type": "execute_result"
    }
   ],
   "source": [
    "df2['Country'].value_counts()"
   ]
  },
  {
   "cell_type": "code",
   "execution_count": 14,
   "metadata": {},
   "outputs": [
    {
     "data": {
      "text/plain": [
       "Ontario                 5404\n",
       "British Columbia        4409\n",
       "Quebec                  3300\n",
       "Alberta                  969\n",
       "Manitoba                 658\n",
       "New Brunswick            636\n",
       "Nova Scotia              518\n",
       "Saskatchewan             409\n",
       "Newfoundland             258\n",
       "Yukon                    110\n",
       "Prince Edward Island      66\n",
       "Name: Province, dtype: int64"
      ]
     },
     "execution_count": 14,
     "metadata": {},
     "output_type": "execute_result"
    }
   ],
   "source": [
    "df2['Province'].value_counts()"
   ]
  },
  {
   "cell_type": "code",
   "execution_count": 15,
   "metadata": {},
   "outputs": [
    {
     "data": {
      "text/plain": [
       "Toronto           3351\n",
       "Vancouver         2582\n",
       "Montreal          2059\n",
       "Winnipeg           658\n",
       "Whistler           582\n",
       "Halifax            518\n",
       "Ottawa             509\n",
       "Trenton            486\n",
       "Edmonton           486\n",
       "Quebec City        485\n",
       "Dawson Creek       444\n",
       "Fredericton        425\n",
       "Regina             409\n",
       "Kingston           401\n",
       "Tremblant          398\n",
       "Victoria           389\n",
       "Hull               358\n",
       "West Vancouver     324\n",
       "St. John's         258\n",
       "Thunder Bay        256\n",
       "Sudbury            227\n",
       "Moncton            211\n",
       "Calgary            191\n",
       "Banff              179\n",
       "London             174\n",
       "Peace River        113\n",
       "Whitehorse         110\n",
       "Kelowna             88\n",
       "Charlottetown       66\n",
       "Name: City, dtype: int64"
      ]
     },
     "execution_count": 15,
     "metadata": {},
     "output_type": "execute_result"
    }
   ],
   "source": [
    "df2['City'].value_counts()"
   ]
  },
  {
   "cell_type": "markdown",
   "metadata": {},
   "source": [
    "# FASE II:VISUALIZACIÓN\n",
    "### 3. ¿Cuál es la distribución de los clientes por provincia y estado?"
   ]
  },
  {
   "cell_type": "code",
   "execution_count": 24,
   "metadata": {},
   "outputs": [
    {
     "name": "stdout",
     "output_type": "stream",
     "text": [
      "                Province            City  Loyalty Number\n",
      "0                Alberta           Banff             179\n",
      "1                Alberta         Calgary             191\n",
      "2                Alberta        Edmonton             486\n",
      "3                Alberta     Peace River             113\n",
      "4       British Columbia    Dawson Creek             444\n",
      "5       British Columbia         Kelowna              88\n",
      "6       British Columbia       Vancouver            2582\n",
      "7       British Columbia        Victoria             389\n",
      "8       British Columbia  West Vancouver             324\n",
      "9       British Columbia        Whistler             582\n",
      "10              Manitoba        Winnipeg             658\n",
      "11         New Brunswick     Fredericton             425\n",
      "12         New Brunswick         Moncton             211\n",
      "13          Newfoundland      St. John's             258\n",
      "14           Nova Scotia         Halifax             518\n",
      "15               Ontario        Kingston             401\n",
      "16               Ontario          London             174\n",
      "17               Ontario          Ottawa             509\n",
      "18               Ontario         Sudbury             227\n",
      "19               Ontario     Thunder Bay             256\n",
      "20               Ontario         Toronto            3351\n",
      "21               Ontario         Trenton             486\n",
      "22  Prince Edward Island   Charlottetown              66\n",
      "23                Quebec            Hull             358\n"
     ]
    }
   ],
   "source": [
    "# Agrupar los datos por provincia y ciudad, sumando los números de lealtad\n",
    "clientes_provincia = df2.groupby(['Province', 'City'])['Loyalty Number'].count().reset_index()\n",
    "\n",
    "# Mostrar los primeros 24 resultados\n",
    "print(clientes_provincia.head(24))\n"
   ]
  },
  {
   "cell_type": "code",
   "execution_count": 28,
   "metadata": {},
   "outputs": [
    {
     "name": "stdout",
     "output_type": "stream",
     "text": [
      "       Loyalty Number Province\n",
      "8              852392   Quebec\n",
      "13             988178   Quebec\n",
      "17             438936   Quebec\n",
      "21             552965   Quebec\n",
      "25             217754   Quebec\n",
      "...               ...      ...\n",
      "16689          987205   Quebec\n",
      "16690          398924   Quebec\n",
      "16691          640285   Quebec\n",
      "16709          351296   Quebec\n",
      "16715          427177   Quebec\n",
      "\n",
      "[2059 rows x 2 columns]\n"
     ]
    }
   ],
   "source": [
    "clientes_city = df2[df2['City'].isin(['Montreal'])][['Loyalty Number', 'Province']]\n",
    "\n",
    "# Mostrar los resultados\n",
    "print(clientes_city)"
   ]
  },
  {
   "cell_type": "code",
   "execution_count": 38,
   "metadata": {},
   "outputs": [
    {
     "name": "stdout",
     "output_type": "stream",
     "text": [
      "                Province  Cantidad de clientes\n",
      "0                Alberta                   969\n",
      "1       British Columbia                  4409\n",
      "2               Manitoba                   658\n",
      "3          New Brunswick                   636\n",
      "4           Newfoundland                   258\n",
      "5            Nova Scotia                   518\n",
      "6                Ontario                  5404\n",
      "7   Prince Edward Island                    66\n",
      "8                 Quebec                  3300\n",
      "9           Saskatchewan                   409\n",
      "10                 Yukon                   110\n"
     ]
    }
   ],
   "source": [
    "# Agrupar los datos por provincia y ciudad, contando los números de lealtad y renombrando la columna\n",
    "clientes_provincia = df2.groupby(['Province'])['Loyalty Number'].count().reset_index(name='Cantidad de clientes')\n",
    "\n",
    "# Mostrar los primeros 24 resultados\n",
    "print(clientes_provincia.head(24))"
   ]
  },
  {
   "cell_type": "code",
   "execution_count": 40,
   "metadata": {},
   "outputs": [
    {
     "data": {
      "image/png": "[encoded data removed]",
      "text/plain": [
       "<Figure size 720x432 with 1 Axes>"
      ]
     },
     "metadata": {
      "needs_background": "light"
     },
     "output_type": "display_data"
    }
   ],
   "source": [
    "# Crear un barplot con los datos agrupados\n",
    "plt.figure(figsize=(10,6))\n",
    "sns.barplot(data=clientes_provincia, \n",
    "            x='Province', \n",
    "            y= 'Cantidad de clientes' , \n",
    "            palette='viridis')\n",
    "\n",
    "# Añadir etiquetas y título\n",
    "plt.xlabel('Provincia', fontsize=12)\n",
    "plt.ylabel('Cantidad de clientes', fontsize=12)\n",
    "plt.title('Distribución de Clientes por Provincia', fontsize=14)\n",
    "\n",
    "# Mostrar el gráfico\n",
    "plt.xticks(rotation=90)  # Rotar los nombres de las provincias si son demasiadas\n",
    "plt.show()\n"
   ]
  },
  {
   "cell_type": "code",
   "execution_count": null,
   "metadata": {},
   "outputs": [],
   "source": [
    "# QUIERO DESTACAR 3 PROVINCIAS\n",
    "#'British Columbia', 'Ontario', 'Quebec' por que tienen tres ciudades mas pobladas que son respectivamente\n",
    "# Vancouver, Toronto y Montreal"
   ]
  },
  {
   "cell_type": "code",
   "execution_count": 44,
   "metadata": {},
   "outputs": [
    {
     "data": {
      "image/png": "[encoded data removed]",
      "text/plain": [
       "<Figure size 720x432 with 1 Axes>"
      ]
     },
     "metadata": {
      "needs_background": "light"
     },
     "output_type": "display_data"
    }
   ],
   "source": [
    "# Crear un barplot con los datos agrupados\n",
    "plt.figure(figsize=(10,6))\n",
    "sns.barplot(data=clientes_provincia, \n",
    "            x='Province', \n",
    "            y= 'Cantidad de clientes' , \n",
    "            palette='viridis')\n",
    "\n",
    "# Añadir etiquetas y título\n",
    "plt.xlabel('Provincia', fontsize=12)\n",
    "plt.ylabel('Cantidad de clientes', fontsize=12)\n",
    "plt.title('Distribución de Clientes por Provincia', fontsize=14)\n",
    "\n",
    "# Agregar etiquetas personalizadas a las barras esto lo he buscado yo sola no sabria hacerlo pero lo puedo leer \n",
    "plt.annotate('Vancouver', xy=('British Columbia', clientes_provincia[clientes_provincia['Province'] == 'British Columbia']['Cantidad de clientes'].values[0]), xytext=(0, 5), textcoords='offset points', ha='center')\n",
    "plt.annotate('Toronto', xy=('Ontario', clientes_provincia[clientes_provincia['Province'] == 'Ontario']['Cantidad de clientes'].values[0]), xytext=(0, 5), textcoords='offset points', ha='center')\n",
    "plt.annotate('Montreal', xy=('Quebec', clientes_provincia[clientes_provincia['Province'] == 'Quebec']['Cantidad de clientes'].values[0]), xytext=(0, 5), textcoords='offset points', ha='center')\n",
    "\n",
    "# Mostrar el gráfico\n",
    "plt.xticks(rotation=90)  # Rotar los nombres de las provincias si son demasiadas\n",
    "plt.show()"
   ]
  },
  {
   "cell_type": "markdown",
   "metadata": {},
   "source": [
    "# FASE II:VISUALIZACIÓN\n",
    "### 4. ¿Cómo se compara el salario promedio entre los diferentes niveles educativos de los clientes?\n",
    "\n"
   ]
  },
  {
   "cell_type": "code",
   "execution_count": null,
   "metadata": {},
   "outputs": [],
   "source": [
    "# corregir los salarios negativos\n",
    "# las correcciones pueden ser pasarlos a nulos o pasarlos a positivos\n",
    "#df2['Salary'] = df2['Salary'].apply(lambda x: abs(x) if x < 0 else x)\n",
    "#df2['Salary'] = df2['Salary'].apply(lambda x: None if x < 0 else x)"
   ]
  },
  {
   "cell_type": "code",
   "execution_count": 45,
   "metadata": {},
   "outputs": [
    {
     "data": {
      "text/plain": [
       "Index(['Loyalty Number', 'Country', 'Province', 'City', 'Postal Code',\n",
       "       'Gender', 'Education', 'Salary', 'Marital Status', 'Loyalty Card',\n",
       "       'CLV', 'Enrollment Type', 'Enrollment Year', 'Enrollment Month',\n",
       "       'Cancellation Year', 'Cancellation Month'],\n",
       "      dtype='object')"
      ]
     },
     "execution_count": 45,
     "metadata": {},
     "output_type": "execute_result"
    }
   ],
   "source": [
    "df2.columns"
   ]
  },
  {
   "cell_type": "code",
   "execution_count": 46,
   "metadata": {},
   "outputs": [
    {
     "data": {
      "text/plain": [
       "Married     9735\n",
       "Single      4484\n",
       "Divorced    2518\n",
       "Name: Marital Status, dtype: int64"
      ]
     },
     "execution_count": 46,
     "metadata": {},
     "output_type": "execute_result"
    }
   ],
   "source": [
    "df2['Marital Status'].value_counts()"
   ]
  },
  {
   "cell_type": "code",
   "execution_count": 47,
   "metadata": {},
   "outputs": [
    {
     "data": {
      "text/plain": [
       "Bachelor                10475\n",
       "College                  4238\n",
       "High School or Below      782\n",
       "Doctor                    734\n",
       "Master                    508\n",
       "Name: Education, dtype: int64"
      ]
     },
     "execution_count": 47,
     "metadata": {},
     "output_type": "execute_result"
    }
   ],
   "source": [
    "df2['Education'].value_counts()"
   ]
  },
  {
   "cell_type": "code",
   "execution_count": 48,
   "metadata": {},
   "outputs": [
    {
     "name": "stdout",
     "output_type": "stream",
     "text": [
      "Salary                 4238\n",
      "Cancellation Year     14670\n",
      "Cancellation Month    14670\n",
      "dtype: int64\n"
     ]
    }
   ],
   "source": [
    "# Como sólo hay 3 columnas de las 16 que tienen nulos vamos hacer que se impriman solo las nulas\n",
    "# por lo que le vamos a decir que me imprima sólo las que sean mayor a cero\n",
    "# que la cancelación de año y mes tengan la misma cantidad de nulos podemos deducir xxxx\n",
    "columnas_con_nulos = df2.isnull().sum()\n",
    "columnas_con_nulos = columnas_con_nulos[columnas_con_nulos > 0]\n",
    "print(columnas_con_nulos)"
   ]
  },
  {
   "cell_type": "code",
   "execution_count": 49,
   "metadata": {},
   "outputs": [
    {
     "data": {
      "text/plain": [
       " 101933.0    23\n",
       " 62283.0     14\n",
       " 61809.0     14\n",
       " 51573.0     14\n",
       " 64001.0     13\n",
       "             ..\n",
       " 95907.0      1\n",
       " 72440.0      1\n",
       " 88633.0      1\n",
       " 100572.0     1\n",
       "-57297.0      1\n",
       "Name: Salary, Length: 5890, dtype: int64"
      ]
     },
     "execution_count": 49,
     "metadata": {},
     "output_type": "execute_result"
    }
   ],
   "source": [
    "# El resultado arroja un valor negativo en el salario y no le encuentro lógica voy averiguar si es un error\n",
    "df2['Salary'].value_counts()"
   ]
  },
  {
   "cell_type": "code",
   "execution_count": 50,
   "metadata": {},
   "outputs": [
    {
     "name": "stdout",
     "output_type": "stream",
     "text": [
      "Número de salarios negativos: 20\n"
     ]
    }
   ],
   "source": [
    "# Vamos a intentar contar los salarios negativos que hay en la base de datos\n",
    "salario_negativo = df2[df2['Salary'] < 0]\n",
    "cuenta_salario_negativo = salario_negativo.shape[0]\n",
    "print(f\"Número de salarios negativos: {cuenta_salario_negativo}\")"
   ]
  },
  {
   "cell_type": "code",
   "execution_count": 51,
   "metadata": {},
   "outputs": [
    {
     "data": {
      "text/html": [
       "<div>\n",
       "<style scoped>\n",
       "    .dataframe tbody tr th:only-of-type {\n",
       "        vertical-align: middle;\n",
       "    }\n",
       "\n",
       "    .dataframe tbody tr th {\n",
       "        vertical-align: top;\n",
       "    }\n",
       "\n",
       "    .dataframe thead th {\n",
       "        text-align: right;\n",
       "    }\n",
       "</style>\n",
       "<table border=\"1\" class=\"dataframe\">\n",
       "  <thead>\n",
       "    <tr style=\"text-align: right;\">\n",
       "      <th></th>\n",
       "      <th>Loyalty Number</th>\n",
       "      <th>Country</th>\n",
       "      <th>Province</th>\n",
       "      <th>City</th>\n",
       "      <th>Postal Code</th>\n",
       "      <th>Gender</th>\n",
       "      <th>Education</th>\n",
       "      <th>Salary</th>\n",
       "      <th>Marital Status</th>\n",
       "      <th>Loyalty Card</th>\n",
       "      <th>CLV</th>\n",
       "      <th>Enrollment Type</th>\n",
       "      <th>Enrollment Year</th>\n",
       "      <th>Enrollment Month</th>\n",
       "      <th>Cancellation Year</th>\n",
       "      <th>Cancellation Month</th>\n",
       "    </tr>\n",
       "  </thead>\n",
       "  <tbody>\n",
       "    <tr>\n",
       "      <th>1082</th>\n",
       "      <td>542976</td>\n",
       "      <td>Canada</td>\n",
       "      <td>Quebec</td>\n",
       "      <td>Montreal</td>\n",
       "      <td>H2Y 4R4</td>\n",
       "      <td>Male</td>\n",
       "      <td>High School or Below</td>\n",
       "      <td>-49830.0</td>\n",
       "      <td>Divorced</td>\n",
       "      <td>Star</td>\n",
       "      <td>24127.50</td>\n",
       "      <td>2018 Promotion</td>\n",
       "      <td>2018</td>\n",
       "      <td>3</td>\n",
       "      <td>NaN</td>\n",
       "      <td>NaN</td>\n",
       "    </tr>\n",
       "    <tr>\n",
       "      <th>1894</th>\n",
       "      <td>959977</td>\n",
       "      <td>Canada</td>\n",
       "      <td>British Columbia</td>\n",
       "      <td>Vancouver</td>\n",
       "      <td>V5R 1W3</td>\n",
       "      <td>Female</td>\n",
       "      <td>Bachelor</td>\n",
       "      <td>-12497.0</td>\n",
       "      <td>Married</td>\n",
       "      <td>Aurora</td>\n",
       "      <td>9453.00</td>\n",
       "      <td>2018 Promotion</td>\n",
       "      <td>2018</td>\n",
       "      <td>3</td>\n",
       "      <td>NaN</td>\n",
       "      <td>NaN</td>\n",
       "    </tr>\n",
       "    <tr>\n",
       "      <th>2471</th>\n",
       "      <td>232755</td>\n",
       "      <td>Canada</td>\n",
       "      <td>British Columbia</td>\n",
       "      <td>Vancouver</td>\n",
       "      <td>V1E 4R6</td>\n",
       "      <td>Female</td>\n",
       "      <td>Bachelor</td>\n",
       "      <td>-46683.0</td>\n",
       "      <td>Single</td>\n",
       "      <td>Nova</td>\n",
       "      <td>4787.81</td>\n",
       "      <td>2018 Promotion</td>\n",
       "      <td>2018</td>\n",
       "      <td>3</td>\n",
       "      <td>NaN</td>\n",
       "      <td>NaN</td>\n",
       "    </tr>\n",
       "    <tr>\n",
       "      <th>3575</th>\n",
       "      <td>525245</td>\n",
       "      <td>Canada</td>\n",
       "      <td>British Columbia</td>\n",
       "      <td>Victoria</td>\n",
       "      <td>V10 6T5</td>\n",
       "      <td>Male</td>\n",
       "      <td>Bachelor</td>\n",
       "      <td>-45962.0</td>\n",
       "      <td>Married</td>\n",
       "      <td>Star</td>\n",
       "      <td>2402.33</td>\n",
       "      <td>2018 Promotion</td>\n",
       "      <td>2018</td>\n",
       "      <td>3</td>\n",
       "      <td>NaN</td>\n",
       "      <td>NaN</td>\n",
       "    </tr>\n",
       "    <tr>\n",
       "      <th>3932</th>\n",
       "      <td>603070</td>\n",
       "      <td>Canada</td>\n",
       "      <td>British Columbia</td>\n",
       "      <td>West Vancouver</td>\n",
       "      <td>V6V 8Z3</td>\n",
       "      <td>Female</td>\n",
       "      <td>Bachelor</td>\n",
       "      <td>-19325.0</td>\n",
       "      <td>Single</td>\n",
       "      <td>Star</td>\n",
       "      <td>2893.74</td>\n",
       "      <td>2018 Promotion</td>\n",
       "      <td>2018</td>\n",
       "      <td>3</td>\n",
       "      <td>NaN</td>\n",
       "      <td>NaN</td>\n",
       "    </tr>\n",
       "    <tr>\n",
       "      <th>4712</th>\n",
       "      <td>491242</td>\n",
       "      <td>Canada</td>\n",
       "      <td>British Columbia</td>\n",
       "      <td>Dawson Creek</td>\n",
       "      <td>U5I 4F1</td>\n",
       "      <td>Male</td>\n",
       "      <td>Bachelor</td>\n",
       "      <td>-43234.0</td>\n",
       "      <td>Married</td>\n",
       "      <td>Star</td>\n",
       "      <td>7597.91</td>\n",
       "      <td>2018 Promotion</td>\n",
       "      <td>2018</td>\n",
       "      <td>3</td>\n",
       "      <td>NaN</td>\n",
       "      <td>NaN</td>\n",
       "    </tr>\n",
       "    <tr>\n",
       "      <th>6560</th>\n",
       "      <td>115505</td>\n",
       "      <td>Canada</td>\n",
       "      <td>Newfoundland</td>\n",
       "      <td>St. John's</td>\n",
       "      <td>A1C 6H9</td>\n",
       "      <td>Male</td>\n",
       "      <td>Bachelor</td>\n",
       "      <td>-10605.0</td>\n",
       "      <td>Married</td>\n",
       "      <td>Nova</td>\n",
       "      <td>5860.17</td>\n",
       "      <td>2018 Promotion</td>\n",
       "      <td>2018</td>\n",
       "      <td>4</td>\n",
       "      <td>NaN</td>\n",
       "      <td>NaN</td>\n",
       "    </tr>\n",
       "    <tr>\n",
       "      <th>6570</th>\n",
       "      <td>430398</td>\n",
       "      <td>Canada</td>\n",
       "      <td>Newfoundland</td>\n",
       "      <td>St. John's</td>\n",
       "      <td>A1C 6H9</td>\n",
       "      <td>Male</td>\n",
       "      <td>Bachelor</td>\n",
       "      <td>-17534.0</td>\n",
       "      <td>Married</td>\n",
       "      <td>Nova</td>\n",
       "      <td>49423.80</td>\n",
       "      <td>2018 Promotion</td>\n",
       "      <td>2018</td>\n",
       "      <td>3</td>\n",
       "      <td>NaN</td>\n",
       "      <td>NaN</td>\n",
       "    </tr>\n",
       "    <tr>\n",
       "      <th>7373</th>\n",
       "      <td>152016</td>\n",
       "      <td>Canada</td>\n",
       "      <td>Ontario</td>\n",
       "      <td>Toronto</td>\n",
       "      <td>P1J 8T7</td>\n",
       "      <td>Female</td>\n",
       "      <td>Bachelor</td>\n",
       "      <td>-58486.0</td>\n",
       "      <td>Married</td>\n",
       "      <td>Aurora</td>\n",
       "      <td>5067.21</td>\n",
       "      <td>2018 Promotion</td>\n",
       "      <td>2018</td>\n",
       "      <td>2</td>\n",
       "      <td>NaN</td>\n",
       "      <td>NaN</td>\n",
       "    </tr>\n",
       "    <tr>\n",
       "      <th>8576</th>\n",
       "      <td>194065</td>\n",
       "      <td>Canada</td>\n",
       "      <td>Ontario</td>\n",
       "      <td>Sudbury</td>\n",
       "      <td>M5V 1G5</td>\n",
       "      <td>Female</td>\n",
       "      <td>Bachelor</td>\n",
       "      <td>-31911.0</td>\n",
       "      <td>Married</td>\n",
       "      <td>Nova</td>\n",
       "      <td>2888.85</td>\n",
       "      <td>2018 Promotion</td>\n",
       "      <td>2018</td>\n",
       "      <td>2</td>\n",
       "      <td>NaN</td>\n",
       "      <td>NaN</td>\n",
       "    </tr>\n",
       "    <tr>\n",
       "      <th>8767</th>\n",
       "      <td>212128</td>\n",
       "      <td>Canada</td>\n",
       "      <td>Ontario</td>\n",
       "      <td>Toronto</td>\n",
       "      <td>P2T 6G3</td>\n",
       "      <td>Male</td>\n",
       "      <td>Bachelor</td>\n",
       "      <td>-49001.0</td>\n",
       "      <td>Married</td>\n",
       "      <td>Nova</td>\n",
       "      <td>3130.68</td>\n",
       "      <td>2018 Promotion</td>\n",
       "      <td>2018</td>\n",
       "      <td>2</td>\n",
       "      <td>NaN</td>\n",
       "      <td>NaN</td>\n",
       "    </tr>\n",
       "    <tr>\n",
       "      <th>10232</th>\n",
       "      <td>790475</td>\n",
       "      <td>Canada</td>\n",
       "      <td>Ontario</td>\n",
       "      <td>Trenton</td>\n",
       "      <td>K8V 4B2</td>\n",
       "      <td>Female</td>\n",
       "      <td>Bachelor</td>\n",
       "      <td>-34079.0</td>\n",
       "      <td>Married</td>\n",
       "      <td>Nova</td>\n",
       "      <td>12913.50</td>\n",
       "      <td>2018 Promotion</td>\n",
       "      <td>2018</td>\n",
       "      <td>2</td>\n",
       "      <td>NaN</td>\n",
       "      <td>NaN</td>\n",
       "    </tr>\n",
       "    <tr>\n",
       "      <th>11635</th>\n",
       "      <td>366599</td>\n",
       "      <td>Canada</td>\n",
       "      <td>Ontario</td>\n",
       "      <td>Toronto</td>\n",
       "      <td>M1R 4K3</td>\n",
       "      <td>Female</td>\n",
       "      <td>Bachelor</td>\n",
       "      <td>-9081.0</td>\n",
       "      <td>Married</td>\n",
       "      <td>Star</td>\n",
       "      <td>6915.73</td>\n",
       "      <td>2018 Promotion</td>\n",
       "      <td>2018</td>\n",
       "      <td>4</td>\n",
       "      <td>NaN</td>\n",
       "      <td>NaN</td>\n",
       "    </tr>\n",
       "    <tr>\n",
       "      <th>12596</th>\n",
       "      <td>436087</td>\n",
       "      <td>Canada</td>\n",
       "      <td>Quebec</td>\n",
       "      <td>Montreal</td>\n",
       "      <td>H2T 9K8</td>\n",
       "      <td>Male</td>\n",
       "      <td>Bachelor</td>\n",
       "      <td>-46470.0</td>\n",
       "      <td>Married</td>\n",
       "      <td>Star</td>\n",
       "      <td>4786.89</td>\n",
       "      <td>2018 Promotion</td>\n",
       "      <td>2018</td>\n",
       "      <td>4</td>\n",
       "      <td>2018.0</td>\n",
       "      <td>8.0</td>\n",
       "    </tr>\n",
       "    <tr>\n",
       "      <th>13564</th>\n",
       "      <td>364596</td>\n",
       "      <td>Canada</td>\n",
       "      <td>Quebec</td>\n",
       "      <td>Tremblant</td>\n",
       "      <td>H5Y 2S9</td>\n",
       "      <td>Female</td>\n",
       "      <td>Bachelor</td>\n",
       "      <td>-26322.0</td>\n",
       "      <td>Single</td>\n",
       "      <td>Aurora</td>\n",
       "      <td>16710.84</td>\n",
       "      <td>2018 Promotion</td>\n",
       "      <td>2018</td>\n",
       "      <td>4</td>\n",
       "      <td>2018.0</td>\n",
       "      <td>12.0</td>\n",
       "    </tr>\n",
       "    <tr>\n",
       "      <th>14327</th>\n",
       "      <td>239955</td>\n",
       "      <td>Canada</td>\n",
       "      <td>Quebec</td>\n",
       "      <td>Hull</td>\n",
       "      <td>J8Y 3Z5</td>\n",
       "      <td>Female</td>\n",
       "      <td>Bachelor</td>\n",
       "      <td>-47310.0</td>\n",
       "      <td>Married</td>\n",
       "      <td>Nova</td>\n",
       "      <td>6366.23</td>\n",
       "      <td>2018 Promotion</td>\n",
       "      <td>2018</td>\n",
       "      <td>3</td>\n",
       "      <td>NaN</td>\n",
       "      <td>NaN</td>\n",
       "    </tr>\n",
       "    <tr>\n",
       "      <th>14355</th>\n",
       "      <td>347013</td>\n",
       "      <td>Canada</td>\n",
       "      <td>Quebec</td>\n",
       "      <td>Quebec City</td>\n",
       "      <td>G1B 3L5</td>\n",
       "      <td>Male</td>\n",
       "      <td>Bachelor</td>\n",
       "      <td>-39503.0</td>\n",
       "      <td>Married</td>\n",
       "      <td>Nova</td>\n",
       "      <td>6446.71</td>\n",
       "      <td>2018 Promotion</td>\n",
       "      <td>2018</td>\n",
       "      <td>3</td>\n",
       "      <td>NaN</td>\n",
       "      <td>NaN</td>\n",
       "    </tr>\n",
       "    <tr>\n",
       "      <th>15416</th>\n",
       "      <td>729561</td>\n",
       "      <td>Canada</td>\n",
       "      <td>Quebec</td>\n",
       "      <td>Quebec City</td>\n",
       "      <td>G1B 3L5</td>\n",
       "      <td>Female</td>\n",
       "      <td>Bachelor</td>\n",
       "      <td>-19332.0</td>\n",
       "      <td>Divorced</td>\n",
       "      <td>Star</td>\n",
       "      <td>5308.29</td>\n",
       "      <td>2018 Promotion</td>\n",
       "      <td>2018</td>\n",
       "      <td>2</td>\n",
       "      <td>NaN</td>\n",
       "      <td>NaN</td>\n",
       "    </tr>\n",
       "    <tr>\n",
       "      <th>16431</th>\n",
       "      <td>734647</td>\n",
       "      <td>Canada</td>\n",
       "      <td>Saskatchewan</td>\n",
       "      <td>Regina</td>\n",
       "      <td>S1J 3C5</td>\n",
       "      <td>Male</td>\n",
       "      <td>Bachelor</td>\n",
       "      <td>-46303.0</td>\n",
       "      <td>Married</td>\n",
       "      <td>Nova</td>\n",
       "      <td>11280.73</td>\n",
       "      <td>2018 Promotion</td>\n",
       "      <td>2018</td>\n",
       "      <td>4</td>\n",
       "      <td>NaN</td>\n",
       "      <td>NaN</td>\n",
       "    </tr>\n",
       "    <tr>\n",
       "      <th>16735</th>\n",
       "      <td>906428</td>\n",
       "      <td>Canada</td>\n",
       "      <td>Yukon</td>\n",
       "      <td>Whitehorse</td>\n",
       "      <td>Y2K 6R0</td>\n",
       "      <td>Male</td>\n",
       "      <td>Bachelor</td>\n",
       "      <td>-57297.0</td>\n",
       "      <td>Married</td>\n",
       "      <td>Star</td>\n",
       "      <td>10018.66</td>\n",
       "      <td>2018 Promotion</td>\n",
       "      <td>2018</td>\n",
       "      <td>4</td>\n",
       "      <td>NaN</td>\n",
       "      <td>NaN</td>\n",
       "    </tr>\n",
       "  </tbody>\n",
       "</table>\n",
       "</div>"
      ],
      "text/plain": [
       "       Loyalty Number Country          Province            City Postal Code  \\\n",
       "1082           542976  Canada            Quebec        Montreal     H2Y 4R4   \n",
       "1894           959977  Canada  British Columbia       Vancouver     V5R 1W3   \n",
       "2471           232755  Canada  British Columbia       Vancouver     V1E 4R6   \n",
       "3575           525245  Canada  British Columbia        Victoria     V10 6T5   \n",
       "3932           603070  Canada  British Columbia  West Vancouver     V6V 8Z3   \n",
       "4712           491242  Canada  British Columbia    Dawson Creek     U5I 4F1   \n",
       "6560           115505  Canada      Newfoundland      St. John's     A1C 6H9   \n",
       "6570           430398  Canada      Newfoundland      St. John's     A1C 6H9   \n",
       "7373           152016  Canada           Ontario         Toronto     P1J 8T7   \n",
       "8576           194065  Canada           Ontario         Sudbury     M5V 1G5   \n",
       "8767           212128  Canada           Ontario         Toronto     P2T 6G3   \n",
       "10232          790475  Canada           Ontario         Trenton     K8V 4B2   \n",
       "11635          366599  Canada           Ontario         Toronto     M1R 4K3   \n",
       "12596          436087  Canada            Quebec        Montreal     H2T 9K8   \n",
       "13564          364596  Canada            Quebec       Tremblant     H5Y 2S9   \n",
       "14327          239955  Canada            Quebec            Hull     J8Y 3Z5   \n",
       "14355          347013  Canada            Quebec     Quebec City     G1B 3L5   \n",
       "15416          729561  Canada            Quebec     Quebec City     G1B 3L5   \n",
       "16431          734647  Canada      Saskatchewan          Regina     S1J 3C5   \n",
       "16735          906428  Canada             Yukon      Whitehorse     Y2K 6R0   \n",
       "\n",
       "       Gender             Education   Salary Marital Status Loyalty Card  \\\n",
       "1082     Male  High School or Below -49830.0       Divorced         Star   \n",
       "1894   Female              Bachelor -12497.0        Married       Aurora   \n",
       "2471   Female              Bachelor -46683.0         Single         Nova   \n",
       "3575     Male              Bachelor -45962.0        Married         Star   \n",
       "3932   Female              Bachelor -19325.0         Single         Star   \n",
       "4712     Male              Bachelor -43234.0        Married         Star   \n",
       "6560     Male              Bachelor -10605.0        Married         Nova   \n",
       "6570     Male              Bachelor -17534.0        Married         Nova   \n",
       "7373   Female              Bachelor -58486.0        Married       Aurora   \n",
       "8576   Female              Bachelor -31911.0        Married         Nova   \n",
       "8767     Male              Bachelor -49001.0        Married         Nova   \n",
       "10232  Female              Bachelor -34079.0        Married         Nova   \n",
       "11635  Female              Bachelor  -9081.0        Married         Star   \n",
       "12596    Male              Bachelor -46470.0        Married         Star   \n",
       "13564  Female              Bachelor -26322.0         Single       Aurora   \n",
       "14327  Female              Bachelor -47310.0        Married         Nova   \n",
       "14355    Male              Bachelor -39503.0        Married         Nova   \n",
       "15416  Female              Bachelor -19332.0       Divorced         Star   \n",
       "16431    Male              Bachelor -46303.0        Married         Nova   \n",
       "16735    Male              Bachelor -57297.0        Married         Star   \n",
       "\n",
       "            CLV Enrollment Type  Enrollment Year  Enrollment Month  \\\n",
       "1082   24127.50  2018 Promotion             2018                 3   \n",
       "1894    9453.00  2018 Promotion             2018                 3   \n",
       "2471    4787.81  2018 Promotion             2018                 3   \n",
       "3575    2402.33  2018 Promotion             2018                 3   \n",
       "3932    2893.74  2018 Promotion             2018                 3   \n",
       "4712    7597.91  2018 Promotion             2018                 3   \n",
       "6560    5860.17  2018 Promotion             2018                 4   \n",
       "6570   49423.80  2018 Promotion             2018                 3   \n",
       "7373    5067.21  2018 Promotion             2018                 2   \n",
       "8576    2888.85  2018 Promotion             2018                 2   \n",
       "8767    3130.68  2018 Promotion             2018                 2   \n",
       "10232  12913.50  2018 Promotion             2018                 2   \n",
       "11635   6915.73  2018 Promotion             2018                 4   \n",
       "12596   4786.89  2018 Promotion             2018                 4   \n",
       "13564  16710.84  2018 Promotion             2018                 4   \n",
       "14327   6366.23  2018 Promotion             2018                 3   \n",
       "14355   6446.71  2018 Promotion             2018                 3   \n",
       "15416   5308.29  2018 Promotion             2018                 2   \n",
       "16431  11280.73  2018 Promotion             2018                 4   \n",
       "16735  10018.66  2018 Promotion             2018                 4   \n",
       "\n",
       "       Cancellation Year  Cancellation Month  \n",
       "1082                 NaN                 NaN  \n",
       "1894                 NaN                 NaN  \n",
       "2471                 NaN                 NaN  \n",
       "3575                 NaN                 NaN  \n",
       "3932                 NaN                 NaN  \n",
       "4712                 NaN                 NaN  \n",
       "6560                 NaN                 NaN  \n",
       "6570                 NaN                 NaN  \n",
       "7373                 NaN                 NaN  \n",
       "8576                 NaN                 NaN  \n",
       "8767                 NaN                 NaN  \n",
       "10232                NaN                 NaN  \n",
       "11635                NaN                 NaN  \n",
       "12596             2018.0                 8.0  \n",
       "13564             2018.0                12.0  \n",
       "14327                NaN                 NaN  \n",
       "14355                NaN                 NaN  \n",
       "15416                NaN                 NaN  \n",
       "16431                NaN                 NaN  \n",
       "16735                NaN                 NaN  "
      ]
     },
     "execution_count": 51,
     "metadata": {},
     "output_type": "execute_result"
    }
   ],
   "source": [
    "# quiero ver las columnas no sé si sirve pero me ayuda\n",
    "# ¡¡¡¡¡decision!!! tendre que hacerlos nulos o darles valor +\n",
    "salario_negativo"
   ]
  },
  {
   "cell_type": "code",
   "execution_count": 54,
   "metadata": {},
   "outputs": [
    {
     "name": "stdout",
     "output_type": "stream",
     "text": [
      "Número de salarios negativos después de la corrección: 0\n"
     ]
    }
   ],
   "source": [
    "# voy a usar apply para transformar los salarios negativos en positivos\n",
    "# en los apuntes usamos el método apply () y usaremos la funcion lambda es del Módulo 1\n",
    "# enla columna salario transformame el valor negativo en positivo\n",
    "df2['Salary'] = df2['Salary'].apply(lambda x: abs(x) if x < 0 else x)\n",
    "\n",
    "# Verificar si los salarios negativos han sido corregidos\n",
    "salario_negativo = df2[df2['Salary'] < 0]\n",
    "cuenta_salario_negativo = salario_negativo.shape[0]\n",
    "print(f\"Número de salarios negativos después de la corrección: {cuenta_salario_negativo}\")\n"
   ]
  },
  {
   "cell_type": "code",
   "execution_count": 59,
   "metadata": {},
   "outputs": [
    {
     "name": "stdout",
     "output_type": "stream",
     "text": [
      "              Education         Salary\n",
      "0              Bachelor   72577.254415\n",
      "1               College            NaN\n",
      "2                Doctor  178608.897820\n",
      "3  High School or Below   61199.161125\n",
      "4                Master  103757.848425\n"
     ]
    }
   ],
   "source": [
    "# voy agrupar en un df para trabajar mejor y calcular el promedio \n",
    "df_salario_nivel_educ = df2.groupby('Education')['Salary'].mean().reset_index()\n",
    "\n",
    "print(df_salario_nivel_educ)"
   ]
  },
  {
   "cell_type": "code",
   "execution_count": 60,
   "metadata": {},
   "outputs": [
    {
     "name": "stdout",
     "output_type": "stream",
     "text": [
      "Total de salarios nulos: 4238\n"
     ]
    }
   ],
   "source": [
    "# Contar el total de valores nulos en la columna 'Salary'\n",
    "salarios_nulos = df2['Salary'].isnull().sum()\n",
    "print(f\"Total de salarios nulos: {salarios_nulos}\")\n"
   ]
  },
  {
   "cell_type": "code",
   "execution_count": 62,
   "metadata": {},
   "outputs": [
    {
     "name": "stdout",
     "output_type": "stream",
     "text": [
      "Education       0\n",
      "Salary       4238\n",
      "dtype: int64\n"
     ]
    }
   ],
   "source": [
    "# Verificar si hay valores nulos para \"College\" \n",
    "college_salarios = df2[df2['Education'] == 'College']\n",
    "print(college_salarios[['Education', 'Salary']].isnull().sum())\n"
   ]
  },
  {
   "cell_type": "code",
   "execution_count": 63,
   "metadata": {},
   "outputs": [],
   "source": [
    "# como no sabia que hacer he buscado en internet \n",
    "# me dice que use el metodo \"fillna\" en los apuntes me explica que es un metodo para cubrir con un promedio\n",
    "# Reemplazar valores nulos en 'Salary' con la mediana del salario\n",
    "# el inplace es un valor booleanao para  modificar el valor original TRUE\n",
    "median_salary = df2['Salary'].median()\n",
    "df2['Salary'].fillna(median_salary, inplace=True)\n"
   ]
  },
  {
   "cell_type": "code",
   "execution_count": 64,
   "metadata": {},
   "outputs": [
    {
     "name": "stdout",
     "output_type": "stream",
     "text": [
      "              Education         Salary\n",
      "0              Bachelor   72577.254415\n",
      "1               College   73455.000000\n",
      "2                Doctor  178608.897820\n",
      "3  High School or Below   61199.161125\n",
      "4                Master  103757.848425\n"
     ]
    }
   ],
   "source": [
    "# voy agrupar en un df para trabajar mejor y calcular el promedio  NUEVO\n",
    "df_salario_nivel_educ = df2.groupby('Education')['Salary'].mean().reset_index()\n",
    "\n",
    "print(df_salario_nivel_educ)"
   ]
  },
  {
   "cell_type": "code",
   "execution_count": 70,
   "metadata": {},
   "outputs": [
    {
     "data": {
      "image/png": "[encoded data removed]",
      "text/plain": [
       "<Figure size 432x288 with 1 Axes>"
      ]
     },
     "metadata": {
      "needs_background": "light"
     },
     "output_type": "display_data"
    }
   ],
   "source": [
    "# Crear un gráfico de barras\n",
    "sns.barplot(x='Education', y='Salary', data=df_salario_nivel_educ)\n",
    "plt.xlabel('Nive Educativo')\n",
    "plt.ylabel('Salario Promedio')\n",
    "plt.title('Comparación del Salario Promedio por Nivel Educativo')\n",
    "plt.xticks(rotation=30)  # Rotar los nombres de las provincias si son demasiadas\n",
    "plt.show()"
   ]
  },
  {
   "cell_type": "markdown",
   "metadata": {},
   "source": [
    "# FASE II:VISUALIZACIÓN\n",
    "### 5. ¿Cuál es la proporcion de clientes con diferentes tipos de tarjetas de fidelidad?"
   ]
  },
  {
   "cell_type": "code",
   "execution_count": 71,
   "metadata": {},
   "outputs": [
    {
     "data": {
      "text/plain": [
       "Index(['Loyalty Number', 'Country', 'Province', 'City', 'Postal Code',\n",
       "       'Gender', 'Education', 'Salary', 'Marital Status', 'Loyalty Card',\n",
       "       'CLV', 'Enrollment Type', 'Enrollment Year', 'Enrollment Month',\n",
       "       'Cancellation Year', 'Cancellation Month'],\n",
       "      dtype='object')"
      ]
     },
     "execution_count": 71,
     "metadata": {},
     "output_type": "execute_result"
    }
   ],
   "source": [
    "df2.columns"
   ]
  },
  {
   "cell_type": "code",
   "execution_count": null,
   "metadata": {},
   "outputs": [],
   "source": [
    "# vamos a usar la varible 'Loyalty Number' 'Loyalty Card'"
   ]
  },
  {
   "cell_type": "code",
   "execution_count": 72,
   "metadata": {},
   "outputs": [
    {
     "data": {
      "text/plain": [
       "Star      7637\n",
       "Nova      5671\n",
       "Aurora    3429\n",
       "Name: Loyalty Card, dtype: int64"
      ]
     },
     "execution_count": 72,
     "metadata": {},
     "output_type": "execute_result"
    }
   ],
   "source": [
    "df2['Loyalty Card'].value_counts()"
   ]
  },
  {
   "cell_type": "code",
   "execution_count": 76,
   "metadata": {},
   "outputs": [
    {
     "name": "stdout",
     "output_type": "stream",
     "text": [
      "  Loyalty Card  Loyalty Number\n",
      "0       Aurora            3429\n",
      "1         Nova            5671\n",
      "2         Star            7637\n"
     ]
    }
   ],
   "source": [
    "# voy agrupar en un df para trabajar mejor y calcular el promedio\n",
    "df2_tipo_de_tarjeta = df2.groupby('Loyalty Card')['Loyalty Number'].count().reset_index()\n",
    "\n",
    "print(df2_tipo_de_tarjeta)"
   ]
  },
  {
   "cell_type": "code",
   "execution_count": 88,
   "metadata": {},
   "outputs": [
    {
     "data": {
      "image/png": "[encoded data removed]",
      "text/plain": [
       "<Figure size 576x576 with 1 Axes>"
      ]
     },
     "metadata": {},
     "output_type": "display_data"
    }
   ],
   "source": [
    "# Definir los colores\n",
    "colores = ['gold', 'orange', 'pink']\n",
    "\n",
    "plt.figure(figsize=(8, 8))\n",
    "plt.pie(df2_tipo_de_tarjeta['Loyalty Number'], labels=df2_tipo_de_tarjeta['Loyalty Card'], \n",
    "        autopct='%1.1f%%', \n",
    "        startangle=90,\n",
    "        colors=colores); \n",
    "\n",
    "# Añadir un título\n",
    "plt.title('Proporción de Clientes por Tipo de Tarjeta de Fidelidad')\n",
    "\n",
    "\n",
    "# Mostrar el gráfico\n",
    "plt.show()\n"
   ]
  },
  {
   "cell_type": "markdown",
   "metadata": {},
   "source": [
    "# FASE II:VISUALIZACIÓN\n",
    "### 6. ¿Cómo se distribuyen los clientes según su estado civil y género?"
   ]
  },
  {
   "cell_type": "code",
   "execution_count": null,
   "metadata": {},
   "outputs": [],
   "source": [
    "\n",
    "# 'Marital Status''Gender''Loyalty Number'"
   ]
  },
  {
   "cell_type": "code",
   "execution_count": 95,
   "metadata": {},
   "outputs": [
    {
     "name": "stdout",
     "output_type": "stream",
     "text": [
      "  Marital Status  Loyalty Number\n",
      "0       Divorced            2518\n",
      "1        Married            9735\n",
      "2         Single            4484\n"
     ]
    }
   ],
   "source": [
    "# voy agrupar en un df para trabajar mejor\n",
    "# voy agrupar en un df para trabajar mejor y calcular el promedio\n",
    "df2_estado_civil = df2.groupby('Marital Status')['Loyalty Number'].count().reset_index()\n",
    "\n",
    "print(df2_estado_civil)\n"
   ]
  },
  {
   "cell_type": "code",
   "execution_count": 96,
   "metadata": {},
   "outputs": [
    {
     "name": "stdout",
     "output_type": "stream",
     "text": [
      "   Gender  Loyalty Number\n",
      "0  Female            8410\n",
      "1    Male            8327\n"
     ]
    }
   ],
   "source": [
    "# voy agrupar en un df para trabajar mejor\n",
    "# voy agrupar en un df para trabajar mejor y calcular el promedio\n",
    "df2_genero = df2.groupby('Gender')['Loyalty Number'].count().reset_index()\n",
    "\n",
    "print(df2_genero)"
   ]
  },
  {
   "cell_type": "code",
   "execution_count": 97,
   "metadata": {},
   "outputs": [
    {
     "name": "stdout",
     "output_type": "stream",
     "text": [
      "   Gender Marital Status  Cantidad de Clientes\n",
      "0  Female       Divorced                  1269\n",
      "1  Female        Married                  4869\n",
      "2  Female         Single                  2272\n",
      "3    Male       Divorced                  1249\n",
      "4    Male        Married                  4866\n",
      "5    Male         Single                  2212\n"
     ]
    }
   ],
   "source": [
    "# Agrupar por género y estado civil, y contar la cantidad de clientes en cada grupo\n",
    "df2_genero_estado_civil = df2.groupby(['Gender', 'Marital Status'])['Loyalty Number'].count().reset_index()\n",
    "\n",
    "# Renombrar la columna de 'Loyalty Number' para mayor claridad\n",
    "df2_genero_estado_civil = df2_genero_estado_civil.rename(columns={'Loyalty Number': 'Cantidad de Clientes'})\n",
    "\n",
    "# Mostrar el resultado\n",
    "print(df2_genero_estado_civil)\n"
   ]
  },
  {
   "cell_type": "code",
   "execution_count": 103,
   "metadata": {},
   "outputs": [],
   "source": [
    "# Crear un conjunto de datos para mujer y otro para hombre\n",
    "df2_mujer = df2_genero_estado_civil [df2_genero_estado_civil ['Gender']== 'Female']\n",
    "df2_hombre = df2_genero_estado_civil [df2_genero_estado_civil['Gender']== 'Male']"
   ]
  },
  {
   "cell_type": "code",
   "execution_count": 104,
   "metadata": {},
   "outputs": [
    {
     "data": {
      "image/png": "[encoded data removed]",
      "text/plain": [
       "<Figure size 432x288 with 1 Axes>"
      ]
     },
     "metadata": {
      "needs_background": "light"
     },
     "output_type": "display_data"
    }
   ],
   "source": [
    "# Crear un gráfico de barras para mujeres\n",
    "plt.bar(df2_mujer['Marital Status'], df2_mujer['Cantidad de Clientes'], color=\"violet\", edgecolor=\"black\")\n",
    "\n",
    "# Añado las etiquetas del eje x y el y, título del gráfico y colores \n",
    "plt.xlabel('Estado civil', fontsize=15)\n",
    "plt.ylabel('Cantidad de Clientes', fontsize=15)\n",
    "plt.title('Clientes Mujeres según Estado Civil')\n",
    "\n",
    "# Mostrar el gráfico\n",
    "plt.show()\n"
   ]
  },
  {
   "cell_type": "code",
   "execution_count": 106,
   "metadata": {},
   "outputs": [
    {
     "data": {
      "image/png": "[encoded data removed]",
      "text/plain": [
       "<Figure size 432x288 with 1 Axes>"
      ]
     },
     "metadata": {
      "needs_background": "light"
     },
     "output_type": "display_data"
    }
   ],
   "source": [
    "# Crear un gráfico de barras para hombres\n",
    "plt.bar(df2_hombre['Marital Status'], df2_hombre['Cantidad de Clientes'], color=\"green\", edgecolor=\"black\")\n",
    "\n",
    "# Añado las etiquetas del eje x y el y, título del gráfico y colores \n",
    "plt.xlabel('Estado civil', fontsize=15)\n",
    "plt.ylabel('Cantidad de Clientes', fontsize=15)\n",
    "plt.title('Clientes Hombres según Estado Civil')\n",
    "\n",
    "# Mostrar el gráfico\n",
    "plt.show()\n"
   ]
  },
  {
   "cell_type": "code",
   "execution_count": 108,
   "metadata": {},
   "outputs": [
    {
     "data": {
      "image/png": "[encoded data removed]",
      "text/plain": [
       "<Figure size 720x432 with 1 Axes>"
      ]
     },
     "metadata": {
      "needs_background": "light"
     },
     "output_type": "display_data"
    }
   ],
   "source": [
    "# Crear los datos necesarios para el gráfico\n",
    "estado_civil = df2_genero_estado_civil['Marital Status'].unique()\n",
    "\n",
    "# Alinear las barras con base en los estados civiles ESTO NO ME SALIA LO HE TENIDO QUE MIRAR \n",
    "mujer_vals = df2_mujer.set_index('Marital Status').reindex(estado_civil)['Cantidad de Clientes'].fillna(0).values\n",
    "hombre_vals = df2_hombre.set_index('Marital Status').reindex(estado_civil)['Cantidad de Clientes'].fillna(0).values\n",
    "\n",
    "# Configuración del gráfico\n",
    "width = 0.35  # Ancho de las barras\n",
    "x = np.arange(len(estado_civil))  # La posición de las etiquetas del eje x\n",
    "\n",
    "plt.figure(figsize=(10, 6))\n",
    "\n",
    "# Crear barras para mujeres y hombres\n",
    "plt.bar(x - width/2, mujer_vals, width, label='Mujer', color=\"violet\", edgecolor=\"black\")\n",
    "plt.bar(x + width/2, hombre_vals, width, label='Hombre', color=\"green\", edgecolor=\"black\")\n",
    "\n",
    "# Añadir etiquetas y formato\n",
    "plt.xlabel('Estado Civil', fontsize=15)\n",
    "plt.ylabel('Cantidad de Clientes', fontsize=15)\n",
    "plt.title('Comparación de Clientes Hombres y Mujeres según Estado Civil', fontsize=18)\n",
    "plt.xticks(x, estado_civil, rotation=45)  # Colocar etiquetas del eje x\n",
    "plt.legend()\n",
    "\n",
    "# Mostrar el gráfico\n",
    "plt.tight_layout()\n",
    "plt.show()"
   ]
  },
  {
   "cell_type": "code",
   "execution_count": null,
   "metadata": {},
   "outputs": [],
   "source": []
  }
 ],
 "metadata": {
  "kernelspec": {
   "display_name": "base",
   "language": "python",
   "name": "python3"
  },
  "language_info": {
   "codemirror_mode": {
    "name": "ipython",
    "version": 3
   },
   "file_extension": ".py",
   "mimetype": "text/x-python",
   "name": "python",
   "nbconvert_exporter": "python",
   "pygments_lexer": "ipython3",
   "version": "3.9.7"
  }
 },
 "nbformat": 4,
 "nbformat_minor": 2
}
